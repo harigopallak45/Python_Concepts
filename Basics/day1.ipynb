{
 "cells": [
  {
   "cell_type": "code",
   "execution_count": 4,
   "metadata": {},
   "outputs": [
    {
     "name": "stdout",
     "output_type": "stream",
     "text": [
      "[1, 2]\n",
      "[3, 'jacksparrow']\n",
      "['Manchester city', 'wayne Rooly']\n",
      "[3, 2, 1]\n",
      "['wayne Rooly', 3, 1]\n",
      "['Manchester city', 'jacksparrow']\n",
      "spa\n",
      "Roo\n",
      "ytic\n",
      "jack\n",
      "jk\n",
      "sarw\n",
      "worrapskcaj\n",
      "wayne\n",
      "wayne\n"
     ]
    }
   ],
   "source": [
    "#Slicing with and without\n",
    "\n",
    "l = [1,2,3,\"jacksparrow\",\"wayne Rooly\",\"Manchester city\"]\n",
    "\n",
    "print(l[:2])\n",
    "print(l[2:4])\n",
    "print(l[5:3:-1])\n",
    "print(l[2::-1])\n",
    "print(l[-2::-2])\n",
    "print(l[:-4:-2])\n",
    "print(l[3][4:7])\n",
    "print(l[4][6:9:1])\n",
    "print(l[-1][:-5:-1])\n",
    "print(l[3][:4:1])\n",
    "print(l[3][:4:3])\n",
    "print(l[3][-7::2])\n",
    "print(l[3][-1::-1])\n",
    "print(l[4][:5])\n",
    "print(l[4][-11:-6])"
   ]
  },
  {
   "cell_type": "code",
   "execution_count": null,
   "metadata": {},
   "outputs": [],
   "source": []
  },
  {
   "cell_type": "code",
   "execution_count": 30,
   "metadata": {},
   "outputs": [
    {
     "name": "stdout",
     "output_type": "stream",
     "text": [
      "jor\n",
      "black\n",
      "['james wilson']\n",
      "will\n",
      "james\n",
      "[40, 200, 300]\n",
      "mount\n",
      "aes\n",
      "name: menson mount age: 24 club: cheslsea\n",
      "menson mount 24 cheslsea\n",
      "men 24 che\n"
     ]
    }
   ],
   "source": [
    "l=[\"jordan\",\"willblack\",[300,200,40,\"james wilson\"],{1:{\"name\":\"menson mount\",\"age\":24,\"club\":\"cheslsea\"}}]\n",
    "\n",
    "\n",
    "print(l[0][:3])\n",
    "print(l[1][4:])\n",
    "print(l[2][3:])\n",
    "print(l[1][:4])\n",
    "print(l[2][3][:5]) \n",
    "print(l[2][-2::-1])  \n",
    "print(l[3][1][\"name\"][7:]) \n",
    "print(l[3][1][\"club\"][-1:-4:-1])\n",
    "\n",
    "print(\"name:\", l[3][1][\"name\"], \"age:\", l[3][1][\"age\"], \"club:\", l[3][1][\"club\"])\n",
    "print(l[3][1][\"name\"], l[3][1][\"age\"], l[3][1][\"club\"])\n",
    "print(l[3][1][\"name\"][0:3], l[3][1][\"age\"], l[3][1][\"club\"][0:3])\n"
   ]
  },
  {
   "cell_type": "code",
   "execution_count": 8,
   "metadata": {},
   "outputs": [
    {
     "ename": "TypeError",
     "evalue": "unsupported operand type(s) for +: 'set' and 'set'",
     "output_type": "error",
     "traceback": [
      "\u001b[1;31m---------------------------------------------------------------------------\u001b[0m",
      "\u001b[1;31mTypeError\u001b[0m                                 Traceback (most recent call last)",
      "Cell \u001b[1;32mIn[8], line 3\u001b[0m\n\u001b[0;32m      1\u001b[0m \u001b[38;5;28mset\u001b[39m\u001b[38;5;241m=\u001b[39m{\u001b[38;5;241m1\u001b[39m,\u001b[38;5;241m2\u001b[39m,\u001b[38;5;241m3\u001b[39m,\u001b[38;5;124m\"\u001b[39m\u001b[38;5;124mhari\u001b[39m\u001b[38;5;124m\"\u001b[39m}\n\u001b[0;32m      2\u001b[0m s2\u001b[38;5;241m=\u001b[39m{\u001b[38;5;241m5\u001b[39m,\u001b[38;5;241m6\u001b[39m,\u001b[38;5;124m\"\u001b[39m\u001b[38;5;124mharan\u001b[39m\u001b[38;5;124m\"\u001b[39m}\n\u001b[1;32m----> 3\u001b[0m a\u001b[38;5;241m=\u001b[39m\u001b[38;5;28;43mset\u001b[39;49m\u001b[38;5;241;43m+\u001b[39;49m\u001b[43ms2\u001b[49m\n\u001b[0;32m      4\u001b[0m \u001b[38;5;28mprint\u001b[39m(a)\n",
      "\u001b[1;31mTypeError\u001b[0m: unsupported operand type(s) for +: 'set' and 'set'"
     ]
    }
   ],
   "source": [
    "set={1:2,2:3,3:\"hari\"}\n",
    "s2={5,6,\"haran\"}\n",
    "a=set+s2\n",
    "print(a)"
   ]
  },
  {
   "cell_type": "code",
   "execution_count": 22,
   "metadata": {},
   "outputs": [
    {
     "name": "stdout",
     "output_type": "stream",
     "text": [
      "harihari\n"
     ]
    }
   ],
   "source": [
    "srt=[1,2,3]\n",
    "l=2\n",
    "print(str*l)"
   ]
  },
  {
   "cell_type": "code",
   "execution_count": 23,
   "metadata": {},
   "outputs": [
    {
     "name": "stdout",
     "output_type": "stream",
     "text": [
      "harihari\n"
     ]
    }
   ],
   "source": [
    "srt=[1,2,3]\n",
    "l=2\n",
    "print(str*l)"
   ]
  },
  {
   "cell_type": "code",
   "execution_count": 30,
   "metadata": {},
   "outputs": [
    {
     "name": "stdout",
     "output_type": "stream",
     "text": [
      "True\n"
     ]
    }
   ],
   "source": [
    "\n",
    "l1=[\"eat\",3,4]\n",
    "l2=[\"ate\",2,3,5]\n",
    "print(l1>l2)"
   ]
  },
  {
   "cell_type": "code",
   "execution_count": 38,
   "metadata": {},
   "outputs": [
    {
     "name": "stdout",
     "output_type": "stream",
     "text": [
      "False\n"
     ]
    }
   ],
   "source": [
    "s1={6,23,4}\n",
    "s2={4,6,5}\n",
    "print(s1>s2)"
   ]
  },
  {
   "cell_type": "code",
   "execution_count": 39,
   "metadata": {},
   "outputs": [
    {
     "name": "stdout",
     "output_type": "stream",
     "text": [
      "True\n"
     ]
    }
   ],
   "source": [
    "s1=1+3j\n",
    "s2=4+4j\n",
    "print(s1!=s2)"
   ]
  },
  {
   "cell_type": "code",
   "execution_count": null,
   "metadata": {},
   "outputs": [],
   "source": [
    "{}"
   ]
  },
  {
   "cell_type": "code",
   "execution_count": 40,
   "metadata": {},
   "outputs": [
    {
     "name": "stdout",
     "output_type": "stream",
     "text": [
      "False\n"
     ]
    }
   ],
   "source": [
    "print([1,2,3]=={5,6,7})"
   ]
  },
  {
   "cell_type": "code",
   "execution_count": 42,
   "metadata": {},
   "outputs": [
    {
     "name": "stdout",
     "output_type": "stream",
     "text": [
      "(7+3j)\n"
     ]
    }
   ],
   "source": [
    "c=(2+3j)\n",
    "c+=5\n",
    "print(c)"
   ]
  },
  {
   "cell_type": "code",
   "execution_count": 46,
   "metadata": {},
   "outputs": [
    {
     "name": "stdout",
     "output_type": "stream",
     "text": [
      "(3.0135091161271146+0.041048099994666215j)\n"
     ]
    }
   ],
   "source": [
    "print(3-9j**2j)"
   ]
  },
  {
   "cell_type": "code",
   "execution_count": 1,
   "metadata": {},
   "outputs": [
    {
     "name": "stdout",
     "output_type": "stream",
     "text": [
      "(-7+0j)\n"
     ]
    }
   ],
   "source": [
    "print(2+3j**2)"
   ]
  },
  {
   "cell_type": "code",
   "execution_count": null,
   "metadata": {},
   "outputs": [],
   "source": []
  },
  {
   "cell_type": "code",
   "execution_count": 51,
   "metadata": {},
   "outputs": [
    {
     "name": "stdout",
     "output_type": "stream",
     "text": [
      "True\n"
     ]
    }
   ],
   "source": [
    "l='A'\n",
    "e=not(l>='a'and l<='z')\n",
    "print(e)"
   ]
  },
  {
   "cell_type": "code",
   "execution_count": null,
   "metadata": {},
   "outputs": [],
   "source": [
    "n=234\n",
    "a=len(n)\n",
    "    "
   ]
  },
  {
   "cell_type": "code",
   "execution_count": null,
   "metadata": {},
   "outputs": [],
   "source": []
  },
  {
   "cell_type": "code",
   "execution_count": 56,
   "metadata": {},
   "outputs": [
    {
     "name": "stdout",
     "output_type": "stream",
     "text": [
      "True\n"
     ]
    }
   ],
   "source": [
    "ch='@'\n",
    "temp=not(ch>='a' and ch<='z' or ch>='A' )and ch<='Z' or ch>='0' and ch<='9'\n",
    "print(temp)\n"
   ]
  },
  {
   "cell_type": "code",
   "execution_count": 6,
   "metadata": {},
   "outputs": [
    {
     "name": "stdout",
     "output_type": "stream",
     "text": [
      "False\n"
     ]
    }
   ],
   "source": [
    "str='abcDefg'\n",
    "mid=len(str)//2\n",
    "ch=str[mid]>='a' and str[mid]<='z'\n",
    "print(ch)"
   ]
  },
  {
   "cell_type": "code",
   "execution_count": null,
   "metadata": {},
   "outputs": [],
   "source": [
    "str=input()\n",
    "mid=len(str)//2\n",
    "ch=str[mid]<='a' and str[mid]>='z'\n",
    "print(ch)"
   ]
  },
  {
   "cell_type": "code",
   "execution_count": 12,
   "metadata": {},
   "outputs": [
    {
     "name": "stdout",
     "output_type": "stream",
     "text": [
      "True\n",
      "True\n",
      "False\n",
      "True\n",
      "False\n"
     ]
    }
   ],
   "source": [
    "\n",
    "s=['python',\"hari\",4,\"hai\"]\n",
    "print('p' in s)\n",
    "print('py' in s)\n",
    "print('pt' in s)\n",
    "print('no' not in s)\n",
    "print('4' in s)"
   ]
  },
  {
   "cell_type": "code",
   "execution_count": 19,
   "metadata": {},
   "outputs": [
    {
     "name": "stdout",
     "output_type": "stream",
     "text": [
      "True\n",
      "140730268776984 140730268776984\n"
     ]
    }
   ],
   "source": [
    "a =4\n",
    "\n",
    "b= 4\n",
    "print(a is b)\n",
    "print(id(a),id(b))"
   ]
  },
  {
   "cell_type": "code",
   "execution_count": 2,
   "metadata": {},
   "outputs": [
    {
     "name": "stdout",
     "output_type": "stream",
     "text": [
      "False\n",
      "140729558628888 140729558628888\n",
      "True\n",
      "False\n"
     ]
    }
   ],
   "source": [
    "a =4\n",
    "\n",
    "b= 4\n",
    "print(a is not b)\n",
    "print(id(a),id(b))\n",
    "print(a==b)\n",
    "print(a!=b)\n"
   ]
  },
  {
   "cell_type": "code",
   "execution_count": 4,
   "metadata": {},
   "outputs": [
    {
     "name": "stdout",
     "output_type": "stream",
     "text": [
      "-3\n"
     ]
    }
   ],
   "source": [
    "x=2\n",
    "print(~x)"
   ]
  },
  {
   "cell_type": "code",
   "execution_count": 6,
   "metadata": {},
   "outputs": [
    {
     "name": "stdout",
     "output_type": "stream",
     "text": [
      "2\n"
     ]
    }
   ],
   "source": [
    "x=2\n",
    "y=3\n",
    "print(x&y)"
   ]
  },
  {
   "cell_type": "code",
   "execution_count": 11,
   "metadata": {},
   "outputs": [
    {
     "name": "stdout",
     "output_type": "stream",
     "text": [
      "2\n",
      "14\n",
      "12\n",
      "1\n",
      "24\n"
     ]
    }
   ],
   "source": [
    "x=6\n",
    "y=10\n",
    "print(x&y)\n",
    "print(x|y)\n",
    "print( x ^ y) \n",
    "print(x >> 2)\n",
    "print( x << 2)"
   ]
  },
  {
   "cell_type": "code",
   "execution_count": 21,
   "metadata": {},
   "outputs": [
    {
     "name": "stdout",
     "output_type": "stream",
     "text": [
      "27\n",
      "haricoding\n",
      "17\n",
      "110\n",
      "hariharihariharihari\n",
      "pythonpythonpythonpythonpython\n",
      "4.4\n",
      "2\n",
      "5153632\n",
      "4\n",
      "[1, 2, 3, 4, 5, 6]\n",
      "[1, 2, 3, 1, 2, 3]\n",
      "example test\n",
      "exampleexample\n",
      "(1, 2, 3, 4, 5, 6)\n",
      "(1, 2, 3, 1, 2, 3)\n",
      "(4+6j)\n",
      "(6+8j)\n",
      "8.0\n",
      "11.4\n",
      "1\n",
      "2\n",
      "22.0\n"
     ]
    }
   ],
   "source": [
    "a = \"hari\"\n",
    "b = 22\n",
    "c = \"coding\"\n",
    "d = 5\n",
    "e = \"python\"\n",
    "f = 5\n",
    "\n",
    "# Addition\n",
    "print(b + d)  # 27\n",
    "print(a + c)  # \"haricoding\"\n",
    "# print(e + f)  # TypeError: can only concatenate str (not \"int\") to str\n",
    "\n",
    "# Subtraction\n",
    "print(b - d)  # 17\n",
    "# print(a - c)  # TypeError: unsupported operand type(s) for -: 'str' and 'str'\n",
    "# print(e - f)  # TypeError: unsupported operand type(s) for -: 'str' and 'int'\n",
    "\n",
    "# Multiplication\n",
    "print(b * d)  # 110\n",
    "print(a * d)  # \"hariharihariharihari\"\n",
    "print(e * f)  # \"pythonpythonpythonpythonpython\"\n",
    "\n",
    "# Division\n",
    "print(b / d)  # 4.4\n",
    "# print(a / c)  # TypeError: unsupported operand type(s) for /: 'str' and 'str'\n",
    "# print(e / f)  # TypeError: unsupported operand type(s) for /: 'str' and 'int'\n",
    "\n",
    "# Modulus\n",
    "print(b % d)  # 2\n",
    "# print(a % c)  # TypeError: not all arguments converted during string formatting\n",
    "# print(e % f)  # TypeError: not all arguments converted during string formatting\n",
    "\n",
    "# Exponentiation\n",
    "print(b ** d)  # 5153632\n",
    "# print(a ** c)  # TypeError: unsupported operand type(s) for ** or pow(): 'str' and 'str'\n",
    "# print(e ** f)  # TypeError: unsupported operand type(s) for ** or pow(): 'str' and 'int'\n",
    "\n",
    "# Floor Division\n",
    "print(b // d)  # 4\n",
    "# print(a // c)  # TypeError: unsupported operand type(s) for //: 'str' and 'str'\n",
    "# print(e // f)  # TypeError: unsupported operand type(s) for //: 'str' and 'int'\n",
    "\n",
    "list_var = [1, 2, 3]\n",
    "str_var = \"example\"\n",
    "dict_var = {\"key\": \"value\"}\n",
    "tuple_var = (1, 2, 3)\n",
    "set_var = {1, 2, 3}\n",
    "complex_var = 3 + 4j\n",
    "float_var = 5.7\n",
    "bool_var = True\n",
    "\n",
    "# List operations\n",
    "print(list_var + [4, 5, 6])  # [1, 2, 3, 4, 5, 6]\n",
    "print(list_var * 2)  # [1, 2, 3, 1, 2, 3]\n",
    "\n",
    "# String operations\n",
    "print(str_var + \" test\")  # \"example test\"\n",
    "print(str_var * 2)  # \"exampleexample\"\n",
    "\n",
    "# Dictionary operations\n",
    "# print(dict_var + {\"another_key\": \"another_value\"})  # TypeError: unsupported operand type(s) for +: 'dict' and 'dict'\n",
    "# print(dict_var * 2)  # TypeError: unsupported operand type(s) for *: 'dict' and 'int'\n",
    "\n",
    "# Tuple operations\n",
    "print(tuple_var + (4, 5, 6))  # (1, 2, 3, 4, 5, 6)\n",
    "print(tuple_var * 2)  # (1, 2, 3, 1, 2, 3)\n",
    "\n",
    "# Set operations\n",
    "# print(set_var + {4, 5, 6})  # TypeError: unsupported operand type(s) for +: 'set' and 'set'\n",
    "# print(set_var * 2)  # TypeError: unsupported operand type(s) for *: 'set' and 'int'\n",
    "\n",
    "# Complex number operations\n",
    "print(complex_var + (1 + 2j))  # (4+6j)\n",
    "print(complex_var * 2)  # (6+8j)\n",
    "\n",
    "# Float operations\n",
    "print(float_var + 2.3)  # 8.0\n",
    "print(float_var * 2)  # 11.4\n",
    "\n",
    "# Boolean operations\n",
    "print(bool_var + False)  # 1 (True is 1, False is 0)\n",
    "print(bool_var * 2)  # 2 (True is 1, so 1*2=2)\n",
    "\n",
    "# Division by boolean (treated as 1 or 0, may raise ZeroDivisionError)\n",
    "print(b / bool_var)  # 22.0 (22/1)\n",
    "# print(b / False)  # ZeroDivisionError: division by zero\n"
   ]
  },
  {
   "cell_type": "code",
   "execution_count": 22,
   "metadata": {},
   "outputs": [
    {
     "name": "stdout",
     "output_type": "stream",
     "text": [
      "987654\n"
     ]
    }
   ],
   "source": [
    "#reverse a number in runtime\n",
    "n=int(input())\n",
    "rev=0\n",
    "while n!=0:\n",
    "    rem=n%10\n",
    "    rev=rev*10+rem\n",
    "    n=n//10\n",
    "print(rev)"
   ]
  },
  {
   "cell_type": "code",
   "execution_count": 23,
   "metadata": {},
   "outputs": [
    {
     "name": "stdout",
     "output_type": "stream",
     "text": [
      "irah\n"
     ]
    }
   ],
   "source": [
    "#reverse the string in runtime\n",
    "n=input()\n",
    "rev=\"\"\n",
    "for i in n:\n",
    "    rev=i+rev\n",
    "print(rev)\n"
   ]
  },
  {
   "cell_type": "code",
   "execution_count": 26,
   "metadata": {},
   "outputs": [
    {
     "name": "stdout",
     "output_type": "stream",
     "text": [
      "[5, 4, 3, 2, 1]\n",
      "olleh\n",
      "olleh\n",
      "54321\n",
      "(5, 4, 3, 2, 1)\n",
      "{'e': 5, 'd': 4, 'c': 3, 'b': 2, 'a': 1}\n",
      "4.3\n",
      "False\n"
     ]
    }
   ],
   "source": [
    "#reverse the list not built in function\n",
    "n = [1, 2, 3, 4, 5]\n",
    "reversed_list = []\n",
    "for i in range(len(n) - 1, -1, -1):\n",
    "    reversed_list.append(n[i])\n",
    "print(reversed_list)\n",
    "\n",
    "#reverse the string not built in function\n",
    "n=\"hello\"\n",
    "print(n[::-1])\n",
    "\n",
    "reversed_string = \"\"\n",
    "for i in range(len(n) - 1, -1, -1):\n",
    "    reversed_string += n[i]\n",
    "print(reversed_string)\n",
    "\n",
    "#reverse the number not built in function\n",
    "n = 12345\n",
    "reversed_number = 0\n",
    "while n > 0:\n",
    "    reversed_number = reversed_number * 10 + n % 10\n",
    "    n //= 10\n",
    "print(reversed_number)\n",
    "\n",
    "#reverse the tuple not built in function\n",
    "n = (1, 2, 3, 4, 5)\n",
    "reversed_tuple = ()\n",
    "for i in range(len(n) - 1, -1, -1):\n",
    "    reversed_tuple += (n[i],)\n",
    "print(reversed_tuple)\n",
    "\n",
    "#reverse the set not built in function   but it is meaning less\n",
    "#reverse the dictionary not built in function\n",
    "n = {\"a\": 1, \"b\": 2, \"c\": 3, \"d\": 4, \"e\": 5}\n",
    "reversed_dict = {}\n",
    "keys = list(n.keys())\n",
    "for i in range(len(keys) - 1, -1, -1):\n",
    "    key = keys[i]\n",
    "    reversed_dict[key] = n[key]\n",
    "print(reversed_dict)\n",
    "\n",
    "#reverse the complex number not built in function    n=3+4j    print(n[::-1]) this will raise the error\n",
    "#reverse the float number not built in function\n",
    "n = 3.4\n",
    "reversed_float = float(str(n)[::-1])\n",
    "print(reversed_float)\n",
    "\n",
    "#reverse the boolean number not built in function\n",
    "n = True\n",
    "reversed_boolean = not n\n",
    "print(reversed_boolean)\n"
   ]
  },
  {
   "cell_type": "code",
   "execution_count": 3,
   "metadata": {},
   "outputs": [
    {
     "data": {
      "text/plain": [
       "65"
      ]
     },
     "execution_count": 3,
     "metadata": {},
     "output_type": "execute_result"
    }
   ],
   "source": [
    "chr(98)\n",
    "ord('A')"
   ]
  },
  {
   "cell_type": "code",
   "execution_count": 5,
   "metadata": {},
   "outputs": [
    {
     "name": "stdout",
     "output_type": "stream",
     "text": [
      "True\n"
     ]
    }
   ],
   "source": [
    "#write a condition to check the ascii of the mid chat i str is even \n",
    "str=\"hariharan\"\n",
    "mid=len(str)//2\n",
    "a=ord(str[mid])\n",
    "print(a%2==0)\n"
   ]
  },
  {
   "cell_type": "code",
   "execution_count": 8,
   "metadata": {},
   "outputs": [
    {
     "name": "stdout",
     "output_type": "stream",
     "text": [
      "not equal\n"
     ]
    }
   ],
   "source": [
    "#write a prg to check the firdt and lasst char of the givin str are equal or not\n",
    "h=\"python\"\n",
    "if h[1]==h[-1] :\n",
    "    print (\"equal\")\n",
    "else :\n",
    "    print(\"not equal\")"
   ]
  },
  {
   "cell_type": "code",
   "execution_count": 9,
   "metadata": {},
   "outputs": [
    {
     "name": "stdout",
     "output_type": "stream",
     "text": [
      "false\n"
     ]
    }
   ],
   "source": [
    "#write a prg to check last digit of the given is present btw 3 to 7  inclusive\n",
    "q=123\n",
    "temp=q%2\n",
    "if temp <=3 and temp >=7 :\n",
    "    print (\"True\")\n",
    "else :\n",
    "    print('false')\n"
   ]
  },
  {
   "cell_type": "code",
   "execution_count": 15,
   "metadata": {},
   "outputs": [
    {
     "name": "stdout",
     "output_type": "stream",
     "text": [
      "['1', ',', '2']\n"
     ]
    }
   ],
   "source": [
    "a=list(input())\n",
    "print( a)"
   ]
  },
  {
   "cell_type": "code",
   "execution_count": 22,
   "metadata": {},
   "outputs": [
    {
     "name": "stdout",
     "output_type": "stream",
     "text": [
      "8\n"
     ]
    }
   ],
   "source": [
    "#wtrie a prd to check that given char is digit if it is a digit then print sqare of the given char else print the same char any how prrint as program ends\n",
    "a=input()\n",
    "temp=a<='0' and a>='9'\n",
    "if a==temp :\n",
    "    print (int(a**2))\n",
    "else :\n",
    "    print(a)"
   ]
  },
  {
   "cell_type": "code",
   "execution_count": 24,
   "metadata": {},
   "outputs": [
    {
     "name": "stdout",
     "output_type": "stream",
     "text": [
      "a\n",
      "Program ends\n"
     ]
    }
   ],
   "source": [
    "n=input()\n",
    "if n>='0' and n<='9':\n",
    "    print(int(n)**2)\n",
    "else:\n",
    "    print(n)\n",
    "print('Program ends')        "
   ]
  },
  {
   "cell_type": "code",
   "execution_count": 36,
   "metadata": {},
   "outputs": [
    {
     "name": "stdout",
     "output_type": "stream",
     "text": [
      "34\n",
      "Program ends\n"
     ]
    }
   ],
   "source": [
    "#write a prg tocheck last 2 digit of the given num is even or odd if its even print last 2 digits else if its odd tthe print the same num anyhow print prg ends\n",
    "\n",
    "n=int(input())\n",
    "temp=n%100\n",
    "\n",
    "if temp%2==0:\n",
    "    print(temp)\n",
    "else :\n",
    "    print(n)\n",
    "print(\"Program ends\")"
   ]
  },
  {
   "cell_type": "code",
   "execution_count": 38,
   "metadata": {},
   "outputs": [
    {
     "name": "stdout",
     "output_type": "stream",
     "text": [
      "36 6\n",
      "Program ends\n"
     ]
    }
   ],
   "source": [
    "#write a prg to check the square of last digit of the given num is present btw 10 to 45 exclusive \n",
    "#it its then print sq of the last digit along with its last digit\n",
    "\n",
    "#else print the same num along with its last digit anyhow print prg ends\n",
    "n= int(input())\n",
    "temp=n%10\n",
    "q=temp**2\n",
    "if q>10 and q<45 :\n",
    "    print (q,temp)\n",
    "else:\n",
    "    print(n,temp)\n",
    "print(\"Program ends\")"
   ]
  },
  {
   "cell_type": "code",
   "execution_count": 45,
   "metadata": {},
   "outputs": [
    {
     "name": "stdout",
     "output_type": "stream",
     "text": [
      "O\n"
     ]
    }
   ],
   "source": [
    "#to check the num is pos or neg or equal to 0\n",
    "n= int(input())\n",
    "if n>0 :\n",
    "    print(\"Positive\")\n",
    "elif n%0 :\n",
    "    print(\"Negative\")\n",
    "elif n==0 :\n",
    "    print (\"O\")"
   ]
  },
  {
   "cell_type": "code",
   "execution_count": 55,
   "metadata": {},
   "outputs": [
    {
     "name": "stdout",
     "output_type": "stream",
     "text": [
      "greater than 5\n",
      "Not equal\n"
     ]
    }
   ],
   "source": [
    "#to check len of the givin str is grater than 5 if its grater then 5 then check first and last char of the givin string are equal or not ,else check the len of givin is less then 5 if its les than 5 then check the ascii value of the mid char  of the givin str is even or odd\n",
    "n=input()\n",
    "l=len(n)\n",
    "mid=l//2\n",
    "if l>5:\n",
    "    print('greater than 5')\n",
    "    if n[1]==[-1]:\n",
    "        print(\"Equal\")\n",
    "    else:\n",
    "        print('Not equal')\n",
    "elif l<5:\n",
    "    print('less than 5')\n",
    "    if ord(n[mid])%2==0:\n",
    "        print('even')\n",
    "    else:\n",
    "        print('odd')            "
   ]
  },
  {
   "cell_type": "code",
   "execution_count": 65,
   "metadata": {},
   "outputs": [
    {
     "name": "stdout",
     "output_type": "stream",
     "text": [
      "Negative\n",
      "Less than -5\n"
     ]
    }
   ],
   "source": [
    "#to check the given num is pos if its pos then check the given num is grater than 5 or not    else check the givin num is less neg if its neg then check the givin num is grater then -5 or not\n",
    "n= int(input())\n",
    "if n>0:\n",
    "    print(\"Positive\")\n",
    "    if n>5:\n",
    "        print(\"grater than 5 \")\n",
    "    else :\n",
    "        print(\"Less that 5\")\n",
    "else :\n",
    "    print(\"Negative\")\n",
    "    if n<-5 :\n",
    "        print(\"Less than -5\")\n",
    "    else :\n",
    "        print(\"grater than -5 \")"
   ]
  },
  {
   "cell_type": "code",
   "execution_count": 74,
   "metadata": {},
   "outputs": [
    {
     "name": "stdout",
     "output_type": "stream",
     "text": [
      "Its Zero\n"
     ]
    }
   ],
   "source": [
    "#to check the givin num is even or odd are equals to 0\n",
    "n= int(input())\n",
    "if n%2==0  and n!=0:\n",
    "    print(\"Its even\")\n",
    "elif n%2==1 :\n",
    "    print(\"Its Odd\")\n",
    "elif n==0:\n",
    "    print(\"Its Zero\")"
   ]
  },
  {
   "cell_type": "code",
   "execution_count": null,
   "metadata": {},
   "outputs": [],
   "source": [
    "n=int(input())\n",
    "if n==0:\n",
    "    print(\"Its Zero\")"
   ]
  },
  {
   "cell_type": "code",
   "execution_count": 75,
   "metadata": {},
   "outputs": [
    {
     "ename": "SyntaxError",
     "evalue": "incomplete input (3137816143.py, line 14)",
     "output_type": "error",
     "traceback": [
      "\u001b[1;36m  Cell \u001b[1;32mIn[75], line 14\u001b[1;36m\u001b[0m\n\u001b[1;33m    if n(mid)>'a' and n(mid)<'z':\u001b[0m\n\u001b[1;37m                                 ^\u001b[0m\n\u001b[1;31mSyntaxError\u001b[0m\u001b[1;31m:\u001b[0m incomplete input\n"
     ]
    }
   ],
   "source": [
    "#to check the ascii value of mid char of the given string iss present btw 110 to 120 inclusive if so then check the ascii value of the mid chat is even or odd else check the mid char is lower case alphbhat if so then convert the mid chat into upper caase alpha\n",
    "\n",
    "n= input()\n",
    "mid=len(n)//2\n",
    "if ord(mid)>110 and ord(mid)<120:\n",
    "    print(\"Its present btw 110 to 120\")\n",
    "    e=ord(mid)%2\n",
    "    if e==0:\n",
    "        print(\"even\")\n",
    "    else :\n",
    "        print(\"odd\")\n",
    "elif ord(mid)>97 and ord(mid)<123:\n",
    "    print(\"it is lower case char\")\n",
    "    if n(mid)>'a' and n(mid)<'z':\n",
    "        pass"
   ]
  },
  {
   "cell_type": "code",
   "execution_count": 90,
   "metadata": {},
   "outputs": [
    {
     "name": "stdout",
     "output_type": "stream",
     "text": [
      "Uppercase\n"
     ]
    }
   ],
   "source": [
    "#To Check weather a given char is uppercase or not if uppercase prints uppercase\n",
    "#char='A'\n",
    "char=input(\"Enter the Char\")\n",
    "if (char>=\"A\" and char<=\"Z\"):\n",
    "    print(\"Uppercase\")"
   ]
  },
  {
   "cell_type": "code",
   "execution_count": 94,
   "metadata": {},
   "outputs": [],
   "source": [
    "#To Check weather a given char is Lowercase or not if Lowercase prints Lowercase\n",
    "char=input(\"Enter the Char\")\n",
    "if (char>=\"a\" and char<=\"z\"):\n",
    "    print(\"Lowercase\")"
   ]
  },
  {
   "cell_type": "code",
   "execution_count": 96,
   "metadata": {},
   "outputs": [],
   "source": [
    "#To Check weather a given char is an ascii num or not. if upper case print ascii  number case\n",
    "char=input(\"Enter the Char\")\n",
    "if (char>=\"A\" and char<=\"Z\"):\n",
    "    print(ord(char))"
   ]
  },
  {
   "cell_type": "code",
   "execution_count": 102,
   "metadata": {},
   "outputs": [
    {
     "name": "stdout",
     "output_type": "stream",
     "text": [
      "$\n"
     ]
    }
   ],
   "source": [
    "#To Check weather a given char is special char or not.if a special char then print it\n",
    "char=input()\n",
    "if (char>=\"A\" and char<=\"Z\" or char>=\"a\" and char<=\"z\" or char>=\"0\" and char<=\"9\"):\n",
    "    pass\n",
    "else:\n",
    "    print(char)"
   ]
  },
  {
   "cell_type": "code",
   "execution_count": 111,
   "metadata": {},
   "outputs": [
    {
     "name": "stdout",
     "output_type": "stream",
     "text": [
      "E\n"
     ]
    }
   ],
   "source": [
    "#To Check weather a given char is vowel or not if print it\n",
    "char=input()\n",
    "if (char>=\"A\" and char<=\"Z\" or char>=\"a\" and char<=\"z\"):\n",
    "    if char=='a' or char=='e' or char=='i' or char=='o' or char=='u'or char=='A' or char=='E' or char=='I' or char=='O' or char=='U':\n",
    "        print(char)\n"
   ]
  },
  {
   "cell_type": "code",
   "execution_count": 115,
   "metadata": {},
   "outputs": [
    {
     "name": "stdout",
     "output_type": "stream",
     "text": [
      "$ :is not a Alpha\n"
     ]
    }
   ],
   "source": [
    "#To Check weather a given char is from user check alpha or not if print\n",
    "char=input()\n",
    "if (char>=\"A\" and char<=\"Z\" or char>=\"a\" and char<=\"z\"):\n",
    "    print(char,\":is Alpha\")\n",
    "else :\n",
    "    print(char,\":is not a Alpha\")"
   ]
  },
  {
   "cell_type": "code",
   "execution_count": 133,
   "metadata": {},
   "outputs": [
    {
     "name": "stdout",
     "output_type": "stream",
     "text": [
      "<class 'int'>\n",
      "it is number  10\n"
     ]
    }
   ],
   "source": [
    "#To take a num from user is num or not.if print and num with add some value default 5\n",
    "char=int(input())\n",
    "print(type(char))\n",
    "if (char>=0 and char<=9):\n",
    "    print(\"it is number \",char+5)"
   ]
  },
  {
   "cell_type": "code",
   "execution_count": 135,
   "metadata": {},
   "outputs": [
    {
     "name": "stdout",
     "output_type": "stream",
     "text": [
      "16\n"
     ]
    }
   ],
   "source": [
    "#take the num from user is even or not ,thrn print thr num power of 4 if yes\n",
    "num=int(input(\"enter the number\"))\n",
    "if num%2==0:\n",
    "    print(num**4)\n",
    "else:\n",
    "    print(num)"
   ]
  },
  {
   "cell_type": "code",
   "execution_count": 24,
   "metadata": {},
   "outputs": [
    {
     "name": "stdout",
     "output_type": "stream",
     "text": [
      "54\n",
      "6\n",
      "not  found\n"
     ]
    }
   ],
   "source": [
    "#WAP to check weather the given value is present inside the collection or not ,if present ,print it\n",
    "n=input()\n",
    "b=ord(n)\n",
    "print(b)\n",
    "if (b>=48 and b<=57):\n",
    "    print(n)\n",
    "else:\n",
    "    b=n\n",
    "if n in ['a','b','c','d','e',3 ,6,7,8,9]:\n",
    "    print(b)\n",
    "\n",
    "else:\n",
    "    print(\"not  found\")\n"
   ]
  },
  {
   "cell_type": "code",
   "execution_count": null,
   "metadata": {},
   "outputs": [],
   "source": [
    "#WAP to check whether the input number is greater 10 or not if it is greater than 10 print message  as greater and print that number if that num is not greaten than 10 print that num.\n",
    "n=int(input())\n",
    "if n>10:\n",
    "    print(\"greater\")\n",
    "else:\n",
    "    print(n)    "
   ]
  },
  {
   "cell_type": "code",
   "execution_count": 60,
   "metadata": {},
   "outputs": [
    {
     "name": "stdout",
     "output_type": "stream",
     "text": [
      "hello world\n"
     ]
    }
   ],
   "source": [
    "#WAP to display hello world if the num is greater than 1 and less that 5\n",
    "n=int(input())\n",
    "if n>1 and n<5:\n",
    "    print(\"hello world\")\n",
    "else:\n",
    "    print(n)"
   ]
  },
  {
   "cell_type": "code",
   "execution_count": null,
   "metadata": {},
   "outputs": [],
   "source": [
    "#wap to check whether the given input is 0 or not if 0 prints 0\n",
    "n=int(input())\n",
    "if n==0:\n",
    "    print(\"0\")\n",
    "else:\n",
    "    print(n)"
   ]
  },
  {
   "cell_type": "code",
   "execution_count": 64,
   "metadata": {},
   "outputs": [
    {
     "name": "stdout",
     "output_type": "stream",
     "text": [
      "files\n"
     ]
    }
   ],
   "source": [
    "#wap to check whether given num is divisible by 3 or not if print files\n",
    "n=int(input())\n",
    "if n%3==0:\n",
    "    print(\"files\")\n",
    "else:\n",
    "    print(n)"
   ]
  },
  {
   "cell_type": "code",
   "execution_count": null,
   "metadata": {},
   "outputs": [],
   "source": [
    "#wap to check whether given num is divisible by 3 and 5\n",
    "n=int(input())\n",
    "if n%3==0 and n%5==0:\n",
    "    print(\"it can div by 3 n 5\")\n",
    "else:   \n",
    "    print(n)"
   ]
  },
  {
   "cell_type": "code",
   "execution_count": 67,
   "metadata": {},
   "outputs": [
    {
     "name": "stdout",
     "output_type": "stream",
     "text": [
      "amma  is palindrome\n"
     ]
    }
   ],
   "source": [
    "#to check the given string is palindrome or not if print with str else print not\n",
    "s=input()\n",
    "if s==s[::-1]:\n",
    "    print(s,\" is palindrome\")\n",
    "else:\n",
    "    print(\"not a palindrome\")"
   ]
  },
  {
   "cell_type": "code",
   "execution_count": 70,
   "metadata": {},
   "outputs": [
    {
     "name": "stdout",
     "output_type": "stream",
     "text": [
      "112\n"
     ]
    }
   ],
   "source": [
    "#to check given num is mul by 5 or not\n",
    "n=int(input())\n",
    "if n%5==0:\n",
    "    print(\"mul by 5\")\n",
    "else:\n",
    "    print(n)"
   ]
  },
  {
   "cell_type": "code",
   "execution_count": 54,
   "metadata": {},
   "outputs": [
    {
     "name": "stdout",
     "output_type": "stream",
     "text": [
      "fizzbuzz\n"
     ]
    }
   ],
   "source": [
    "#to check whether given num is divisible ny 3 and 5 if the num divisible by 3 print fizz if the num div by 5 print bizz if its div by both then print fizzbuzz\n",
    "num=int(input())\n",
    "if num%3==0 and num%5==0:\n",
    "    print(\"fizzbuzz\")\n",
    "elif num%3==0:\n",
    "    print(\"fizz\")\n",
    "elif num%5==0:\n",
    "    print(\"bizz\")\n",
    "else:\n",
    "    print(num)\n"
   ]
  },
  {
   "cell_type": "code",
   "execution_count": null,
   "metadata": {},
   "outputs": [],
   "source": [
    "#wap to check whether 2 val are pointing sam adderess \n",
    "n=2\n",
    "m=2\n",
    "if id(n)==id(m):\n",
    "    print(\"same\")\n",
    "else :\n",
    "    print(\"not same\")"
   ]
  },
  {
   "cell_type": "code",
   "execution_count": 25,
   "metadata": {},
   "outputs": [],
   "source": [
    "#wap to perform arithmetic operations depends on a user choice\n",
    "n1=int(input())\n",
    "n2=int(input())\n",
    "ch=input()\n",
    "if ch=='+':\n",
    "    print(n1+n2)\n",
    "elif ch=='-':\n",
    "    print(n1-n2)\n",
    "elif ch=='*':\n",
    "    print(n1*n2)\n",
    "elif ch=='/':\n",
    "    print(n1/n2)\n",
    "elif ch=='%':\n",
    "    print(n1%n2)\n",
    "elif ch=='//':\n",
    "    print(n1//n2)\n",
    "elif ch=='**':\n",
    "    print(n1**n2)\n",
    "else:\n",
    "    print(\"invalid\")\n",
    "    "
   ]
  },
  {
   "cell_type": "code",
   "execution_count": 51,
   "metadata": {},
   "outputs": [
    {
     "name": "stdout",
     "output_type": "stream",
     "text": [
      "91\n"
     ]
    }
   ],
   "source": [
    "#wap to check max of 3 nos\n",
    "n=[10,91,4]\n",
    "if n[0] >= n[1] and n[0] >= n[2]:\n",
    "    print(n[0])\n",
    "elif n[1] >= n[0] and n[1] >= n[2]:\n",
    "    print(n[1])\n",
    "else:\n",
    "    print(n[2])"
   ]
  },
  {
   "cell_type": "code",
   "execution_count": 71,
   "metadata": {},
   "outputs": [
    {
     "name": "stdout",
     "output_type": "stream",
     "text": [
      "Not a Leap Year\n"
     ]
    }
   ],
   "source": [
    "#wap to check whether a leap year \n",
    "num = int(input())\n",
    "if num % 4 == 0:\n",
    "    print(\"Leap Year\")\n",
    "else:\n",
    "    print(\"Not a Leap Year\")"
   ]
  },
  {
   "cell_type": "code",
   "execution_count": 78,
   "metadata": {},
   "outputs": [
    {
     "name": "stdout",
     "output_type": "stream",
     "text": [
      "Three digit\n"
     ]
    }
   ],
   "source": [
    "#Check a given number is 1 digit or two digit or three digit for the more than 3 digits.\n",
    "n=int(input())\n",
    "if n>99 and n<1000:\n",
    "    print(\"Three digit\")\n",
    "elif n>9 and n<100:\n",
    "    print(\"Two digit\")\n",
    "else:\n",
    "    print(\"One digit\")\n",
    "    "
   ]
  },
  {
   "cell_type": "code",
   "execution_count": 84,
   "metadata": {},
   "outputs": [
    {
     "name": "stdout",
     "output_type": "stream",
     "text": [
      "invalid\n"
     ]
    }
   ],
   "source": [
    "#To accept any number from 1-5 and display number in word form.\n",
    "n=int(input())\n",
    "if n==1:\n",
    "    print(\"one\")\n",
    "elif n==2:\n",
    "    print(\"two\")\n",
    "elif n==3:\n",
    "    print(\"three\")\n",
    "elif n==4:\n",
    "    print(\"four\")\n",
    "elif n==5:\n",
    "    print(\"five\")\n",
    "else:\n",
    "    print(\"invalid\")"
   ]
  },
  {
   "cell_type": "code",
   "execution_count": 93,
   "metadata": {},
   "outputs": [
    {
     "name": "stdout",
     "output_type": "stream",
     "text": [
      "digit\n"
     ]
    }
   ],
   "source": [
    "#To check whether the given input character is upper case or lower case or digit or symbol.\n",
    "n=input()\n",
    "if n>='a' and n<='z':\n",
    "    print(\"lower case\")\n",
    "elif n>='A' and n<='Z':\n",
    "    print(\"upper case\")\n",
    "elif n>='0' and n<='9':\n",
    "    print(\"digit\")\n",
    "else:\n",
    "    print(\"symbol\")\n"
   ]
  },
  {
   "cell_type": "code",
   "execution_count": 97,
   "metadata": {},
   "outputs": [
    {
     "name": "stdout",
     "output_type": "stream",
     "text": [
      "upper case\n"
     ]
    }
   ],
   "source": [
    "#To check whether the given input alphabet present in collection or not, if it is present in the collection, check whether the alphabet is upper case or lower case. If it is upper case, convert into lower case if and vice versa. If alphabet not present in the collection, print invalid.\n",
    "n=input()\n",
    "s=['a','e','i','o','u','A','E','I','O','U']\n",
    "if n in s:\n",
    "    if n>='a' and n<='z':\n",
    "        print(\"lower case\")\n",
    "    elif n>='A' and n<='Z':\n",
    "        print(\"upper case\")\n",
    "    else:\n",
    "        print(\"invalid\")\n",
    "else:\n",
    "    print(\"invalid\")\n",
    "    "
   ]
  },
  {
   "cell_type": "code",
   "execution_count": 102,
   "metadata": {},
   "outputs": [
    {
     "name": "stdout",
     "output_type": "stream",
     "text": [
      "invalid\n"
     ]
    }
   ],
   "source": [
    "#To check the weather, the given input character is present in the given string collection, or not, if it is present, then string collection, then check whether the collection length is even or odd. If it is even, print even indexed items of the collection. If it is odd print, odd index items of the collection, if the character not present in the collection, just brings that collection.\n",
    "n=input()\n",
    "if n[1]:\n",
    "    pass"
   ]
  },
  {
   "cell_type": "code",
   "execution_count": 111,
   "metadata": {},
   "outputs": [
    {
     "name": "stdout",
     "output_type": "stream",
     "text": [
      "$$$\n"
     ]
    }
   ],
   "source": [
    "\n",
    "#To check whether a given input character is a special simple or if it is special char, then print that character three times and if not print. the character 5 times.\n",
    "n=input()\n",
    "if n>='a' and n<='z' or n>='A' and n<='Z' or n>='0' and n<='9':\n",
    "    print(n*5)\n",
    "else:\n",
    "    print(n*3)"
   ]
  },
  {
   "cell_type": "code",
   "execution_count": 112,
   "metadata": {},
   "outputs": [
    {
     "name": "stdout",
     "output_type": "stream",
     "text": [
      "5454\n"
     ]
    }
   ],
   "source": [
    "#To check length of both string collections equal or not, if it is equal, bring the collection of any one of the collections. If it is not equal, print both the collections.\n",
    "s1=input()\n",
    "s2=input()\n",
    "if len(s1)==len(s2):\n",
    "    print(s1+s2)\n",
    "else:\n",
    "    print(s1)\n",
    "    print(s2)"
   ]
  },
  {
   "cell_type": "code",
   "execution_count": 114,
   "metadata": {},
   "outputs": [
    {
     "name": "stdout",
     "output_type": "stream",
     "text": [
      "false\n"
     ]
    }
   ],
   "source": [
    "#To check whether a given number lies between one to 10 if the true\n",
    "n=int(input())\n",
    "if n>=1 and n<=10:\n",
    "    print(\"true\")\n",
    "else:\n",
    "    print(\"false\")\n",
    "    "
   ]
  },
  {
   "cell_type": "code",
   "execution_count": 7,
   "metadata": {},
   "outputs": [
    {
     "name": "stdout",
     "output_type": "stream",
     "text": [
      "6\n"
     ]
    }
   ],
   "source": [
    "#WAp to print 1 to 5 num\n",
    "i=1\n",
    "while i<=5:\n",
    "    print(i)\n",
    "    i+=1"
   ]
  },
  {
   "cell_type": "code",
   "execution_count": 8,
   "metadata": {},
   "outputs": [
    {
     "name": "stdout",
     "output_type": "stream",
     "text": [
      "1\n",
      "2\n",
      "3\n",
      "4\n",
      "5\n"
     ]
    }
   ],
   "source": [
    "\n",
    "def num(n):\n",
    "    if n > 5:\n",
    "        return\n",
    "    print(n)\n",
    "    return num(n + 1)\n",
    "\n",
    "num(1)\n"
   ]
  },
  {
   "cell_type": "code",
   "execution_count": 3,
   "metadata": {},
   "outputs": [
    {
     "name": "stdout",
     "output_type": "stream",
     "text": [
      "10\n",
      "9\n",
      "8\n",
      "7\n",
      "6\n",
      "5\n"
     ]
    }
   ],
   "source": [
    "#WApt yo print 5 to 10 num in reverse order \n",
    "i=10\n",
    "while i>=5:\n",
    "    print(i)\n",
    "    i-=1"
   ]
  },
  {
   "cell_type": "code",
   "execution_count": 20,
   "metadata": {},
   "outputs": [
    {
     "name": "stdout",
     "output_type": "stream",
     "text": [
      "10\n",
      "9\n",
      "8\n",
      "7\n",
      "6\n"
     ]
    }
   ],
   "source": [
    "def num(n):\n",
    "    if n < 6:\n",
    "        return\n",
    "    print(n)\n",
    "    return num(n - 1)\n",
    "num(10)\n"
   ]
  },
  {
   "cell_type": "code",
   "execution_count": 5,
   "metadata": {},
   "outputs": [
    {
     "name": "stdout",
     "output_type": "stream",
     "text": [
      "15\n"
     ]
    }
   ],
   "source": [
    "#WAp to print the num div by 3 and 5 in range of 10 to 20\n",
    "i=10\n",
    "while i<20:\n",
    "    if i%3==0 and i%5==0:\n",
    "        print(i)\n",
    "    i+=1"
   ]
  },
  {
   "cell_type": "code",
   "execution_count": null,
   "metadata": {},
   "outputs": [],
   "source": [
    "def num (n) :\n",
    "    if n > 20:\n",
    "        return\n",
    "    if n % 3 == 0 and n % 5 == 0:\n",
    "        print(n)\n",
    "    return num(n + 1)"
   ]
  },
  {
   "cell_type": "code",
   "execution_count": 7,
   "metadata": {},
   "outputs": [
    {
     "name": "stdout",
     "output_type": "stream",
     "text": [
      "1 *5= 5\n",
      "2 *5= 10\n",
      "3 *5= 15\n",
      "4 *5= 20\n",
      "5 *5= 25\n",
      "6 *5= 30\n",
      "7 *5= 35\n",
      "8 *5= 40\n",
      "9 *5= 45\n",
      "10 *5= 50\n"
     ]
    }
   ],
   "source": [
    "#WAp to print 5 mullti plaica upto 10 \n",
    "i=1\n",
    "while i<=10:\n",
    "    print(i,'*5=',i*5)\n",
    "    i+=1"
   ]
  },
  {
   "cell_type": "code",
   "execution_count": 4,
   "metadata": {},
   "outputs": [
    {
     "name": "stdout",
     "output_type": "stream",
     "text": [
      "1 *5= 5\n",
      "2 *5= 10\n",
      "3 *5= 15\n",
      "4 *5= 20\n",
      "5 *5= 25\n",
      "6 *5= 30\n",
      "7 *5= 35\n",
      "8 *5= 40\n",
      "9 *5= 45\n",
      "10 *5= 50\n"
     ]
    }
   ],
   "source": [
    "def mul(i):\n",
    "    if i> 10:\n",
    "        return\n",
    "    print(i,'*5=',i*5)\n",
    "    return mul(i+1)\n",
    "\n",
    "mul(1)"
   ]
  },
  {
   "cell_type": "code",
   "execution_count": 8,
   "metadata": {},
   "outputs": [
    {
     "name": "stdout",
     "output_type": "stream",
     "text": [
      "1\n",
      "2\n",
      "3\n"
     ]
    }
   ],
   "source": [
    "#WAP to print 1st 3 num in rage of 1 to 10 \n",
    "i=1\n",
    "while i<=10:\n",
    "    if i<=3:\n",
    "        print(i)\n",
    "    i+=1"
   ]
  },
  {
   "cell_type": "code",
   "execution_count": 5,
   "metadata": {},
   "outputs": [
    {
     "name": "stdout",
     "output_type": "stream",
     "text": [
      "1\n",
      "2\n",
      "3\n"
     ]
    }
   ],
   "source": [
    "def num(i):\n",
    "    if i>10:\n",
    "        return\n",
    "    elif i<=3:\n",
    "        print(i)\n",
    "    return num(i+1)\n",
    "\n",
    "num(1)"
   ]
  },
  {
   "cell_type": "code",
   "execution_count": 11,
   "metadata": {},
   "outputs": [
    {
     "name": "stdout",
     "output_type": "stream",
     "text": [
      "2\n",
      "4\n",
      "6\n",
      "8\n"
     ]
    }
   ],
   "source": [
    "#WAP to print 1st 3 even num in range 1 to 10\n",
    "i=1\n",
    "j=1\n",
    "while i<=10:\n",
    "    if i%2==0 and j<=4:\n",
    "        print(i)\n",
    "        j+=1\n",
    "    i+=1    "
   ]
  },
  {
   "cell_type": "code",
   "execution_count": 14,
   "metadata": {},
   "outputs": [
    {
     "name": "stdout",
     "output_type": "stream",
     "text": [
      "2\n",
      "4\n",
      "6\n"
     ]
    }
   ],
   "source": [
    "def num(i,j):\n",
    "    if i>=10:\n",
    "        return\n",
    "    elif i%2==0 and j<=3:\n",
    "        print(i)\n",
    "        j+=1\n",
    "    return num(i+1,j)\n",
    "\n",
    "num(1,1)"
   ]
  },
  {
   "cell_type": "code",
   "execution_count": 14,
   "metadata": {},
   "outputs": [
    {
     "name": "stdout",
     "output_type": "stream",
     "text": [
      "9\n",
      "7\n",
      "5\n"
     ]
    }
   ],
   "source": [
    "#WAP to print last 3 odd nos in range of 1 to 10 in reverse \n",
    "i = 10\n",
    "j=1\n",
    "while i >=1:\n",
    "    if i%2!=0 and j<=3:\n",
    "        print(i)\n",
    "        j+=1\n",
    "    i-=1"
   ]
  },
  {
   "cell_type": "code",
   "execution_count": 19,
   "metadata": {},
   "outputs": [
    {
     "name": "stdout",
     "output_type": "stream",
     "text": [
      "9\n",
      "7\n",
      "5\n",
      "3\n"
     ]
    }
   ],
   "source": [
    "def num(i):\n",
    "    j=1\n",
    "    if i<=1:\n",
    "        return\n",
    "    elif i%2!=0 and j<=3:\n",
    "        print(i)\n",
    "        j+=1\n",
    "    b=i-1\n",
    "    return num(b)\n",
    "num(10)"
   ]
  },
  {
   "cell_type": "code",
   "execution_count": null,
   "metadata": {},
   "outputs": [],
   "source": []
  },
  {
   "cell_type": "code",
   "execution_count": 17,
   "metadata": {},
   "outputs": [
    {
     "name": "stdout",
     "output_type": "stream",
     "text": [
      "15\n"
     ]
    }
   ],
   "source": [
    "#WAP to print sum of 1 to 5 \n",
    "i=1\n",
    "j=0\n",
    "while i<=5:\n",
    "    j+=i\n",
    "    i+=1\n",
    "print(j)"
   ]
  },
  {
   "cell_type": "code",
   "execution_count": 17,
   "metadata": {},
   "outputs": [
    {
     "name": "stdout",
     "output_type": "stream",
     "text": [
      "15\n"
     ]
    }
   ],
   "source": [
    "def sum(i):\n",
    "    if i > 5:\n",
    "        return 0\n",
    "    return i + sum(i + 1)\n",
    "\n",
    "result = sum(1)\n",
    "print(result)\n"
   ]
  },
  {
   "cell_type": "code",
   "execution_count": 19,
   "metadata": {},
   "outputs": [
    {
     "name": "stdout",
     "output_type": "stream",
     "text": [
      "120\n"
     ]
    }
   ],
   "source": [
    "#WAP to print product of 1 to 5 \n",
    "i=1\n",
    "product=1\n",
    "while i<=5:\n",
    "    product*=i\n",
    "    i+=1\n",
    "print(product)"
   ]
  },
  {
   "cell_type": "code",
   "execution_count": 12,
   "metadata": {},
   "outputs": [
    {
     "name": "stdout",
     "output_type": "stream",
     "text": [
      "120\n"
     ]
    }
   ],
   "source": [
    "def product(i):\n",
    "    if i==1:\n",
    "        return 1\n",
    "    return i * product(i - 1)\n",
    "\n",
    "result =product(5)\n",
    "print(result)"
   ]
  },
  {
   "cell_type": "code",
   "execution_count": 11,
   "metadata": {},
   "outputs": [
    {
     "name": "stdout",
     "output_type": "stream",
     "text": [
      "120\n"
     ]
    }
   ],
   "source": []
  },
  {
   "cell_type": "code",
   "execution_count": 22,
   "metadata": {},
   "outputs": [
    {
     "name": "stdout",
     "output_type": "stream",
     "text": [
      "16\n"
     ]
    }
   ],
   "source": [
    "#WAP to print sum of 1st 4 odd nos in range of 1 to 10 \n",
    "i = 1\n",
    "j=1\n",
    "sum =0\n",
    "while i<10:\n",
    "    if i%2!=0 and j<=4:\n",
    "        sum+=i\n",
    "        j+=1\n",
    "    i+=1\n",
    "print(sum)\n"
   ]
  },
  {
   "cell_type": "code",
   "execution_count": 26,
   "metadata": {},
   "outputs": [
    {
     "name": "stdout",
     "output_type": "stream",
     "text": [
      "16\n"
     ]
    }
   ],
   "source": [
    "j = 1\n",
    "total = 0\n",
    "\n",
    "def sum_odd(i):\n",
    "    global j, total\n",
    "    if i > 10 or j > 4:\n",
    "        return total\n",
    "    elif i % 2 != 0:\n",
    "        total += i\n",
    "        j += 1\n",
    "    return sum_odd(i + 1)\n",
    "\n",
    "result = sum_odd(1)\n",
    "print(result)\n"
   ]
  },
  {
   "cell_type": "code",
   "execution_count": 24,
   "metadata": {},
   "outputs": [
    {
     "name": "stdout",
     "output_type": "stream",
     "text": [
      "5\n"
     ]
    }
   ],
   "source": [
    "#WAP to print the count of even nos in range of 5 to 15\n",
    "i=5\n",
    "count=0\n",
    "while i<=15 :\n",
    "    if i%2==0 :\n",
    "        count+=1\n",
    "    i+=1\n",
    "print(count)"
   ]
  },
  {
   "cell_type": "code",
   "execution_count": 17,
   "metadata": {},
   "outputs": [
    {
     "name": "stdout",
     "output_type": "stream",
     "text": [
      "5\n"
     ]
    }
   ],
   "source": [
    "def rng(i,count=0):\n",
    "    if i>15:\n",
    "        return count\n",
    "    if i%2==0:\n",
    "        return rng(i+1,count+1)\n",
    "    return rng(i+1,count)\n",
    "\n",
    "res=rng(5)\n",
    "print(res)"
   ]
  },
  {
   "cell_type": "code",
   "execution_count": 25,
   "metadata": {},
   "outputs": [
    {
     "name": "stdout",
     "output_type": "stream",
     "text": [
      "4\n"
     ]
    }
   ],
   "source": [
    "#WAP to print the count of nos which are div by ether 3 or 5 in range 10 to 20\n",
    "\n",
    "i=10\n",
    "count=0\n",
    "while i<20 :\n",
    "    if i%3==0 or i%5==0:\n",
    "        count+=1\n",
    "    i+=1\n",
    "print(count)"
   ]
  },
  {
   "cell_type": "code",
   "execution_count": 19,
   "metadata": {},
   "outputs": [
    {
     "name": "stdout",
     "output_type": "stream",
     "text": [
      "4\n"
     ]
    }
   ],
   "source": [
    "def rng(i,count=0):\n",
    "    if i>=20:\n",
    "        return count\n",
    "    if i%3==0 or i%5==0:\n",
    "        return rng(i+1,count+1)\n",
    "    return rng(i+1,count)\n",
    "\n",
    "res=rng(10)\n",
    "print(res)"
   ]
  },
  {
   "cell_type": "code",
   "execution_count": 28,
   "metadata": {},
   "outputs": [
    {
     "name": "stdout",
     "output_type": "stream",
     "text": [
      "even\n"
     ]
    }
   ],
   "source": [
    "#wap to check the product of the 1st 3 nos in range of 5 to 15 is even or odd\n",
    "i =5\n",
    "product=1\n",
    "j=1\n",
    "while i<=15:\n",
    "    \n",
    "    if  j<=3:\n",
    "        product*=i\n",
    "    i+=1\n",
    "if i%2==0:\n",
    "    print ('even')\n",
    "else:\n",
    "    print ('odd')"
   ]
  },
  {
   "cell_type": "code",
   "execution_count": 33,
   "metadata": {},
   "outputs": [
    {
     "name": "stdout",
     "output_type": "stream",
     "text": [
      "5\n",
      "4\n",
      "3\n"
     ]
    }
   ],
   "source": [
    "i=345\n",
    "digit=0\n",
    "while i>0:\n",
    "    digit=i%10\n",
    "    print(digit)\n",
    "    i//=10"
   ]
  },
  {
   "cell_type": "code",
   "execution_count": 36,
   "metadata": {},
   "outputs": [
    {
     "name": "stdout",
     "output_type": "stream",
     "text": [
      "4\n",
      "2\n"
     ]
    }
   ],
   "source": [
    "#WAP to print even digit from given num\n",
    "i=2345\n",
    "while i>0:\n",
    "    digit=i%10\n",
    "    if digit%2==0:\n",
    "        print (digit)\n",
    "    i//=10"
   ]
  },
  {
   "cell_type": "code",
   "execution_count": 37,
   "metadata": {},
   "outputs": [
    {
     "name": "stdout",
     "output_type": "stream",
     "text": [
      "12\n"
     ]
    }
   ],
   "source": [
    "#WAP to print suum of digit from given num\n",
    "i=345\n",
    "digit=0\n",
    "sum=0\n",
    "while i>0:\n",
    "    digit=i%10\n",
    "    sum+=digit\n",
    "    i//=10\n",
    "print(sum)"
   ]
  },
  {
   "cell_type": "code",
   "execution_count": 1,
   "metadata": {},
   "outputs": [
    {
     "name": "stdout",
     "output_type": "stream",
     "text": [
      "12\n"
     ]
    }
   ],
   "source": [
    "def sum_of_digits(num):\n",
    "    digit = 0\n",
    "    sum_digits = 0\n",
    "    \n",
    "    while num > 0:\n",
    "        digit = num % 10\n",
    "        sum_digits += digit\n",
    "        num //= 10\n",
    "    \n",
    "    return sum_digits\n",
    "\n",
    "i = 345\n",
    "result = sum_of_digits(i)\n",
    "print(result)\n"
   ]
  },
  {
   "cell_type": "code",
   "execution_count": 2,
   "metadata": {},
   "outputs": [
    {
     "name": "stdout",
     "output_type": "stream",
     "text": [
      "5\n"
     ]
    }
   ],
   "source": [
    "#WAP count\n",
    "i=34567\n",
    "count=0\n",
    "while i>0:\n",
    "    digit=i%10\n",
    "    i//=10\n",
    "    count+=1\n",
    "\n",
    "print(count)"
   ]
  },
  {
   "cell_type": "code",
   "execution_count": 13,
   "metadata": {},
   "outputs": [
    {
     "name": "stdout",
     "output_type": "stream",
     "text": [
      "5\n"
     ]
    }
   ],
   "source": [
    "i = 34567\n",
    "count = 0\n",
    "\n",
    "while i > 0:\n",
    "    i //= 10\n",
    "    count += 1\n",
    "\n",
    "print(count)\n"
   ]
  },
  {
   "cell_type": "code",
   "execution_count": 14,
   "metadata": {},
   "outputs": [
    {
     "name": "stdout",
     "output_type": "stream",
     "text": [
      "2\n"
     ]
    }
   ],
   "source": [
    "#WAP tonprint count of the odd digit in given nos\n",
    "i=345\n",
    "count=0\n",
    "while i>0:\n",
    "    digit=i%10\n",
    "    i//=10\n",
    "    if digit%2==1:\n",
    "        count+=1\n",
    "print(count)"
   ]
  },
  {
   "cell_type": "code",
   "execution_count": 15,
   "metadata": {},
   "outputs": [
    {
     "name": "stdout",
     "output_type": "stream",
     "text": [
      "1\n"
     ]
    }
   ],
   "source": [
    "i = 345\n",
    "count = 0\n",
    "\n",
    "while i > 0:\n",
    "    digit = i % 10  \n",
    "    i //= 10 \n",
    "    if digit % 2 == 1:         count += 1\n",
    "\n",
    "print(count)\n"
   ]
  },
  {
   "cell_type": "code",
   "execution_count": 16,
   "metadata": {},
   "outputs": [
    {
     "name": "stdout",
     "output_type": "stream",
     "text": [
      "4\n"
     ]
    }
   ],
   "source": [
    "#sum os even\n",
    "i=345\n",
    "sum=0\n",
    "while i>0:\n",
    "    digit=i%10\n",
    "    i//=10\n",
    "    if digit%2==0:\n",
    "        sum+=digit\n",
    "print(sum)"
   ]
  },
  {
   "cell_type": "code",
   "execution_count": 17,
   "metadata": {},
   "outputs": [
    {
     "name": "stdout",
     "output_type": "stream",
     "text": [
      "0\n"
     ]
    }
   ],
   "source": [
    "def sum (i,add=0):\n",
    "    if i==0:\n",
    "        return\n",
    "    digit=i%10\n",
    "    i//=10\n",
    "    if digit%2==0:\n",
    "        add+=digit\n",
    "    return add\n",
    "\n",
    "result=sum(345)\n",
    "print(result)\n",
    "    "
   ]
  },
  {
   "cell_type": "code",
   "execution_count": 18,
   "metadata": {},
   "outputs": [
    {
     "name": "stdout",
     "output_type": "stream",
     "text": [
      "spy num\n"
     ]
    }
   ],
   "source": [
    "#WAP to check the sum of digit in the given nos = product of digit in given nos if it  equal print as \"spy num\" els \"not spy num\"\n",
    "i=123\n",
    "sum=0\n",
    "product=1\n",
    "while i>0:\n",
    "    digit=i%10\n",
    "    i//=10\n",
    "    sum+=digit\n",
    "    product*=digit\n",
    "if sum==product:\n",
    "    print(\"spy num\")\n",
    "else:\n",
    "    print(\"not spy num\")\n"
   ]
  },
  {
   "cell_type": "code",
   "execution_count": 19,
   "metadata": {},
   "outputs": [
    {
     "name": "stdout",
     "output_type": "stream",
     "text": [
      "Spy number\n"
     ]
    }
   ],
   "source": [
    "i = 123\n",
    "sum= 0\n",
    "product= 1\n",
    "\n",
    "def spy(i):\n",
    "    global sum, product\n",
    "    if i == 0:\n",
    "        return\n",
    "    digit = i % 10\n",
    "    sum += digit\n",
    "    product *= digit\n",
    "    spy(i // 10)\n",
    "\n",
    "spy(i)\n",
    "\n",
    "if sum == product:\n",
    "    print(\"Spy number\")\n",
    "else:\n",
    "    print(\"Not a spy number\")\n"
   ]
  },
  {
   "cell_type": "code",
   "execution_count": 20,
   "metadata": {},
   "outputs": [
    {
     "name": "stdout",
     "output_type": "stream",
     "text": [
      "list[__main__.is_even]\n"
     ]
    }
   ],
   "source": [
    "def is_even(x):\n",
    "    return x % 2 == 0\n",
    "\n",
    "nums = [1, 2, 3, 4, 5, 6]\n",
    "evens = list[is_even]\n",
    "print(evens)"
   ]
  },
  {
   "cell_type": "code",
   "execution_count": 23,
   "metadata": {},
   "outputs": [],
   "source": [
    "class Solution:\n",
    "    def isPalindrome(self, x: int) -> bool:\n",
    "        if x < 0:\n",
    "            return False\n",
    "        if x == 0:\n",
    "            return True\n",
    "        if x % 10 == 0:\n",
    "            return False\n",
    "        rev = 0\n",
    "        while x > rev:\n",
    "            rev = rev * 10 + x % 10\n",
    "            x = x // 10\n",
    "        return x == rev or x == rev // 10\n",
    "    "
   ]
  },
  {
   "cell_type": "code",
   "execution_count": 22,
   "metadata": {},
   "outputs": [],
   "source": [
    "class Solution:\n",
    "    def romanToInt(self, s: str) -> int: # type: ignore\n",
    "        roman_to_int = {\n",
    "        'I': 1, 'V': 5, 'X': 10, 'L': 50,\n",
    "        'C': 100, 'D': 500, 'M': 1000}\n",
    "    \n",
    "        total = 0\n",
    "        prev_value = 0\n",
    "    \n",
    "    # Traverse the Roman numeral string in reverse order\n",
    "        for char in reversed(s):\n",
    "            value = roman_to_int[char]\n",
    "            if value < prev_value:\n",
    "                total -= value\n",
    "            else:\n",
    "                total += value\n",
    "            prev_value = value\n",
    "    \n",
    "        return total\n"
   ]
  },
  {
   "cell_type": "code",
   "execution_count": 30,
   "metadata": {},
   "outputs": [
    {
     "name": "stdout",
     "output_type": "stream",
     "text": [
      "True\n"
     ]
    }
   ],
   "source": [
    "# Given a string s containing just the characters '(', ')', '{', '}', '[' and ']', determine if the input string is valid.\n",
    "\n",
    "def isValid(s: str) -> bool:\n",
    "    stack = []\n",
    "\n",
    "    for char in s:\n",
    "        if char in ['(', '{', '[']:\n",
    "            stack.append(char)\n",
    "        elif char == ')':\n",
    "            if not stack or stack.pop() != '(':\n",
    "                return False\n",
    "        elif char == '}':\n",
    "            if not stack or stack.pop() != '{':\n",
    "                return False\n",
    "        elif char == ']':\n",
    "            if not stack or stack.pop() != '[':\n",
    "                return False\n",
    "\n",
    "    return not stack\n",
    "\n",
    "# Example usage\n",
    "s = input(\"Enter the string of brackets: \")\n",
    "result = isValid(s)\n",
    "print(result)\n"
   ]
  },
  {
   "cell_type": "code",
   "execution_count": 35,
   "metadata": {},
   "outputs": [
    {
     "name": "stdout",
     "output_type": "stream",
     "text": [
      "1 -> 1 -> 2 -> 3 -> 4 -> 4 -> None\n"
     ]
    }
   ],
   "source": [
    "#Merge the two lists into one sorted list. The list should be made by splicing together the nodes of the first two lists.\n",
    "\n",
    "class ListNode:\n",
    "    def __init__(self, val=0, next=None):\n",
    "        self.val = val\n",
    "        self.next = next\n",
    "\n",
    "def mergeTwoLists(list1: ListNode, list2: ListNode) -> ListNode:\n",
    "    if list1 is None:\n",
    "        return list2\n",
    "    if list2 is None:\n",
    "        return list1\n",
    "    if list1.val < list2.val:\n",
    "        list1.next = mergeTwoLists(list1.next, list2)\n",
    "        return list1\n",
    "    else:\n",
    "        list2.next = mergeTwoLists(list1, list2.next)\n",
    "        return list2\n",
    "    #print(\"list1.val\" f'{list1.val}',\"list2.val\",list2.val)\n",
    "def printList(node: ListNode):\n",
    "    while node:\n",
    "        print(node.val, end=\" -> \")\n",
    "        node = node.next\n",
    "    print(\"None\")\n",
    "\n",
    "def listToLinkedList(lst):\n",
    "    dummy = ListNode()\n",
    "    current = dummy\n",
    "    for value in lst:\n",
    "        current.next = ListNode(value)\n",
    "        current = current.next\n",
    "    return dummy.next\n",
    "\n",
    "# Example usage\n",
    "list1 = listToLinkedList([1, 2, 4])\n",
    "list2 = listToLinkedList([1, 3, 4])\n",
    "result = mergeTwoLists(list1, list2)\n",
    "\n",
    "printList(result)\n"
   ]
  },
  {
   "cell_type": "code",
   "execution_count": 40,
   "metadata": {},
   "outputs": [
    {
     "name": "stdout",
     "output_type": "stream",
     "text": [
      "7\n",
      "the num is prime\n"
     ]
    }
   ],
   "source": [
    "#WAP to check the given num is prime or not\n",
    "num=int(input())\n",
    "count=0\n",
    "i=1\n",
    "while (i<=num):\n",
    "    if num%i==0:\n",
    "        count+=1\n",
    "    i+=1\n",
    "print(num)\n",
    "if count==2:\n",
    "    print('the num is prime')\n",
    "else:\n",
    "    print('not a prime')\n"
   ]
  },
  {
   "cell_type": "code",
   "execution_count": null,
   "metadata": {},
   "outputs": [],
   "source": [
    "num=int(input())\n",
    "if num%i==0:"
   ]
  },
  {
   "cell_type": "code",
   "execution_count": null,
   "metadata": {},
   "outputs": [],
   "source": [
    "#wap to print the list values in sorted list\n",
    "def printlist(listnode):\n",
    "    "
   ]
  },
  {
   "cell_type": "code",
   "execution_count": 13,
   "metadata": {},
   "outputs": [
    {
     "name": "stdout",
     "output_type": "stream",
     "text": [
      "It is Perfect\n"
     ]
    }
   ],
   "source": [
    "#WaP to perfect\n",
    "num=int(input())\n",
    "i=1\n",
    "res=0\n",
    "while (i<num):\n",
    "    if num%i==0:\n",
    "        res+=i\n",
    "    i+=1\n",
    "\n",
    "if res==num:\n",
    "    print(\"It is Perfect\")\n",
    "else:\n",
    "    print(\"Not Perfect\")\n"
   ]
  },
  {
   "cell_type": "code",
   "execution_count": 57,
   "metadata": {},
   "outputs": [
    {
     "name": "stdout",
     "output_type": "stream",
     "text": [
      "82\n"
     ]
    }
   ],
   "source": [
    "l=[40,50,82,45,12]\n",
    "g=l[0]\n",
    "i=0\n",
    "while i<len(l):\n",
    "    if l[i]>g:\n",
    "        g=l[i]\n",
    "    i+=1\n",
    "print(g)"
   ]
  },
  {
   "cell_type": "code",
   "execution_count": 67,
   "metadata": {},
   "outputs": [
    {
     "name": "stdout",
     "output_type": "stream",
     "text": [
      "120\n"
     ]
    }
   ],
   "source": [
    "num=int(input())\n",
    "i=res=num\n",
    "while i>0:\n",
    "    if i>1:\n",
    "        res*=i-1\n",
    "    i-=1 \n",
    "print(res)"
   ]
  },
  {
   "cell_type": "code",
   "execution_count": 68,
   "metadata": {},
   "outputs": [
    {
     "name": "stdout",
     "output_type": "stream",
     "text": [
      "120\n"
     ]
    }
   ],
   "source": [
    "n=int(input())\n",
    "p=i=1\n",
    "while i<=n:\n",
    "    p*=i\n",
    "    i+=1\n",
    "print(p)"
   ]
  },
  {
   "cell_type": "code",
   "execution_count": 82,
   "metadata": {},
   "outputs": [
    {
     "name": "stdout",
     "output_type": "stream",
     "text": [
      "['3', '5', '4']\n",
      "3\n"
     ]
    }
   ],
   "source": [
    "#WAP get smallest in a list\n",
    "#WAP to get diff btw largest and smallest \n",
    "\n",
    "l=[]\n",
    "while True:\n",
    "    ele=input(\"List value\")\n",
    "    if ele==\"\":\n",
    "        break\n",
    "    l.append(ele)\n",
    "print(l)\n",
    "s=l[0]\n",
    "i=1\n",
    "while i<len(l):\n",
    "    if l[i]<s:\n",
    "        s=l[i]\n",
    "    i+=1\n",
    "print(s)"
   ]
  },
  {
   "cell_type": "code",
   "execution_count": 87,
   "metadata": {},
   "outputs": [
    {
     "name": "stdout",
     "output_type": "stream",
     "text": [
      "['4', '5', '8', '7', '1', '2', '6', '3']\n",
      "Small 1  Largest 8\n"
     ]
    }
   ],
   "source": [
    "l=[]\n",
    "while True:\n",
    "    ele=input(\"List value\")\n",
    "    if ele==\"\":\n",
    "        break\n",
    "    l.append(ele)\n",
    "print(l)\n",
    "s=g=l[0]\n",
    "i=1\n",
    "while i<len(l):\n",
    "    if l[i]<s:\n",
    "        s=l[i]\n",
    "    if l[i]>g:\n",
    "        g=l[i]\n",
    "    i+=1\n",
    "print(\"Small\",s,\" Largest\",g)"
   ]
  },
  {
   "cell_type": "code",
   "execution_count": 4,
   "metadata": {},
   "outputs": [
    {
     "ename": "TypeError",
     "evalue": "not all arguments converted during string formatting",
     "output_type": "error",
     "traceback": [
      "\u001b[1;31m---------------------------------------------------------------------------\u001b[0m",
      "\u001b[1;31mTypeError\u001b[0m                                 Traceback (most recent call last)",
      "Cell \u001b[1;32mIn[4], line 7\u001b[0m\n\u001b[0;32m      4\u001b[0m temp\u001b[38;5;241m=\u001b[39m\u001b[38;5;28mint\u001b[39m(num[\u001b[38;5;241m0\u001b[39m])\u001b[38;5;241m+\u001b[39m\u001b[38;5;28mint\u001b[39m(num[\u001b[38;5;241m-\u001b[39m\u001b[38;5;241m1\u001b[39m])\n\u001b[0;32m      5\u001b[0m \u001b[38;5;28;01mwhile\u001b[39;00m (i\u001b[38;5;241m<\u001b[39m\u001b[38;5;241m=\u001b[39mtemp):\n\u001b[1;32m----> 7\u001b[0m     \u001b[38;5;28;01mif\u001b[39;00m \u001b[43mnum\u001b[49m\u001b[38;5;241;43m%\u001b[39;49m\u001b[43mi\u001b[49m\u001b[38;5;241m==\u001b[39m\u001b[38;5;241m0\u001b[39m:\n\u001b[0;32m      8\u001b[0m         count\u001b[38;5;241m+\u001b[39m\u001b[38;5;241m=\u001b[39m\u001b[38;5;241m1\u001b[39m\n\u001b[0;32m      9\u001b[0m     i\u001b[38;5;241m+\u001b[39m\u001b[38;5;241m=\u001b[39m\u001b[38;5;241m1\u001b[39m\n",
      "\u001b[1;31mTypeError\u001b[0m: not all arguments converted during string formatting"
     ]
    }
   ],
   "source": [
    "# wap to check sum of 1st and last digits of then num is prime or not\n",
    "num=input()\n",
    "i=count=0\n",
    "temp=num[0]+num[-1]\n",
    "while (i<=temp): \n",
    "    if num%i==0:\n",
    "        count+=1\n",
    "    i+=1\n",
    "\n",
    "if count==2:\n",
    "    print(\"prime\")\n",
    "else :\n",
    "    print(\"Not Prime\")"
   ]
  },
  {
   "cell_type": "code",
   "execution_count": 14,
   "metadata": {},
   "outputs": [
    {
     "name": "stdout",
     "output_type": "stream",
     "text": [
      "1\n",
      "5\n"
     ]
    }
   ],
   "source": [
    "# wap to odd factor of then given num\n",
    "num=int(input(\"Enter a num\"))\n",
    "i=1\n",
    "while i<=num:\n",
    "    if num%i==0 and i%2==1:\n",
    "            print(i)\n",
    "    i+=1\n",
    "\n"
   ]
  },
  {
   "cell_type": "code",
   "execution_count": 19,
   "metadata": {},
   "outputs": [
    {
     "name": "stdout",
     "output_type": "stream",
     "text": [
      "4 1\n",
      "4 1\n",
      "4 1\n",
      "4 1\n",
      "4 1\n",
      "4 1\n",
      "4 1\n",
      "4 1\n",
      "4 1\n",
      "4 1\n",
      "4 1\n",
      "4 1\n",
      "4 1\n",
      "4 1\n",
      "4 1\n",
      "4 1\n",
      "4 1\n",
      "4 1\n",
      "4 1\n",
      "4 1\n",
      "4 1\n",
      "4 1\n",
      "4 1\n",
      "4 1\n",
      "4 1\n",
      "4 1\n",
      "4 1\n",
      "4 1\n",
      "4 1\n",
      "4 1\n",
      "4 1\n",
      "4 1\n",
      "4 1\n",
      "4 1\n",
      "4 1\n",
      "4 1\n",
      "4 1\n",
      "4 1\n",
      "4 1\n",
      "4 1\n",
      "4 1\n",
      "4 1\n",
      "4 1\n",
      "4 1\n",
      "4 1\n",
      "4 1\n",
      "4 1\n",
      "4 1\n",
      "4 1\n",
      "4 1\n",
      "4 1\n",
      "4 1\n",
      "4 1\n",
      "4 1\n",
      "4 1\n",
      "4 1\n",
      "4 1\n",
      "4 1\n",
      "4 1\n",
      "4 1\n",
      "4 1\n",
      "4 1\n",
      "4 1\n",
      "4 1\n",
      "4 1\n",
      "4 1\n",
      "4 1\n",
      "4 1\n",
      "4 1\n",
      "4 1\n",
      "4 1\n",
      "4 1\n",
      "4 1\n",
      "4 1\n",
      "4 1\n",
      "4 1\n",
      "4 1\n",
      "4 1\n",
      "4 1\n",
      "4 1\n",
      "4 1\n",
      "4 1\n",
      "4 1\n",
      "4 1\n",
      "4 1\n",
      "4 1\n",
      "4 1\n",
      "4 1\n",
      "4 1\n",
      "4 1\n",
      "4 1\n",
      "4 1\n",
      "4 1\n",
      "4 1\n",
      "4 1\n",
      "4 1\n",
      "4 1\n",
      "4 1\n",
      "4 1\n",
      "4 1\n",
      "4 1\n",
      "4 1\n",
      "4 1\n",
      "4 1\n",
      "4 1\n",
      "4 1\n",
      "4 1\n",
      "4 1\n",
      "4 1\n",
      "4 1\n",
      "4 1\n",
      "4 1\n",
      "4 1\n",
      "4 1\n",
      "4 1\n",
      "4 1\n",
      "4 1\n",
      "4 1\n",
      "4 1\n",
      "4 1\n",
      "4 1\n",
      "4 1\n",
      "4 1\n"
     ]
    }
   ],
   "source": [
    "# Wap to print factorial of each digit in gievn\n",
    "num=int(input(\"Enter a num\"))\n",
    "i=1\n",
    "j=1\n",
    "p=1\n",
    "res=num\n",
    "while i<=num:\n",
    "    temp=num%10\n",
    "    res=res//10\n",
    "    while j<=temp:\n",
    "        p*=1\n",
    "        j+=1\n",
    "    print(j,p)\n",
    "    i+=1\n",
    "\n",
    "    "
   ]
  },
  {
   "cell_type": "code",
   "execution_count": 36,
   "metadata": {},
   "outputs": [
    {
     "name": "stdout",
     "output_type": "stream",
     "text": [
      "40585 Strong\n"
     ]
    }
   ],
   "source": [
    "n=int(input())\n",
    "temp=n\n",
    "add=0\n",
    "while n>0:\n",
    "    d=n%10\n",
    "    fact=1\n",
    "    i=1\n",
    "    while(i<=d):\n",
    "        fact*=i\n",
    "        i+=1\n",
    "    add+=fact\n",
    "    n//=10\n",
    "if add==temp:\n",
    "    print(add,\"Strong\")\n",
    "else :\n",
    "    print(add ,\"Not Strong Num\")"
   ]
  },
  {
   "cell_type": "code",
   "execution_count": 47,
   "metadata": {},
   "outputs": [
    {
     "name": "stdout",
     "output_type": "stream",
     "text": [
      "1\n"
     ]
    }
   ],
   "source": [
    "#wap to print largest digit from given num\n",
    "n=int(input(\"Enter Num\"))\n",
    "g=9\n",
    "while n>0:\n",
    "    d=n%10\n",
    "    if d<g:\n",
    "        g=d\n",
    "    n//=10    \n",
    "print(g)\n",
    "\n"
   ]
  },
  {
   "cell_type": "code",
   "execution_count": 51,
   "metadata": {},
   "outputs": [
    {
     "name": "stdout",
     "output_type": "stream",
     "text": [
      "1234\n"
     ]
    }
   ],
   "source": [
    "#wap Reverse the num\n",
    "n=int(input())\n",
    "temp=0\n",
    "while n>0:\n",
    "    d=n%10\n",
    "    n//=10\n",
    "    temp=temp*10+d\n",
    "print(temp)\n"
   ]
  },
  {
   "cell_type": "code",
   "execution_count": 54,
   "metadata": {},
   "outputs": [
    {
     "name": "stdout",
     "output_type": "stream",
     "text": [
      "not palindrome\n"
     ]
    }
   ],
   "source": [
    "# WAP check wathere the rev num is  equal to given num if it is panlin num or print not \n",
    "\n",
    "n=int(input())\n",
    "temp=0\n",
    "t=n\n",
    "while n>0:\n",
    "    d=n%10\n",
    "    n//=10\n",
    "    temp=temp*10+d\n",
    "if temp==t:\n",
    "    print(\"Palindrome\")\n",
    "else:\n",
    "    print(\"not palindrome\")"
   ]
  },
  {
   "cell_type": "code",
   "execution_count": 58,
   "metadata": {},
   "outputs": [
    {
     "ename": "KeyboardInterrupt",
     "evalue": "",
     "output_type": "error",
     "traceback": [
      "\u001b[1;31m---------------------------------------------------------------------------\u001b[0m",
      "\u001b[1;31mKeyboardInterrupt\u001b[0m                         Traceback (most recent call last)",
      "Cell \u001b[1;32mIn[58], line 8\u001b[0m\n\u001b[0;32m      6\u001b[0m d\u001b[38;5;241m=\u001b[39mn\u001b[38;5;241m%\u001b[39m\u001b[38;5;241m10\u001b[39m\n\u001b[0;32m      7\u001b[0m sq\u001b[38;5;241m=\u001b[39md\u001b[38;5;241m*\u001b[39m\u001b[38;5;241m*\u001b[39m\u001b[38;5;241m2\u001b[39m\n\u001b[1;32m----> 8\u001b[0m \u001b[38;5;28;01mwhile\u001b[39;00m sq\u001b[38;5;241m>\u001b[39m\u001b[38;5;241m0\u001b[39m:\n\u001b[0;32m      9\u001b[0m     i\u001b[38;5;241m=\u001b[39msq\u001b[38;5;241m%\u001b[39m\u001b[38;5;241m10\u001b[39m\n\u001b[0;32m     10\u001b[0m     temp\u001b[38;5;241m+\u001b[39m\u001b[38;5;241m=\u001b[39mi\n",
      "\u001b[1;31mKeyboardInterrupt\u001b[0m: "
     ]
    }
   ],
   "source": [
    "n=int(input())\n",
    "\n",
    "while n>0:\n",
    "    temp=0\n",
    "    d=0\n",
    "    d=n%10\n",
    "    sq=d**2\n",
    "    while sq>0:\n",
    "        i=sq%10\n",
    "        temp+=i\n",
    "    n//=10\n",
    "    if temp==sq:\n",
    "        print(\"Neon\")\n",
    "    else :\n",
    "        print(\"not\")"
   ]
  },
  {
   "cell_type": "code",
   "execution_count": 61,
   "metadata": {},
   "outputs": [
    {
     "name": "stdout",
     "output_type": "stream",
     "text": [
      "510756139\n"
     ]
    }
   ],
   "source": [
    "sq=123\n",
    "while sq>0:\n",
    "        i=sq%10\n",
    "        temp+=i\n",
    "        sq//=10\n",
    "print(temp)"
   ]
  },
  {
   "cell_type": "code",
   "execution_count": 3,
   "metadata": {},
   "outputs": [
    {
     "name": "stdout",
     "output_type": "stream",
     "text": [
      "1.5\n"
     ]
    }
   ],
   "source": [
    "num=123\n",
    "s=str(num)\n",
    "mid=len(s)/2\n",
    "print(mid)"
   ]
  },
  {
   "cell_type": "code",
   "execution_count": null,
   "metadata": {},
   "outputs": [],
   "source": [
    "# WAP to check the sum of last and mid digit in a num is palindrome or not\n",
    "num=int(input())  #12345 \n",
    "i=sum=0\n",
    "s=str(num)\n",
    "mid=len(s)/2\n",
    "while i<num:\n",
    "    \n",
    "\n",
    "    "
   ]
  },
  {
   "cell_type": "code",
   "execution_count": 4,
   "metadata": {},
   "outputs": [
    {
     "name": "stdout",
     "output_type": "stream",
     "text": [
      "9 is odd\n",
      "5 is odd\n",
      "1 is odd\n"
     ]
    }
   ],
   "source": [
    "num=int(input())  #only odd to print\n",
    "while num>0:\n",
    "    i=num%10\n",
    "    if i%2==1:\n",
    "        print(i,\"is odd\")\n",
    "    num//=10"
   ]
  },
  {
   "cell_type": "code",
   "execution_count": 38,
   "metadata": {},
   "outputs": [
    {
     "name": "stdout",
     "output_type": "stream",
     "text": [
      "1 6 0\n",
      "Not Perfect\n",
      "2 6 1\n",
      "Not Perfect\n",
      "3 6 6\n",
      "It is Perfect\n"
     ]
    }
   ],
   "source": [
    "num=int(input()) #fact is perfect ot not\n",
    "p=i=1\n",
    "while i<=num:     #why num / 2\n",
    "    p*=i\n",
    "    res=0\n",
    "    j=1\n",
    "    while (j<p):\n",
    "        if p%j==0:\n",
    "            res+=j\n",
    "        j+=1\n",
    "    print(i,num,res)\n",
    "    if res==num:\n",
    "        print(\"It is Perfect\")\n",
    "    else:\n",
    "        print(\"Not Perfect\")\n",
    "    i+=1\n",
    "\n",
    "\n"
   ]
  },
  {
   "cell_type": "code",
   "execution_count": 153,
   "metadata": {},
   "outputs": [
    {
     "name": "stdout",
     "output_type": "stream",
     "text": [
      "6\n",
      "6 is a perfect number\n"
     ]
    }
   ],
   "source": [
    "num = int(input())\n",
    "cp=num\n",
    "fact=1\n",
    "while cp>0:\n",
    "     fact = fact*cp\n",
    "     cp-=1\n",
    "print(fact)\n",
    "sum=0\n",
    "i=1\n",
    "while i<fact:\n",
    "     if fact%i==0:\n",
    "          sum=sum+i\n",
    "     i+=1\n",
    "if sum==fact:\n",
    "     print(fact,\"is a perfect number\")\n",
    "else:\n",
    "    print(fact,\"is not a perfect number\") "
   ]
  },
  {
   "cell_type": "code",
   "execution_count": 37,
   "metadata": {},
   "outputs": [
    {
     "name": "stdout",
     "output_type": "stream",
     "text": [
      "9\n",
      "7\n"
     ]
    }
   ],
   "source": [
    "# Wap to print thee quotation od 1st and last digit in given num\n",
    "num=input()\n",
    "i=0\n",
    "n=len(num)\n",
    "while i<=n:\n",
    "    if i==0 or i==n-1:\n",
    "        print(num[i])           #how to print quotation\n",
    "    i+=1\n",
    "    "
   ]
  },
  {
   "cell_type": "code",
   "execution_count": 53,
   "metadata": {},
   "outputs": [
    {
     "name": "stdout",
     "output_type": "stream",
     "text": [
      "5\n",
      "7\n",
      "11\n",
      "13\n",
      "17\n",
      "19\n"
     ]
    }
   ],
   "source": [
    "#Wap to print prime num from range of 5 to 20\n",
    "i=5\n",
    "count=0\n",
    "while i<20:\n",
    "    count=0\n",
    "    j=1\n",
    "    while (j<=i):\n",
    "        if i%j==0:\n",
    "            count+=1\n",
    "        j+=1\n",
    "    # print(i)\n",
    "    # if count==2:\n",
    "    #     print('the num is prime')\n",
    "    # else:\n",
    "    #     print('not a prime')\n",
    "    if count==2:\n",
    "        print(i)\n",
    "    i+=1\n"
   ]
  },
  {
   "cell_type": "code",
   "execution_count": 60,
   "metadata": {},
   "outputs": [
    {
     "name": "stdout",
     "output_type": "stream",
     "text": [
      "0 It is Even\n",
      "1 It is Odd\n",
      "3 It is Odd\n",
      "6 It is Even\n",
      "10 It is Even\n",
      "15 It is Odd\n"
     ]
    }
   ],
   "source": [
    "i=0     #sum of 1sr  5nos is odd or even\n",
    "sum=0\n",
    "while i<=5:\n",
    "    sum+=i\n",
    "    if sum%2==0:\n",
    "        print(sum,\"It is Even\")\n",
    "    else:\n",
    "        print(sum,\"It is Odd\")\n",
    "    i+=1"
   ]
  },
  {
   "cell_type": "code",
   "execution_count": 65,
   "metadata": {},
   "outputs": [
    {
     "name": "stdout",
     "output_type": "stream",
     "text": [
      "I is  1 ,sum is  1 Product is  1\n",
      "I is  2 ,sum is  3 Product is  2\n",
      "I is  3 ,sum is  6 Product is  6\n",
      "I is  4 ,sum is  10 Product is  24\n",
      "I is  5 ,sum is  15 Product is  120\n"
     ]
    }
   ],
   "source": [
    "#Wap to print sum and product of each digit in the given num\n",
    "num=int(input())\n",
    "i=1\n",
    "sum=0\n",
    "p=1\n",
    "while i<num:\n",
    "    sum+=i\n",
    "    p*=i\n",
    "    print(\"I is \",i,\",sum is \",sum, \"Product is \",p)\n",
    "    i+=1"
   ]
  },
  {
   "cell_type": "code",
   "execution_count": 150,
   "metadata": {},
   "outputs": [
    {
     "name": "stdout",
     "output_type": "stream",
     "text": [
      "given is  456\n",
      "Product 120\n",
      "21\n",
      "non palindrome number\n"
     ]
    }
   ],
   "source": [
    "#wap to check product of each digit in the given num is palindrome or not\n",
    "num=int(input())#123\n",
    "t=num\n",
    "i=0\n",
    "product=1\n",
    "res=0\n",
    "while num>0:\n",
    "    temp=num%10\n",
    "    product*=temp\n",
    "    num//=10\n",
    "h=product\n",
    "print(\"given is \",t)\n",
    "print(\"Product\",h)\n",
    "while product>0:            #how to solve 0 in product of each digit\n",
    "    temp=product%10\n",
    "    res=res*10+temp\n",
    "    product//=10\n",
    "print(res)\n",
    "if h==res:\n",
    "    print(\"palindrome number\")\n",
    "else:\n",
    "    print(\"non palindrome number\")\n",
    "\n",
    "\n"
   ]
  },
  {
   "cell_type": "code",
   "execution_count": 102,
   "metadata": {},
   "outputs": [
    {
     "name": "stdout",
     "output_type": "stream",
     "text": [
      "6 6 6\n",
      "spy num\n"
     ]
    }
   ],
   "source": [
    "#wap to check the sum of each digit is spy or not\n",
    "num=int(input())\n",
    "t=num\n",
    "i=0\n",
    "sum=0\n",
    "product=1\n",
    "while num>0:\n",
    "    temp=num%10\n",
    "    sum+=temp\n",
    "    product*=temp\n",
    "    num//=10\n",
    "    \n",
    "print(t,sum,product)\n",
    "if sum==product:\n",
    "    print(\"spy num\")\n",
    "else:\n",
    "    print(\"not spy num\")\n",
    "\n",
    "\n"
   ]
  },
  {
   "cell_type": "code",
   "execution_count": 118,
   "metadata": {},
   "outputs": [
    {
     "name": "stdout",
     "output_type": "stream",
     "text": [
      "120\n",
      "It is even\n"
     ]
    }
   ],
   "source": [
    "#wap to check count of factors of num is even or odd\n",
    "num=5\n",
    "i=1\n",
    "p=1\n",
    "while i<=num:     \n",
    "    p*=i\n",
    "    i+=1\n",
    "print(p)\n",
    "if p%2==0:\n",
    "    print(\"It is even\")\n",
    "else :\n",
    "    print(\"It is odd\")"
   ]
  },
  {
   "cell_type": "code",
   "execution_count": 124,
   "metadata": {},
   "outputs": [
    {
     "name": "stdout",
     "output_type": "stream",
     "text": [
      "11\n",
      "13\n",
      "15\n",
      "17\n",
      "19\n",
      "21\n",
      "23\n",
      "25\n",
      "27\n",
      "29\n"
     ]
    }
   ],
   "source": [
    "#wap to print the secondd 10 odd num\n",
    "i=10\n",
    "while i<=30:\n",
    "    if i%2==1:\n",
    "        print(i)\n",
    "    i+=1"
   ]
  },
  {
   "cell_type": "code",
   "execution_count": 141,
   "metadata": {},
   "outputs": [
    {
     "name": "stdout",
     "output_type": "stream",
     "text": [
      "1 2\n",
      "2 3\n",
      "6 4\n",
      "24 5\n",
      "120 6\n",
      "1 2\n",
      "2 3\n",
      "6 4\n",
      "24 5\n",
      "1 2\n",
      "145 Strong\n"
     ]
    }
   ],
   "source": [
    "#gven num is strong or not\n",
    "n=int(input())\n",
    "temp=n\n",
    "add=0\n",
    "while n>0:\n",
    "    d=n%10\n",
    "    fact=1\n",
    "    i=1\n",
    "    while(i<=d):\n",
    "        fact*=i\n",
    "        i+=1\n",
    "        print(fact,i)\n",
    "    add+=fact\n",
    "    n//=10\n",
    "if add==temp:\n",
    "    print(add,\"Strong\")\n",
    "else :\n",
    "    print(add ,\"Not Strong Num\")"
   ]
  },
  {
   "cell_type": "code",
   "execution_count": 17,
   "metadata": {},
   "outputs": [
    {
     "name": "stdout",
     "output_type": "stream",
     "text": [
      "['New World\\n', 'New Word\\n']\n"
     ]
    }
   ],
   "source": [
    "fd = open(\"check.txt\",'a+')\n",
    "fd.writelines(\"New Word\")\n",
    "fd.write(\"\\n\")\n",
    "fd.seek(0)\n",
    "print(fd.readlines())\n",
    "fd.close()"
   ]
  },
  {
   "cell_type": "code",
   "execution_count": 18,
   "metadata": {},
   "outputs": [
    {
     "data": {
      "text/plain": [
       "'New World\\nNew Word\\n'"
      ]
     },
     "execution_count": 18,
     "metadata": {},
     "output_type": "execute_result"
    }
   ],
   "source": [
    "fd =open(\"check.txt\",'r')\n",
    "fd.read()"
   ]
  },
  {
   "cell_type": "code",
   "execution_count": 20,
   "metadata": {},
   "outputs": [
    {
     "name": "stdout",
     "output_type": "stream",
     "text": [
      "['New World\\n', 'New Word\\n']\n",
      "\n"
     ]
    }
   ],
   "source": [
    "with open(\"check.txt\",'r')as fd:\n",
    "    fd.seek(0)\n",
    "    print(fd.readlines())\n",
    "    print(fd.read())"
   ]
  }
 ],
 "metadata": {
  "kernelspec": {
   "display_name": "Python 3",
   "language": "python",
   "name": "python3"
  },
  "language_info": {
   "codemirror_mode": {
    "name": "ipython",
    "version": 3
   },
   "file_extension": ".py",
   "mimetype": "text/x-python",
   "name": "python",
   "nbconvert_exporter": "python",
   "pygments_lexer": "ipython3",
   "version": "3.12.5"
  }
 },
 "nbformat": 4,
 "nbformat_minor": 2
}
