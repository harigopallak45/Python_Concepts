{
 "cells": [
  {
   "cell_type": "code",
   "execution_count": null,
   "metadata": {},
   "outputs": [],
   "source": []
  },
  {
   "cell_type": "code",
   "execution_count": 2,
   "metadata": {},
   "outputs": [
    {
     "name": "stdout",
     "output_type": "stream",
     "text": [
      "Name: Grace Age: 21 Gender: Female Occupation: Engineer\n",
      "Name: Hari Age: 21 Gender: Male Occupation: Devloper\n",
      "Name: Sai Age: 24 Gender: Male Occupation: Analyst\n",
      "Name: Jai Age: 23 Gender: Male Occupation: Devloper\n"
     ]
    }
   ],
   "source": [
    "#1 create a class with 4obj  and 4 parameters\n",
    "class Person:\n",
    "    def code(self, name, age, gender, occupation):\n",
    "        self.name = name\n",
    "        self.age = age\n",
    "        self.gender = gender\n",
    "        self.occupation = occupation\n",
    "\n",
    "    def display(self) :\n",
    "        print(\"Name:\", self.name,\"Age:\",self.age,\"Gender:\",self.gender,\"Occupation:\",self.occupation)\n",
    "\n",
    "person1 = Person()\n",
    "person1.code(\"Grace\", 21, \"Female\", \"Engineer\")\n",
    "person1.display()\n",
    "person2 = Person()\n",
    "person2.code(\"Hari\",21,\"Male\",\"Devloper\")\n",
    "person2.display()\n",
    "person3 = Person()\n",
    "person3.code(\"Sai\",24,\"Male\",\"Analyst\")\n",
    "person3.display()\n",
    "person4 = Person()\n",
    "person4.code(\"Jai\",23,\"Male\",\"Devloper\")\n",
    "person4.display()"
   ]
  },
  {
   "cell_type": "code",
   "execution_count": 3,
   "metadata": {},
   "outputs": [
    {
     "name": "stdout",
     "output_type": "stream",
     "text": [
      "Name: Paris Country: France City: Paris Population: 2143271\n",
      "Name: London Country: UK City: London Population: 8908081\n",
      "Name: Tokyo Country: Japan City: Tokyo Population: 13929286\n",
      "Name: New York Country: USA City: New York Population: 19354922\n"
     ]
    }
   ],
   "source": [
    "#2 create a class with 4obj  and 4 parameters\n",
    "class Place :\n",
    "    def loc(self, name, country, city, population):\n",
    "        self.name = name\n",
    "        self.country = country\n",
    "        self.city = city\n",
    "        self.population = population\n",
    "\n",
    "    def display(self):\n",
    "        print(\"Name:\", self.name, \"Country:\", self.country, \"City:\", self.city, \"Population:\", self.population)\n",
    "\n",
    "\n",
    "place1 = Place()\n",
    "place1.loc(\"Paris\", \"France\", \"Paris\", 2143271)\n",
    "place1.display()\n",
    "place2 = Place()\n",
    "place2.loc(\"London\", \"UK\", \"London\", 8908081)\n",
    "place2.display()\n",
    "place3 = Place()\n",
    "place3.loc(\"Tokyo\", \"Japan\", \"Tokyo\", 13929286)\n",
    "place3.display()\n",
    "place4 = Place()\n",
    "place4.loc(\"New York\", \"USA\", \"New York\", 19354922)\n",
    "place4.display()"
   ]
  },
  {
   "cell_type": "code",
   "execution_count": 4,
   "metadata": {},
   "outputs": [
    {
     "name": "stdout",
     "output_type": "stream",
     "text": [
      "Name: Apple Location: USA Product: iPhone 15 Price: 129000\n",
      "Name: Samsung Location: South Korea Product: S24 Price: 135000\n",
      "Name: Google Location: USA Product: Pixel Price: 45000\n",
      "Name: Oppo Location: China Product: A16 Price: 12000\n"
     ]
    }
   ],
   "source": [
    "#3 create a class with 4obj  and 4 parameters\n",
    "class Store :\n",
    "\n",
    "    def shop(self, name, location, product, price):\n",
    "        self.name = name\n",
    "        self.location = location\n",
    "        self.product = product\n",
    "        self.price = price\n",
    "\n",
    "    def display(self):\n",
    "        print(\"Name:\", self.name, \"Location:\", self.location, \"Product:\", self.product, \"Price:\", self.price)\n",
    "\n",
    "\n",
    "store1 = Store()\n",
    "store1.shop(\"Apple\", \"USA\", \"iPhone 15\", 129000)\n",
    "store1.display()\n",
    "store2 = Store()\n",
    "store2.shop(\"Samsung\", \"South Korea\", \"S24\", 135000)\n",
    "store2.display()\n",
    "store3 = Store()\n",
    "store3.shop(\"Google\", \"USA\", \"Pixel\", 45000)\n",
    "store3.display()\n",
    "store4 = Store()\n",
    "store4.shop(\"Oppo\", \"China\", \"A16\", 12000)\n",
    "store4.display()"
   ]
  },
  {
   "cell_type": "code",
   "execution_count": 5,
   "metadata": {},
   "outputs": [
    {
     "name": "stdout",
     "output_type": "stream",
     "text": [
      "Name: Lion Species: Carnivore Type: Mammal Color: Golden\n",
      "Name: Tiger Species: Carnivore Type: Mammal Color: Orange\n",
      "Name: Elephant Species: Herbivore Type: Mammal Color: Gray\n",
      "Name: Giraffe Species: Herbivore Type: Mammal Color: Brown\n"
     ]
    }
   ],
   "source": [
    "#4 create a class with 4obj  and 4 parameters\n",
    "class Animal :\n",
    "    def animal(self, name, species, type, color) :\n",
    "        self.name = name\n",
    "        self.species = species\n",
    "        self.type = type\n",
    "        self.color = color\n",
    "\n",
    "    def display(self):\n",
    "        print(\"Name:\", self.name, \"Species:\", self.species, \"Type:\", self.type, \"Color:\", self.color)\n",
    "\n",
    "animal1 = Animal()\n",
    "animal1.animal(\"Lion\", \"Carnivore\", \"Mammal\", \"Golden\")\n",
    "animal1.display()\n",
    "animal2 = Animal()\n",
    "animal2.animal(\"Tiger\", \"Carnivore\", \"Mammal\", \"Orange\")\n",
    "animal2.display()\n",
    "animal3 = Animal()\n",
    "animal3.animal(\"Elephant\", \"Herbivore\", \"Mammal\", \"Gray\")\n",
    "animal3.display()\n",
    "animal4 = Animal()\n",
    "animal4.animal(\"Giraffe\", \"Herbivore\", \"Mammal\", \"Brown\")\n",
    "animal4.display()"
   ]
  },
  {
   "cell_type": "code",
   "execution_count": 6,
   "metadata": {},
   "outputs": [
    {
     "name": "stdout",
     "output_type": "stream",
     "text": [
      "Name: Apple Color: Red Taste: Sweet Price: 100\n",
      "Name: Banana Color: Yellow Taste: Sweet Price: 50\n",
      "Name: Orange Color: Orange Taste: Citrus Price: 80\n",
      "Name: Mango Color: Yellow Taste: Sweet Price: 150\n"
     ]
    }
   ],
   "source": [
    "#5 create a class with 4obj  and 4 parameters\n",
    "class Fruits :\n",
    "    def fruit(self, name, color, taste, price):\n",
    "        self.name = name\n",
    "        self.color = color\n",
    "        self.taste = taste\n",
    "        self.price = price\n",
    "\n",
    "    def display(self):\n",
    "        print(\"Name:\", self.name, \"Color:\", self.color, \"Taste:\", self.taste, \"Price:\", self.price)\n",
    "\n",
    "fruit1 = Fruits()\n",
    "fruit1.fruit(\"Apple\", \"Red\", \"Sweet\", 100)\n",
    "fruit1.display()\n",
    "fruit2 = Fruits()\n",
    "fruit2.fruit(\"Banana\", \"Yellow\", \"Sweet\", 50)\n",
    "fruit2.display()\n",
    "fruit3 = Fruits()\n",
    "fruit3.fruit(\"Orange\", \"Orange\", \"Citrus\", 80)\n",
    "fruit3.display()\n",
    "fruit4 = Fruits()\n",
    "fruit4.fruit(\"Mango\", \"Yellow\", \"Sweet\", 150)\n",
    "fruit4.display()\n"
   ]
  },
  {
   "cell_type": "code",
   "execution_count": 7,
   "metadata": {},
   "outputs": [
    {
     "name": "stdout",
     "output_type": "stream",
     "text": [
      "Name: Mathematics Teacher: Mr. Hari Duration: 1 hour Grade: A\n",
      "Name: English Teacher: Ms. Archana Duration: 1 hour Grade: B\n",
      "Name: Science Teacher: Mr. Ashok Duration: 1 hour Grade: A\n",
      "Name: History Teacher: Ms. Lakshmi Duration: 1 hour Grade: B\n"
     ]
    }
   ],
   "source": [
    "#6 create a class with 4obj  and 4 parameters\n",
    "class Subject :\n",
    "\n",
    "    def subject(self, name, teacher, duration, grade):\n",
    "        self.name = name\n",
    "        self.teacher = teacher\n",
    "        self.duration = duration\n",
    "        self.grade = grade\n",
    "\n",
    "    def display(self):\n",
    "        print(\"Name:\", self.name, \"Teacher:\", self.teacher, \"Duration:\", self.duration, \"Grade:\", self.grade)\n",
    "\n",
    "subject1 = Subject()\n",
    "subject1.subject(\"Mathematics\", \"Mr. Hari\", \"1 hour\", \"A\")\n",
    "subject1.display()\n",
    "subject2 = Subject()\n",
    "subject2.subject(\"English\", \"Ms. Archana\", \"1 hour\", \"B\")\n",
    "subject2.display()\n",
    "subject3 = Subject()\n",
    "subject3.subject(\"Science\", \"Mr. Ashok\", \"1 hour\", \"A\")\n",
    "subject3.display()\n",
    "subject4 = Subject()\n",
    "subject4.subject(\"History\", \"Ms. Lakshmi\", \"1 hour\", \"B\")\n",
    "subject4.display()"
   ]
  },
  {
   "cell_type": "code",
   "execution_count": 8,
   "metadata": {},
   "outputs": [
    {
     "name": "stdout",
     "output_type": "stream",
     "text": [
      "Name: Hari Age: 15 Gender: Male Grade: 12th\n",
      "Name: Grace Age: 16 Gender: Female Grade: 11th\n",
      "Name: Hamid Age: 14 Gender: Male Grade: 12th\n",
      "Name: Akshita Age: 17 Gender: Female Grade: 12th\n"
     ]
    }
   ],
   "source": [
    "#1 create a class using Constructor with display change using the classmethod \n",
    "class Student :\n",
    "\n",
    "    def __init__(self, name, age, gender, grade='12th'):\n",
    "        self.name = name\n",
    "        self.age = age\n",
    "        self.gender = gender\n",
    "        self.grade = grade\n",
    "        self.display()\n",
    "\n",
    "    @classmethod\n",
    "    def change(cls, grade):\n",
    "        \n",
    "        cls.grade = grade\n",
    "\n",
    "    def display(self):\n",
    "        print(\"Name:\", self.name, \"Age:\", self.age, \"Gender:\", self.gender, \"Grade:\", self.grade)\n",
    "student1 = Student(\"Hari\", 15, \"Male\", )\n",
    "student2 = Student(\"Grace\", 16, \"Female\", \"11th\")\n",
    "Student.change('10th')\n",
    "student3 = Student(\"Hamid\", 14, \"Male\", )\n",
    "student4 = Student(\"Akshita\", 17, \"Female\", \"12th\")\n"
   ]
  },
  {
   "cell_type": "code",
   "execution_count": 9,
   "metadata": {},
   "outputs": [
    {
     "ename": "TypeError",
     "evalue": "Student.__init__() missing 3 required positional arguments: 'age', 'gender', and 'grade'",
     "output_type": "error",
     "traceback": [
      "\u001b[1;31m---------------------------------------------------------------------------\u001b[0m",
      "\u001b[1;31mTypeError\u001b[0m                                 Traceback (most recent call last)",
      "Cell \u001b[1;32mIn[9], line 12\u001b[0m\n\u001b[0;32m     10\u001b[0m     \u001b[38;5;28;01mdef\u001b[39;00m \u001b[38;5;21mdisplay\u001b[39m(\u001b[38;5;28mself\u001b[39m):\n\u001b[0;32m     11\u001b[0m         \u001b[38;5;28mprint\u001b[39m(\u001b[38;5;124m\"\u001b[39m\u001b[38;5;124mName:\u001b[39m\u001b[38;5;124m\"\u001b[39m, \u001b[38;5;28mself\u001b[39m\u001b[38;5;241m.\u001b[39mname, \u001b[38;5;124m\"\u001b[39m\u001b[38;5;124mAge:\u001b[39m\u001b[38;5;124m\"\u001b[39m, \u001b[38;5;28mself\u001b[39m\u001b[38;5;241m.\u001b[39mage, \u001b[38;5;124m\"\u001b[39m\u001b[38;5;124mGender:\u001b[39m\u001b[38;5;124m\"\u001b[39m, \u001b[38;5;28mself\u001b[39m\u001b[38;5;241m.\u001b[39mgender, \u001b[38;5;124m\"\u001b[39m\u001b[38;5;124mGrade:\u001b[39m\u001b[38;5;124m\"\u001b[39m, \u001b[38;5;28mself\u001b[39m\u001b[38;5;241m.\u001b[39mgrade)\n\u001b[1;32m---> 12\u001b[0m s1\u001b[38;5;241m=\u001b[39m\u001b[43mStudent\u001b[49m\u001b[43m(\u001b[49m\u001b[38;5;28;43minput\u001b[39;49m\u001b[43m(\u001b[49m\u001b[43m)\u001b[49m\u001b[43m)\u001b[49m\n",
      "\u001b[1;31mTypeError\u001b[0m: Student.__init__() missing 3 required positional arguments: 'age', 'gender', and 'grade'"
     ]
    }
   ],
   "source": [
    "\n",
    "class Student :\n",
    "\n",
    "    def __init__(self, name, age, gender, grade):\n",
    "        self.name = name\n",
    "        self.age = age\n",
    "        self.gender = gender\n",
    "        self.grade = grade\n",
    "        self.display()\n",
    "\n",
    "    def display(self):\n",
    "        print(\"Name:\", self.name, \"Age:\", self.age, \"Gender:\", self.gender, \"Grade:\", self.grade)\n",
    "s1=Student(input())"
   ]
  },
  {
   "cell_type": "code",
   "execution_count": null,
   "metadata": {},
   "outputs": [
    {
     "name": "stdout",
     "output_type": "stream",
     "text": [
      "Name: Hari Age: 25 Gender: Male Salary: 50000\n",
      "Name: Grace Age: 30 Gender: Female Salary: 60000\n",
      "Name: Hamid Age: 35 Gender: Male Salary: 70000\n",
      "Name: Akshita Age: 40 Gender: Female Salary: 80000\n"
     ]
    }
   ],
   "source": [
    "#2 create a class using Constructor with display automatically\n",
    "class Employee :\n",
    "\n",
    "    def __init__(self, name, age, gender, salary):\n",
    "        self.name = name\n",
    "        self.age = age\n",
    "        self.gender = gender\n",
    "        self.salary = salary\n",
    "        self.display()\n",
    "\n",
    "    def display(self):\n",
    "        print(\"Name:\", self.name, \"Age:\", self.age, \"Gender:\", self.gender, \"Salary:\", self.salary)\n",
    "employee1 = Employee(\"Hari\", 25, \"Male\", 50000)\n",
    "employee2 = Employee(\"Grace\", 30, \"Female\", 60000)\n",
    "employee3 = Employee(\"Hamid\", 35, \"Male\", 70000)\n",
    "employee4 = Employee(\"Akshita\", 40, \"Female\", 80000)\n"
   ]
  },
  {
   "cell_type": "code",
   "execution_count": null,
   "metadata": {},
   "outputs": [
    {
     "name": "stdout",
     "output_type": "stream",
     "text": [
      "Name: Toyota Color: Red Model: Corolla Year: 2023\n",
      "Name: Honda Color: Blue Model: Civic Year: 2023\n",
      "Name: Ford Color: Black Model: Not Provided Year: 2023\n",
      "Name: Chevrolet Color: White Model: Camaro Year: 2023\n",
      "Name: None Color: None Model: Not Provided Year: 2023\n",
      "Name: Tesla Color: None Model: Not Provided Year: 2023\n"
     ]
    }
   ],
   "source": [
    "#3 create a class using Constructor with display automatically and default values\n",
    "class Car:\n",
    "    def __init__(self, name=None, color=None, model=\"Not Provided\", year=2022):\n",
    "        year=2023\n",
    "        self.name = name\n",
    "        self.color = color\n",
    "        self.model = model\n",
    "        self.year = year\n",
    "        self.display()\n",
    "    @classmethod\n",
    "    def change(cls,data):\n",
    "        cls.year=data\n",
    "\n",
    "    def display(self):\n",
    "        print(\"Name:\", self.name, \"Color:\", self.color, \"Model:\", self.model, \"Year:\", self.year)\n",
    "\n",
    "car1 = Car(\"Toyota\", \"Red\", \"Corolla\", 2015)\n",
    "car2 = Car(\"Honda\", \"Blue\", \"Civic\", 2018)\n",
    "car3 = Car(\"Ford\", \"Black\",)\n",
    "Car.change(2024)\n",
    "car4 = Car(\"Chevrolet\", \"White\", \"Camaro\")\n",
    "car5 = Car()  \n",
    "car6 = Car(\"Tesla\") \n",
    "\n"
   ]
  },
  {
   "cell_type": "code",
   "execution_count": null,
   "metadata": {},
   "outputs": [
    {
     "ename": "TypeError",
     "evalue": "Fruits.__init__() missing 4 required positional arguments: 'name', 'color', 'taste', and 'quantity'",
     "output_type": "error",
     "traceback": [
      "\u001b[1;31m---------------------------------------------------------------------------\u001b[0m",
      "\u001b[1;31mTypeError\u001b[0m                                 Traceback (most recent call last)",
      "Cell \u001b[1;32mIn[16], line 22\u001b[0m\n\u001b[0;32m     16\u001b[0m         \u001b[38;5;28mprint\u001b[39m(\u001b[38;5;124mf\u001b[39m\u001b[38;5;124m\"\u001b[39m\u001b[38;5;124mName: \u001b[39m\u001b[38;5;132;01m{\u001b[39;00m\u001b[38;5;28mself\u001b[39m\u001b[38;5;241m.\u001b[39mname\u001b[38;5;132;01m}\u001b[39;00m\u001b[38;5;124m, Color: \u001b[39m\u001b[38;5;132;01m{\u001b[39;00m\u001b[38;5;28mself\u001b[39m\u001b[38;5;241m.\u001b[39mcolor\u001b[38;5;132;01m}\u001b[39;00m\u001b[38;5;124m, Taste: \u001b[39m\u001b[38;5;132;01m{\u001b[39;00m\u001b[38;5;28mself\u001b[39m\u001b[38;5;241m.\u001b[39mtaste\u001b[38;5;132;01m}\u001b[39;00m\u001b[38;5;124m, Quantity: \u001b[39m\u001b[38;5;132;01m{\u001b[39;00m\u001b[38;5;28mself\u001b[39m\u001b[38;5;241m.\u001b[39mquantity\u001b[38;5;132;01m}\u001b[39;00m\u001b[38;5;124m\"\u001b[39m)\n\u001b[0;32m     20\u001b[0m Fruits\u001b[38;5;241m.\u001b[39mchange(\u001b[38;5;124m'\u001b[39m\u001b[38;5;124m3\u001b[39m\u001b[38;5;124m'\u001b[39m)\n\u001b[1;32m---> 22\u001b[0m fruit5 \u001b[38;5;241m=\u001b[39m \u001b[43mFruits\u001b[49m\u001b[43m(\u001b[49m\u001b[43m)\u001b[49m \n\u001b[0;32m     23\u001b[0m fruit6 \u001b[38;5;241m=\u001b[39m Fruits(\u001b[38;5;124m\"\u001b[39m\u001b[38;5;124mPineapple\u001b[39m\u001b[38;5;124m\"\u001b[39m)\n",
      "\u001b[1;31mTypeError\u001b[0m: Fruits.__init__() missing 4 required positional arguments: 'name', 'color', 'taste', and 'quantity'"
     ]
    }
   ],
   "source": [
    "#4 create a class using Constructor with display automatically and default values and parameters\n",
    "class Fruits:\n",
    "    quantity=\"2\"\n",
    "    def __init__(self, name, color, taste, quantity):\n",
    "        self.name = name\n",
    "        self.color = color\n",
    "        self.taste = taste\n",
    "        self.quantity = quantity\n",
    "        self.display()\n",
    "\n",
    "    @classmethod\n",
    "    def change(cls, data):\n",
    "        cls.quantity = data\n",
    "\n",
    "    def display(self):\n",
    "        print(f\"Name: {self.name}, Color: {self.color}, Taste: {self.taste}, Quantity: {self.quantity}\")\n",
    "\n",
    "\n",
    "\n",
    "Fruits.change('3')\n",
    "\n"
   ]
  },
  {
   "cell_type": "code",
   "execution_count": null,
   "metadata": {},
   "outputs": [
    {
     "name": "stdout",
     "output_type": "stream",
     "text": [
      "Mathematics Mr. Kumar 2 hours 10th\n"
     ]
    },
    {
     "ename": "TypeError",
     "evalue": "Subject.change_teacher() missing 1 required positional argument: 'new_teacher'",
     "output_type": "error",
     "traceback": [
      "\u001b[1;31m---------------------------------------------------------------------------\u001b[0m",
      "\u001b[1;31mTypeError\u001b[0m                                 Traceback (most recent call last)",
      "Cell \u001b[1;32mIn[17], line 17\u001b[0m\n\u001b[0;32m     14\u001b[0m         \u001b[38;5;28mprint\u001b[39m(\u001b[38;5;124mf\u001b[39m\u001b[38;5;124m\"\u001b[39m\u001b[38;5;124mNew teacher for \u001b[39m\u001b[38;5;132;01m{\u001b[39;00m\u001b[38;5;28mself\u001b[39m\u001b[38;5;241m.\u001b[39mname\u001b[38;5;132;01m}\u001b[39;00m\u001b[38;5;124m is \u001b[39m\u001b[38;5;132;01m{\u001b[39;00m\u001b[38;5;28mself\u001b[39m\u001b[38;5;241m.\u001b[39mteacher\u001b[38;5;132;01m}\u001b[39;00m\u001b[38;5;124m\"\u001b[39m)\n\u001b[0;32m     16\u001b[0m subject1 \u001b[38;5;241m=\u001b[39m Subject(\u001b[38;5;124m\"\u001b[39m\u001b[38;5;124mMathematics\u001b[39m\u001b[38;5;124m\"\u001b[39m, \u001b[38;5;124m\"\u001b[39m\u001b[38;5;124mMr. Kumar\u001b[39m\u001b[38;5;124m\"\u001b[39m, \u001b[38;5;124m\"\u001b[39m\u001b[38;5;124m2 hours\u001b[39m\u001b[38;5;124m\"\u001b[39m, \u001b[38;5;124m\"\u001b[39m\u001b[38;5;124m10th\u001b[39m\u001b[38;5;124m\"\u001b[39m)\n\u001b[1;32m---> 17\u001b[0m \u001b[43mSubject\u001b[49m\u001b[38;5;241;43m.\u001b[39;49m\u001b[43mchange_teacher\u001b[49m\u001b[43m(\u001b[49m\u001b[38;5;124;43m\"\u001b[39;49m\u001b[38;5;124;43mMr. Hari\u001b[39;49m\u001b[38;5;124;43m\"\u001b[39;49m\u001b[43m)\u001b[49m\n",
      "\u001b[1;31mTypeError\u001b[0m: Subject.change_teacher() missing 1 required positional argument: 'new_teacher'"
     ]
    }
   ],
   "source": [
    "\n",
    "#5 create a class using Constructor with display automatically and default values and parameters and methods\n",
    "class Subject:\n",
    "    def __init__(self, name=\"Not Provided\", teacher=\"Not Provided\", duration=\"Not Provided\", grade=\"Not Given\"):\n",
    "        self.name = name\n",
    "        self.teacher = teacher\n",
    "        self.duration = duration\n",
    "        self.grade = grade\n",
    "        self.display()\n",
    "\n",
    "    def display(self):\n",
    "        print(f\"{self.name} {self.teacher} {self.duration} {self.grade}\")\n",
    "    def change_teacher(self, new_teacher):\n",
    "        self.teacher = new_teacher\n",
    "        print(f\"New teacher for {self.name} is {self.teacher}\")\n",
    "\n",
    "subject1 = Subject(\"Mathematics\", \"Mr. Kumar\", \"2 hours\", \"10th\")\n",
    "Subject.change_teacher(\"Mr. Hari\")"
   ]
  },
  {
   "cell_type": "code",
   "execution_count": null,
   "metadata": {},
   "outputs": [
    {
     "name": "stdout",
     "output_type": "stream",
     "text": [
      "elephant mammal Grey Herbi\n",
      "abc sdf fgh ghj\n"
     ]
    }
   ],
   "source": [
    "class animal:\n",
    "    name='Type Name'\n",
    "    type='Mammal'\n",
    "    def __init__(self, name, type, color) :\n",
    "        self.name = name\n",
    "        self.type = type\n",
    "        self.color = color\n",
    "\n",
    "class food (animal):\n",
    "    species=\"Herbi\"\n",
    "    def add(self,species):\n",
    "        self.species=species\n",
    "\n",
    "    def display(self):\n",
    "        print(self.name,self.type,self.color,self.species)\n",
    "\n",
    "#class display(food):\n",
    "    \n",
    "\n",
    "\n",
    "f1=food('elephant','mammal','Grey')\n",
    "f2=food(\"abc\",\"sdf\",\"fgh\")\n",
    "f2.add(\"ghj\")\n",
    "f1.display()\n",
    "f2.display()\n"
   ]
  },
  {
   "cell_type": "code",
   "execution_count": null,
   "metadata": {},
   "outputs": [
    {
     "name": "stdout",
     "output_type": "stream",
     "text": [
      "None more than 100000 None None None platinum metal touch 2\n"
     ]
    }
   ],
   "source": [
    "class watch:\n",
    "    brand=None\n",
    "    price=\"more than 100000\"\n",
    "    type=None\n",
    "    gender=None\n",
    "    shape=None\n",
    "    def __init__(self ,brand,price,type,gender,shape):\n",
    "        self.brand\n",
    "        self.price\n",
    "        self.type\n",
    "        self.gender\n",
    "        self.shape\n",
    "\n",
    "class watch1(watch):\n",
    "    def __init__(self, brand, price, type, gender, shape,metal,stripe,screen,quan):\n",
    "        super().__init__(brand, price, type, gender, shape)\n",
    "        self.metal=metal\n",
    "        self.screen=screen\n",
    "        self.stripe=stripe\n",
    "        self.quan=quan\n",
    "\n",
    "\n",
    "    def disp(self):\n",
    "        print(self.brand,self.price,self.type,self.gender,self.shape,self.metal,self.stripe,self.screen,self.quan)\n",
    "\n",
    "w1=watch1('casino',1000000,'digital','uni','square','platinum','metal','touch',2)\n",
    "w1.disp()"
   ]
  },
  {
   "cell_type": "code",
   "execution_count": null,
   "metadata": {},
   "outputs": [
    {
     "name": "stdout",
     "output_type": "stream",
     "text": [
      "Name  hari Age  21\n",
      "Roll 123\n"
     ]
    }
   ],
   "source": [
    "class stud:\n",
    "    def __init__(self,name,age):\n",
    "        self.name=name\n",
    "        self.age=age\n",
    "    def disp(self):\n",
    "        print(\"Name \",self.name, \"Age \",self.age)\n",
    "class stud1(stud):\n",
    "    def __init__(self,name,age,roll):\n",
    "        super().__init__(name,age)\n",
    "        self.roll=roll\n",
    "    def disp(self):\n",
    "        super().disp()\n",
    "        print(\"Roll\",self.roll)\n",
    "s1=stud1(\"hari\",21,123)\n",
    "s1.disp()"
   ]
  },
  {
   "cell_type": "code",
   "execution_count": null,
   "metadata": {},
   "outputs": [
    {
     "name": "stdout",
     "output_type": "stream",
     "text": [
      "Name: Hari Age: 21 Gender: Male Salary: 50000 Address: Chennai\n",
      "Language: Python Skills: Fullstack\n"
     ]
    }
   ],
   "source": [
    "#WAP for req create a class employee with 5 object variables \n",
    "#create a constructor \n",
    "#create a display()\n",
    "#create a sub class developer\n",
    "#it contains 8 object variable and create a display method \n",
    "#create 2 object for subclass and call respective method\n",
    "\n",
    "class Employee:\n",
    "    def __init__(self, name, age, gender, salary, address):\n",
    "        self.name = name\n",
    "        self.age = age\n",
    "        self.gender = gender\n",
    "        self.salary = salary\n",
    "        self.address = address\n",
    "    def display(self):\n",
    "        print(\"Name:\", self.name, \"Age:\", self.age, \"Gender:\", self.gender, \"Salary:\", self.salary, \"Address:\", self.address)\n",
    "\n",
    "class Developer(Employee):\n",
    "    def __init__(self, name, age, gender, salary, address, language, skills):\n",
    "        super().__init__(name, age, gender, salary, address)\n",
    "        self.language = language\n",
    "        self.skills = skills\n",
    "    def display(self):\n",
    "        super().display()\n",
    "        print(\"Language:\", self.language, \"Skills:\", self.skills)\n",
    "\n",
    "\n",
    "dev1 = Developer(\"Hari\", 21, \"Male\", 50000, \"Chennai\", \"Python\",\"Fullstack\")\n",
    "dev1.display()"
   ]
  },
  {
   "cell_type": "code",
   "execution_count": null,
   "metadata": {},
   "outputs": [
    {
     "name": "stdout",
     "output_type": "stream",
     "text": [
      "Mathematics Mr. Kumar 2 hours 10th\n"
     ]
    },
    {
     "ename": "TypeError",
     "evalue": "Subject.__init__() takes 5 positional arguments but 6 were given",
     "output_type": "error",
     "traceback": [
      "\u001b[1;31m---------------------------------------------------------------------------\u001b[0m",
      "\u001b[1;31mTypeError\u001b[0m                                 Traceback (most recent call last)",
      "Cell \u001b[1;32mIn[5], line 26\u001b[0m\n\u001b[0;32m     22\u001b[0m         \u001b[38;5;28mprint\u001b[39m(\u001b[38;5;124mf\u001b[39m\u001b[38;5;124m\"\u001b[39m\u001b[38;5;132;01m{\u001b[39;00m\u001b[38;5;28mself\u001b[39m\u001b[38;5;241m.\u001b[39mcourse\u001b[38;5;132;01m}\u001b[39;00m\u001b[38;5;124m \u001b[39m\u001b[38;5;132;01m{\u001b[39;00m\u001b[38;5;28mself\u001b[39m\u001b[38;5;241m.\u001b[39minstitute\u001b[38;5;132;01m}\u001b[39;00m\u001b[38;5;124m\"\u001b[39m)\n\u001b[0;32m     24\u001b[0m subject1 \u001b[38;5;241m=\u001b[39m Subject(\u001b[38;5;124m\"\u001b[39m\u001b[38;5;124mMathematics\u001b[39m\u001b[38;5;124m\"\u001b[39m, \u001b[38;5;124m\"\u001b[39m\u001b[38;5;124mMr. Kumar\u001b[39m\u001b[38;5;124m\"\u001b[39m, \u001b[38;5;124m\"\u001b[39m\u001b[38;5;124m2 hours\u001b[39m\u001b[38;5;124m\"\u001b[39m, \u001b[38;5;124m\"\u001b[39m\u001b[38;5;124m10th\u001b[39m\u001b[38;5;124m\"\u001b[39m)\n\u001b[1;32m---> 26\u001b[0m course1 \u001b[38;5;241m=\u001b[39m \u001b[43mCourse\u001b[49m\u001b[43m(\u001b[49m\u001b[38;5;124;43m\"\u001b[39;49m\u001b[38;5;124;43mMathematics\u001b[39;49m\u001b[38;5;124;43m\"\u001b[39;49m\u001b[43m,\u001b[49m\u001b[43m \u001b[49m\u001b[38;5;124;43m\"\u001b[39;49m\u001b[38;5;124;43mMr. Kumar\u001b[39;49m\u001b[38;5;124;43m\"\u001b[39;49m\u001b[43m,\u001b[49m\u001b[43m \u001b[49m\u001b[38;5;124;43m\"\u001b[39;49m\u001b[38;5;124;43m2 hours\u001b[39;49m\u001b[38;5;124;43m\"\u001b[39;49m\u001b[43m,\u001b[49m\u001b[43m \u001b[49m\u001b[38;5;124;43m\"\u001b[39;49m\u001b[38;5;124;43m10th\u001b[39;49m\u001b[38;5;124;43m\"\u001b[39;49m\u001b[43m,\u001b[49m\u001b[43m \u001b[49m\u001b[38;5;124;43m\"\u001b[39;49m\u001b[38;5;124;43mMathematics\u001b[39;49m\u001b[38;5;124;43m\"\u001b[39;49m\u001b[43m,\u001b[49m\u001b[43m \u001b[49m\u001b[38;5;124;43m\"\u001b[39;49m\u001b[38;5;124;43mABC\u001b[39;49m\u001b[38;5;124;43m\"\u001b[39;49m\u001b[43m)\u001b[49m\n",
      "Cell \u001b[1;32mIn[5], line 15\u001b[0m, in \u001b[0;36mCourse.__init__\u001b[1;34m(self, name, teacher, duration, grade, course, institute)\u001b[0m\n\u001b[0;32m     14\u001b[0m \u001b[38;5;28;01mdef\u001b[39;00m \u001b[38;5;21m__init__\u001b[39m(\u001b[38;5;28mself\u001b[39m, name, teacher, duration, grade,course,institute):\n\u001b[1;32m---> 15\u001b[0m     \u001b[38;5;28;43msuper\u001b[39;49m\u001b[43m(\u001b[49m\u001b[43m)\u001b[49m\u001b[38;5;241;43m.\u001b[39;49m\u001b[38;5;21;43m__init__\u001b[39;49m\u001b[43m(\u001b[49m\u001b[38;5;28;43mself\u001b[39;49m\u001b[43m,\u001b[49m\u001b[43mname\u001b[49m\u001b[43m,\u001b[49m\u001b[43mteacher\u001b[49m\u001b[43m,\u001b[49m\u001b[43m \u001b[49m\u001b[43mduration\u001b[49m\u001b[43m,\u001b[49m\u001b[43m \u001b[49m\u001b[43mgrade\u001b[49m\u001b[43m)\u001b[49m\n\u001b[0;32m     16\u001b[0m     \u001b[38;5;28mself\u001b[39m\u001b[38;5;241m.\u001b[39mcourse \u001b[38;5;241m=\u001b[39m course\n\u001b[0;32m     17\u001b[0m     \u001b[38;5;28mself\u001b[39m\u001b[38;5;241m.\u001b[39minstitute \u001b[38;5;241m=\u001b[39m institute\n",
      "\u001b[1;31mTypeError\u001b[0m: Subject.__init__() takes 5 positional arguments but 6 were given"
     ]
    }
   ],
   "source": [
    "#inheritance single level\n",
    "class Subject:\n",
    "    def __init__(self, name, teacher, duration, grade):\n",
    "        self.name = name\n",
    "        self.teacher = teacher\n",
    "        self.duration = duration\n",
    "        self.grade = grade\n",
    "        self.display()\n",
    "\n",
    "    def display(self):\n",
    "        print(f\"{self.name} {self.teacher} {self.duration} {self.grade}\")\n",
    "\n",
    "class Course(Subject):\n",
    "    def __init__(self, name, teacher, duration, grade,course,institute):\n",
    "        super().__init__(self,name,teacher, duration, grade)\n",
    "        self.course = course\n",
    "        self.institute = institute\n",
    "        self.display()\n",
    "\n",
    "    def display(self):\n",
    "        super().display()\n",
    "        print(f\"{self.course} {self.institute}\")\n",
    "\n",
    "subject1 = Subject(\"Mathematics\", \"Mr. Kumar\", \"2 hours\", \"10th\")\n",
    "\n",
    "course1 = Course(\"Mathematics\", \"Mr. Kumar\", \"2 hours\", \"10th\", \"Mathematics\", \"ABC\")\n",
    "\n"
   ]
  },
  {
   "cell_type": "code",
   "execution_count": null,
   "metadata": {},
   "outputs": [
    {
     "name": "stdout",
     "output_type": "stream",
     "text": [
      "Name: Hari Age: 21 Gender: Male\n",
      "Name: Hari Age: 21 Gender: Male\n"
     ]
    },
    {
     "ename": "AttributeError",
     "evalue": "'Child' object has no attribute 'grade'",
     "output_type": "error",
     "traceback": [
      "\u001b[1;31m---------------------------------------------------------------------------\u001b[0m",
      "\u001b[1;31mAttributeError\u001b[0m                            Traceback (most recent call last)",
      "Cell \u001b[1;32mIn[1], line 31\u001b[0m\n\u001b[0;32m     28\u001b[0m         \u001b[38;5;28mprint\u001b[39m(\u001b[38;5;124m\"\u001b[39m\u001b[38;5;124mSection:\u001b[39m\u001b[38;5;124m\"\u001b[39m, \u001b[38;5;28mself\u001b[39m\u001b[38;5;241m.\u001b[39msection)\n\u001b[0;32m     30\u001b[0m parent1 \u001b[38;5;241m=\u001b[39m Parent(\u001b[38;5;124m\"\u001b[39m\u001b[38;5;124mHari\u001b[39m\u001b[38;5;124m\"\u001b[39m, \u001b[38;5;241m21\u001b[39m, \u001b[38;5;124m\"\u001b[39m\u001b[38;5;124mMale\u001b[39m\u001b[38;5;124m\"\u001b[39m)\n\u001b[1;32m---> 31\u001b[0m child1 \u001b[38;5;241m=\u001b[39m \u001b[43mChild\u001b[49m\u001b[43m(\u001b[49m\u001b[38;5;124;43m\"\u001b[39;49m\u001b[38;5;124;43mHari\u001b[39;49m\u001b[38;5;124;43m\"\u001b[39;49m\u001b[43m,\u001b[49m\u001b[43m \u001b[49m\u001b[38;5;241;43m21\u001b[39;49m\u001b[43m,\u001b[49m\u001b[43m \u001b[49m\u001b[38;5;124;43m\"\u001b[39;49m\u001b[38;5;124;43mMale\u001b[39;49m\u001b[38;5;124;43m\"\u001b[39;49m\u001b[43m,\u001b[49m\u001b[43m \u001b[49m\u001b[38;5;124;43m\"\u001b[39;49m\u001b[38;5;124;43m10th\u001b[39;49m\u001b[38;5;124;43m\"\u001b[39;49m\u001b[43m)\u001b[49m\n\u001b[0;32m     32\u001b[0m grandchild1 \u001b[38;5;241m=\u001b[39m GrandChild(\u001b[38;5;124m\"\u001b[39m\u001b[38;5;124mHari\u001b[39m\u001b[38;5;124m\"\u001b[39m, \u001b[38;5;241m21\u001b[39m, \u001b[38;5;124m\"\u001b[39m\u001b[38;5;124mMale\u001b[39m\u001b[38;5;124m\"\u001b[39m, \u001b[38;5;124m\"\u001b[39m\u001b[38;5;124m10th\u001b[39m\u001b[38;5;124m\"\u001b[39m, \u001b[38;5;124m\"\u001b[39m\u001b[38;5;124mA\u001b[39m\u001b[38;5;124m\"\u001b[39m)\n",
      "Cell \u001b[1;32mIn[1], line 13\u001b[0m, in \u001b[0;36mChild.__init__\u001b[1;34m(self, name, age, gender, grade)\u001b[0m\n\u001b[0;32m     12\u001b[0m \u001b[38;5;28;01mdef\u001b[39;00m \u001b[38;5;21m__init__\u001b[39m(\u001b[38;5;28mself\u001b[39m, name, age, gender, grade):\n\u001b[1;32m---> 13\u001b[0m     \u001b[38;5;28;43msuper\u001b[39;49m\u001b[43m(\u001b[49m\u001b[43m)\u001b[49m\u001b[38;5;241;43m.\u001b[39;49m\u001b[38;5;21;43m__init__\u001b[39;49m\u001b[43m(\u001b[49m\u001b[43mname\u001b[49m\u001b[43m,\u001b[49m\u001b[43m \u001b[49m\u001b[43mage\u001b[49m\u001b[43m,\u001b[49m\u001b[43m \u001b[49m\u001b[43mgender\u001b[49m\u001b[43m)\u001b[49m\n\u001b[0;32m     14\u001b[0m     \u001b[38;5;28mself\u001b[39m\u001b[38;5;241m.\u001b[39mgrade \u001b[38;5;241m=\u001b[39m grade\n\u001b[0;32m     15\u001b[0m     \u001b[38;5;28mself\u001b[39m\u001b[38;5;241m.\u001b[39mdisplay()\n",
      "Cell \u001b[1;32mIn[1], line 7\u001b[0m, in \u001b[0;36mParent.__init__\u001b[1;34m(self, name, age, gender)\u001b[0m\n\u001b[0;32m      5\u001b[0m \u001b[38;5;28mself\u001b[39m\u001b[38;5;241m.\u001b[39mage \u001b[38;5;241m=\u001b[39m age\n\u001b[0;32m      6\u001b[0m \u001b[38;5;28mself\u001b[39m\u001b[38;5;241m.\u001b[39mgender \u001b[38;5;241m=\u001b[39m gender\n\u001b[1;32m----> 7\u001b[0m \u001b[38;5;28;43mself\u001b[39;49m\u001b[38;5;241;43m.\u001b[39;49m\u001b[43mdisplay\u001b[49m\u001b[43m(\u001b[49m\u001b[43m)\u001b[49m\n",
      "Cell \u001b[1;32mIn[1], line 19\u001b[0m, in \u001b[0;36mChild.display\u001b[1;34m(self)\u001b[0m\n\u001b[0;32m     17\u001b[0m \u001b[38;5;28;01mdef\u001b[39;00m \u001b[38;5;21mdisplay\u001b[39m(\u001b[38;5;28mself\u001b[39m):\n\u001b[0;32m     18\u001b[0m     \u001b[38;5;28msuper\u001b[39m()\u001b[38;5;241m.\u001b[39mdisplay()\n\u001b[1;32m---> 19\u001b[0m     \u001b[38;5;28mprint\u001b[39m(\u001b[38;5;124m\"\u001b[39m\u001b[38;5;124mGrade:\u001b[39m\u001b[38;5;124m\"\u001b[39m, \u001b[38;5;28;43mself\u001b[39;49m\u001b[38;5;241;43m.\u001b[39;49m\u001b[43mgrade\u001b[49m)\n",
      "\u001b[1;31mAttributeError\u001b[0m: 'Child' object has no attribute 'grade'"
     ]
    }
   ],
   "source": [
    "#inheritance multi level\n",
    "class Parent:\n",
    "    def __init__(self, name, age, gender):\n",
    "        self.name = name\n",
    "        self.age = age\n",
    "        self.gender = gender\n",
    "        self.display()\n",
    "\n",
    "    def display(self):\n",
    "        print(\"Name:\", self.name, \"Age:\", self.age, \"Gender:\", self.gender)\n",
    "class Child(Parent):\n",
    "    def __init__(self, name, age, gender, grade):\n",
    "        super().__init__(name, age, gender)\n",
    "        self.grade = grade\n",
    "        self.display()\n",
    "\n",
    "    def display(self):\n",
    "        super().display()\n",
    "        print(\"Grade:\", self.grade)\n",
    "class GrandChild(Child):\n",
    "    def __init__(self, name, age, gender, grade, section):\n",
    "        super().__init__(name, age, gender, grade)\n",
    "        self.section = section\n",
    "        self.display()\n",
    "\n",
    "    def display(self):\n",
    "        super().display()\n",
    "        print(\"Section:\", self.section)\n",
    "\n",
    "parent1 = Parent(\"Hari\", 21, \"Male\")\n",
    "child1 = Child(\"Hari\", 21, \"Male\", \"10th\")\n",
    "grandchild1 = GrandChild(\"Hari\", 21, \"Male\", \"10th\", \"A\")"
   ]
  },
  {
   "cell_type": "code",
   "execution_count": null,
   "metadata": {},
   "outputs": [
    {
     "name": "stdout",
     "output_type": "stream",
     "text": [
      "123 Elm St 2005 10 True 101 1\n"
     ]
    }
   ],
   "source": [
    "class Building:\n",
    "    def __init__(self, address, year_built):\n",
    "        self.address = address\n",
    "        self.year_built = year_built\n",
    "\n",
    "class Residential(Building):\n",
    "    def __init__(self, address, year_built, num_units, has_garden):\n",
    "        super().__init__(address, year_built)\n",
    "        self.num_units = num_units\n",
    "        self.has_garden = has_garden\n",
    "\n",
    "class Apartment(Residential):\n",
    "    def __init__(self, address, year_built, num_units, has_garden, unit_number, floor):\n",
    "        super().__init__(address, year_built, num_units, has_garden)\n",
    "        self.unit_number = unit_number\n",
    "        self.floor = floor\n",
    "\n",
    "apartment = Apartment(\"123 Elm St\", 2005, 10, True, \"101\", 1)\n",
    "print(apartment.address, apartment.year_built, apartment.num_units, apartment.has_garden, apartment.unit_number, apartment.floor)\n"
   ]
  },
  {
   "cell_type": "code",
   "execution_count": 10,
   "metadata": {},
   "outputs": [
    {
     "name": "stdout",
     "output_type": "stream",
     "text": [
      "Red 2 5\n",
      "Blue 3 10 20\n"
     ]
    }
   ],
   "source": [
    "class Shape:\n",
    "    def __init__(self, color, border_thickness):\n",
    "        self.color = color\n",
    "        self.border_thickness = border_thickness\n",
    "\n",
    "class Circle(Shape):\n",
    "    def __init__(self, color, border_thickness, radius):\n",
    "        super().__init__(color, border_thickness)\n",
    "        self.radius = radius\n",
    "\n",
    "class Rectangle(Shape):\n",
    "    def __init__(self, color, border_thickness, length, width):\n",
    "        super().__init__(color, border_thickness)\n",
    "        self.length = length\n",
    "        self.width = width\n",
    "\n",
    "circle = Circle(\"Red\", 2, 5)\n",
    "rectangle = Rectangle(\"Blue\", 3, 10, 20)\n",
    "print(circle.color, circle.border_thickness, circle.radius)\n",
    "print(rectangle.color, rectangle.border_thickness, rectangle.length, rectangle.width)\n"
   ]
  },
  {
   "cell_type": "code",
   "execution_count": 12,
   "metadata": {},
   "outputs": [
    {
     "name": "stdout",
     "output_type": "stream",
     "text": [
      "Alice SM123 IT 10 North America 15\n"
     ]
    }
   ],
   "source": [
    "class Employee:\n",
    "    def __init__(self, name, employee_id):\n",
    "        self.name = name\n",
    "        self.employee_id = employee_id\n",
    "\n",
    "class Manager(Employee):\n",
    "    def __init__(self, name, employee_id, department, num_reports):\n",
    "        super().__init__(name, employee_id)\n",
    "        self.department = department\n",
    "        self.num_reports = num_reports\n",
    "\n",
    "class SeniorManager(Manager):\n",
    "    def __init__(self, name, employee_id, department, num_reports, region, years_experience):\n",
    "        super().__init__(name, employee_id, department, num_reports)\n",
    "        self.region = region\n",
    "        self.years_experience = years_experience\n",
    "\n",
    "senior_manager = SeniorManager(\"Alice\", \"SM123\", \"IT\", 10, \"North America\", 15)\n",
    "print(senior_manager.name, senior_manager.employee_id, senior_manager.department, senior_manager.num_reports, senior_manager.region, senior_manager.years_experience)\n"
   ]
  },
  {
   "cell_type": "code",
   "execution_count": 13,
   "metadata": {},
   "outputs": [
    {
     "name": "stdout",
     "output_type": "stream",
     "text": [
      "Alice SM123 IT 10 North America 15\n"
     ]
    }
   ],
   "source": [
    "class Employee:\n",
    "    def __init__(self, name, employee_id):\n",
    "        self.name = name\n",
    "        self.employee_id = employee_id\n",
    "\n",
    "class Manager(Employee):\n",
    "    def __init__(self, name, employee_id, department, num_reports):\n",
    "        super().__init__(name, employee_id)\n",
    "        self.department = department\n",
    "        self.num_reports = num_reports\n",
    "\n",
    "class SeniorManager(Manager):\n",
    "    def __init__(self, name, employee_id, department, num_reports, region, years_experience):\n",
    "        super().__init__(name, employee_id, department, num_reports)\n",
    "        self.region = region\n",
    "        self.years_experience = years_experience\n",
    "\n",
    "senior_manager = SeniorManager(\"Alice\", \"SM123\", \"IT\", 10, \"North America\", 15)\n",
    "print(senior_manager.name, senior_manager.employee_id, senior_manager.department, senior_manager.num_reports, senior_manager.region, senior_manager.years_experience)\n"
   ]
  },
  {
   "cell_type": "code",
   "execution_count": 14,
   "metadata": {},
   "outputs": [
    {
     "name": "stdout",
     "output_type": "stream",
     "text": [
      "Canine Domestic Brown True Labrador Large\n"
     ]
    }
   ],
   "source": [
    "class Animal:\n",
    "    def __init__(self, species, habitat):\n",
    "        self.species = species\n",
    "        self.habitat = habitat\n",
    "\n",
    "class Mammal(Animal):\n",
    "    def __init__(self, species, habitat, fur_color, has_live_birth):\n",
    "        super().__init__(species, habitat)\n",
    "        self.fur_color = fur_color\n",
    "        self.has_live_birth = has_live_birth\n",
    "\n",
    "class Dog(Mammal):\n",
    "    def __init__(self, species, habitat, fur_color, has_live_birth, breed, size):\n",
    "        super().__init__(species, habitat, fur_color, has_live_birth)\n",
    "        self.breed = breed\n",
    "        self.size = size\n",
    "\n",
    "dog = Dog(\"Canine\", \"Domestic\", \"Brown\", True, \"Labrador\", \"Large\")\n",
    "print(dog.species, dog.habitat, dog.fur_color, dog.has_live_birth, dog.breed, dog.size)\n"
   ]
  },
  {
   "cell_type": "code",
   "execution_count": 15,
   "metadata": {},
   "outputs": [
    {
     "name": "stdout",
     "output_type": "stream",
     "text": [
      "Toyota Camry 4 Gasoline\n",
      "Ford F-150 1000kg 6\n"
     ]
    }
   ],
   "source": [
    "class Vehicle:\n",
    "    def __init__(self, make, model):\n",
    "        self.make = make\n",
    "        self.model = model\n",
    "\n",
    "class Car(Vehicle):\n",
    "    def __init__(self, make, model, num_doors, fuel_type):\n",
    "        super().__init__(make, model)\n",
    "        self.num_doors = num_doors\n",
    "        self.fuel_type = fuel_type\n",
    "\n",
    "class Truck(Vehicle):\n",
    "    def __init__(self, make, model, cargo_capacity, num_wheels):\n",
    "        super().__init__(make, model)\n",
    "        self.cargo_capacity = cargo_capacity\n",
    "        self.num_wheels = num_wheels\n",
    "\n",
    "car = Car(\"Toyota\", \"Camry\", 4, \"Gasoline\")\n",
    "truck = Truck(\"Ford\", \"F-150\", \"1000kg\", 6)\n",
    "print(car.make, car.model, car.num_doors, car.fuel_type)\n",
    "print(truck.make, truck.model, truck.cargo_capacity, truck.num_wheels)\n"
   ]
  },
  {
   "cell_type": "code",
   "execution_count": 1,
   "metadata": {},
   "outputs": [
    {
     "ename": "TypeError",
     "evalue": "Species.__init__() takes 3 positional arguments but 5 were given",
     "output_type": "error",
     "traceback": [
      "\u001b[1;31m---------------------------------------------------------------------------\u001b[0m",
      "\u001b[1;31mTypeError\u001b[0m                                 Traceback (most recent call last)",
      "Cell \u001b[1;32mIn[1], line 17\u001b[0m\n\u001b[0;32m     15\u001b[0m     \u001b[38;5;28;01mdef\u001b[39;00m \u001b[38;5;21mdisplay\u001b[39m():\n\u001b[0;32m     16\u001b[0m         \u001b[38;5;28mprint\u001b[39m(\u001b[38;5;28msuper\u001b[39m\u001b[38;5;241m.\u001b[39mname,\u001b[38;5;28msuper\u001b[39m\u001b[38;5;241m.\u001b[39mhabitat,\u001b[38;5;28msuper\u001b[39m\u001b[38;5;241m.\u001b[39mcolor,\u001b[38;5;28msuper\u001b[39m\u001b[38;5;241m.\u001b[39mtype)\n\u001b[1;32m---> 17\u001b[0m c1\u001b[38;5;241m=\u001b[39m\u001b[43mdisplay\u001b[49m\u001b[43m(\u001b[49m\u001b[43mname\u001b[49m\u001b[38;5;241;43m=\u001b[39;49m\u001b[38;5;124;43m'\u001b[39;49m\u001b[38;5;124;43mTiger\u001b[39;49m\u001b[38;5;124;43m'\u001b[39;49m\u001b[43m,\u001b[49m\u001b[43mhabitat\u001b[49m\u001b[38;5;241;43m=\u001b[39;49m\u001b[38;5;124;43m'\u001b[39;49m\u001b[38;5;124;43mdomestic\u001b[39;49m\u001b[38;5;124;43m'\u001b[39;49m\u001b[43m,\u001b[49m\u001b[43mcolor\u001b[49m\u001b[38;5;241;43m=\u001b[39;49m\u001b[38;5;124;43m'\u001b[39;49m\u001b[38;5;124;43mblack n yellow\u001b[39;49m\u001b[38;5;124;43m'\u001b[39;49m\u001b[43m,\u001b[49m\u001b[38;5;28;43mtype\u001b[39;49m\u001b[38;5;241;43m=\u001b[39;49m\u001b[38;5;124;43m'\u001b[39;49m\u001b[38;5;124;43momniover\u001b[39;49m\u001b[38;5;124;43m'\u001b[39;49m\u001b[43m)\u001b[49m\n",
      "Cell \u001b[1;32mIn[1], line 14\u001b[0m, in \u001b[0;36mdisplay.__init__\u001b[1;34m(self, name, habitat, color, type)\u001b[0m\n\u001b[0;32m     13\u001b[0m \u001b[38;5;28;01mdef\u001b[39;00m \u001b[38;5;21m__init__\u001b[39m(\u001b[38;5;28mself\u001b[39m, name, habitat,color,\u001b[38;5;28mtype\u001b[39m):\n\u001b[1;32m---> 14\u001b[0m     \u001b[38;5;28;43msuper\u001b[39;49m\u001b[43m(\u001b[49m\u001b[43m)\u001b[49m\u001b[38;5;241;43m.\u001b[39;49m\u001b[38;5;21;43m__init__\u001b[39;49m\u001b[43m(\u001b[49m\u001b[43mname\u001b[49m\u001b[43m,\u001b[49m\u001b[43m \u001b[49m\u001b[43mhabitat\u001b[49m\u001b[43m,\u001b[49m\u001b[43mcolor\u001b[49m\u001b[43m,\u001b[49m\u001b[38;5;28;43mtype\u001b[39;49m\u001b[43m)\u001b[49m\n",
      "\u001b[1;31mTypeError\u001b[0m: Species.__init__() takes 3 positional arguments but 5 were given"
     ]
    }
   ],
   "source": [
    "\n",
    "#Multiple Inheritance \n",
    "class Species:\n",
    "    def __init__(self, name, habitat):\n",
    "        self.name = name\n",
    "        self.habitat = habitat\n",
    "    \n",
    "class Animal:\n",
    "    def __init__(self,color, type):\n",
    "        self.color=color\n",
    "        self.type=type\n",
    "\n",
    "class display(Species,Animal):\n",
    "    def __init__(self, name, habitat,color,type):\n",
    "        super().__init__(name, habitat,color,type)\n",
    "    def display():\n",
    "        print(super.name,super.habitat,super.color,super.type)\n",
    "c1=display(name='Tiger',habitat='domestic',color='black n yellow',type='omniover')\n",
    "\n",
    "\n"
   ]
  },
  {
   "cell_type": "code",
   "execution_count": null,
   "metadata": {},
   "outputs": [],
   "source": [
    "class A:\n",
    "class B:\n",
    "class C(A,B):\n",
    "    "
   ]
  },
  {
   "cell_type": "code",
   "execution_count": 1,
   "metadata": {},
   "outputs": [
    {
     "name": "stdout",
     "output_type": "stream",
     "text": [
      "Name: Home Location: Bengaluru Password: 123456\n",
      "Name: Office Location: hyderabad Brightness: 50\n"
     ]
    }
   ],
   "source": [
    "class Smart_Home:\n",
    "    def __init__(self, name, location):\n",
    "        self.name = name\n",
    "        self.location = location\n",
    "    def display(self):\n",
    "        print(\"Name:\", self.name, \"Location:\", self.location)\n",
    "\n",
    "class WifiControl(Smart_Home):\n",
    "    def __init__(self, name, location, password):\n",
    "        super().__init__(name, location)\n",
    "        self.password = password\n",
    "    def display(self):\n",
    "        print(\"Name:\", self.name, \"Location:\", self.location, \"Password:\", self.password)\n",
    "\n",
    "class LightControl(Smart_Home):\n",
    "    def __init__(self, name, location, brightness):\n",
    "        super().__init__(name, location)\n",
    "        self.brightness = brightness\n",
    "    def display(self):\n",
    "        print(\"Name:\", self.name, \"Location:\", self.location, \"Brightness:\", self.brightness)\n",
    "\n",
    "wifi = WifiControl(\"Home\", \"Bengaluru\", \"123456\")\n",
    "wifi.display()\n",
    "light = LightControl(\"Office\", \"hyderabad\", 30)\n",
    "light.display()\n"
   ]
  },
  {
   "cell_type": "code",
   "execution_count": 11,
   "metadata": {},
   "outputs": [
    {
     "name": "stdout",
     "output_type": "stream",
     "text": [
      "Name: Sony Volume: 10 Song: Despacito\n"
     ]
    }
   ],
   "source": [
    "\n",
    "class SoundSystem:\n",
    "    def __init__(self, name, volume):\n",
    "        self.name = name\n",
    "        self.volume = volume\n",
    "    def display(self):\n",
    "        print(\"Name:\", self.name, \"Volume:\", self.volume)\n",
    "class RemoteControl:\n",
    "    def __init__(self, name, volume):\n",
    "        self.name = name\n",
    "        self.volume = volume\n",
    "    def display(self):\n",
    "        print(\"Name:\", self.name, \"Volume:\", self.volume)\n",
    "class TouchScreen:\n",
    "    def __init__(self, name, volume):\n",
    "        self.name = name\n",
    "        self.volume = volume\n",
    "    def display(self):\n",
    "        print(\"Name:\", self.name, \"Volume:\", self.volume)   \n",
    "class MusicPlayer(SoundSystem, RemoteControl, TouchScreen):\n",
    "    def __init__(self, name, volume, song):\n",
    "        super().__init__(name, volume)\n",
    "        self.song = song\n",
    "    def display(self):\n",
    "        print(\"Name:\", self.name, \"Volume:\", self.volume, \"Song:\", self.song)\n",
    "\n",
    "mp = MusicPlayer(\"Sony\", 10, \"Despacito\")\n",
    "mp.display()\n"
   ]
  },
  {
   "cell_type": "code",
   "execution_count": 2,
   "metadata": {},
   "outputs": [
    {
     "name": "stdout",
     "output_type": "stream",
     "text": [
      "Name: Hari Age: 25 Gender: Male\n",
      "Health Insurance: Health Insurance Retirement Plan: Retirement Plan\n"
     ]
    }
   ],
   "source": [
    "class Employee:\n",
    "    def __init__(self, name, age, gender):\n",
    "        self.name = name\n",
    "        self.age = age\n",
    "        self.gender = gender\n",
    "\n",
    "    def display(self):\n",
    "        print(\"Name:\", self.name, \"Age:\", self.age, \"Gender:\", self.gender)\n",
    "class EmployeeBenefits(Employee):\n",
    "    def __init__(self, name, age, gender, health_insurance, retirement_plan):\n",
    "        super().__init__(name, age, gender)\n",
    "        self.health_insurance = health_insurance\n",
    "        self.retirement_plan = retirement_plan\n",
    "\n",
    "    def display(self):\n",
    "        super().display()\n",
    "        print(\"Health Insurance:\", self.health_insurance, \"Retirement Plan:\", self.retirement_plan)\n",
    "\n",
    "emp = EmployeeBenefits(\"Hari\", 25, \"Male\", \"Health Insurance\", \"Retirement Plan\")\n",
    "emp.display()\n"
   ]
  },
  {
   "cell_type": "code",
   "execution_count": 3,
   "metadata": {},
   "outputs": [
    {
     "name": "stdout",
     "output_type": "stream",
     "text": [
      "Card Number: 1234567890123456 Expiration Date: 12/25 Security Code: 123\n",
      "Email: H8j8Y@example.com Password: mypassword\n"
     ]
    }
   ],
   "source": [
    "class CreditCardPayment:\n",
    "    def __init__(self, card_number, expiration_date, security_code):\n",
    "\n",
    "        self.card_number = card_number\n",
    "        self.expiration_date = expiration_date\n",
    "        self.security_code = security_code\n",
    "\n",
    "    def display(self):\n",
    "        print(\"Card Number:\", self.card_number, \"Expiration Date:\", self.expiration_date, \"Security Code:\", self.security_code)\n",
    "class PayPalPayment:\n",
    "    def __init__(self, email, password):\n",
    "\n",
    "        self.email = email\n",
    "        self.password = password\n",
    "\n",
    "    def display(self):\n",
    "        print(\"Email:\", self.email, \"Password:\", self.password)\n",
    "class OnlineShoppingPlatform(CreditCardPayment, PayPalPayment):\n",
    "    def __init__(self, card_number, expiration_date, security_code, email, password):\n",
    "        super().__init__(card_number, expiration_date, security_code)\n",
    "        self.email = email\n",
    "        self.password = password\n",
    "\n",
    "    def display(self):\n",
    "        super().display()\n",
    "        print(\"Email:\", self.email, \"Password:\", self.password)\n",
    "\n",
    "os = OnlineShoppingPlatform(\"1234567890123456\", \"12/25\", \"123\", \"H8j8Y@example.com\", \"mypassword\")\n",
    "os.display()\n"
   ]
  },
  {
   "cell_type": "code",
   "execution_count": 6,
   "metadata": {},
   "outputs": [
    {
     "name": "stdout",
     "output_type": "stream",
     "text": [
      "Number1: 10 Number2: 20\n",
      "Number3: 30 Number4: 40\n"
     ]
    }
   ],
   "source": [
    "class ScientificCalculations:\n",
    "    def __init__(self, number1, number2):\n",
    "\n",
    "        self.number1 = number1\n",
    "        self.number2 = number2\n",
    "\n",
    "    def display(self):\n",
    "        print(\"Number1:\", self.number1, \"Number2:\", self.number2)\n",
    "class FinancialCalculations:\n",
    "    def __init__(self, number1, number2):\n",
    "\n",
    "        self.number1 = number1\n",
    "        self.number2 = number2\n",
    "\n",
    "    def display(self):\n",
    "        print(\"Number1:\", self.number1, \"Number2:\", self.number2)\n",
    "class AdvancedCalculator(ScientificCalculations, FinancialCalculations):\n",
    "    def __init__(self, number1, number2, number3, number4):\n",
    "\n",
    "        super().__init__(number1, number2)\n",
    "        self.number3 = number3\n",
    "        self.number4 = number4\n",
    "\n",
    "    def display(self):\n",
    "        super().display()\n",
    "        print(\"Number3:\", self.number3, \"Number4:\", self.number4)\n",
    "\n",
    "ac = AdvancedCalculator(10, 20, 30, 40)\n",
    "ac.display()\n"
   ]
  },
  {
   "cell_type": "code",
   "execution_count": 11,
   "metadata": {},
   "outputs": [
    {
     "name": "stdout",
     "output_type": "stream",
     "text": [
      "Name: Hari Age: 25\n",
      "Subject: Mathematics\n"
     ]
    }
   ],
   "source": [
    "class Person:\n",
    "    def __init__(self, name, age):\n",
    "\n",
    "        self.name = name\n",
    "        self.age = age\n",
    "\n",
    "    def display(self):\n",
    "        print(\"Name:\", self.name, \"Age:\", self.age)\n",
    "class Teacher(Person):\n",
    "    def __init__(self, name, age, subject):\n",
    "\n",
    "        super().__init__(name, age)\n",
    "        self.subject = subject\n",
    "\n",
    "    def display(self):\n",
    "        super().display()\n",
    "        print(\"Subject:\", self.subject)\n",
    "\n",
    "class PartTimeTeacher(Teacher):\n",
    "    def __init__(self, name, age, subject):\n",
    "\n",
    "        super().__init__(name, age, subject)\n",
    "\n",
    "    def display(self):\n",
    "        super().display()\n",
    "\n",
    "pt = PartTimeTeacher(\"Hari\", 25, \"Mathematics\")\n",
    "pt.display()"
   ]
  },
  {
   "cell_type": "code",
   "execution_count": 18,
   "metadata": {},
   "outputs": [
    {
     "ename": "TypeError",
     "evalue": "CommercialVehicle.__init__() missing 1 required positional argument: 'num_wheels'",
     "output_type": "error",
     "traceback": [
      "\u001b[1;31m---------------------------------------------------------------------------\u001b[0m",
      "\u001b[1;31mTypeError\u001b[0m                                 Traceback (most recent call last)",
      "Cell \u001b[1;32mIn[18], line 37\u001b[0m\n\u001b[0;32m     34\u001b[0m         \u001b[38;5;28msuper\u001b[39m()\u001b[38;5;241m.\u001b[39mdisplay()\n\u001b[0;32m     35\u001b[0m         \u001b[38;5;28mprint\u001b[39m(\u001b[38;5;124m\"\u001b[39m\u001b[38;5;124mNumber of Wheels:\u001b[39m\u001b[38;5;124m\"\u001b[39m, \u001b[38;5;28mself\u001b[39m\u001b[38;5;241m.\u001b[39mnum_wheels)\n\u001b[1;32m---> 37\u001b[0m rv \u001b[38;5;241m=\u001b[39m \u001b[43mRideShareVehicle\u001b[49m\u001b[43m(\u001b[49m\u001b[38;5;124;43m\"\u001b[39;49m\u001b[38;5;124;43mToyota\u001b[39;49m\u001b[38;5;124;43m\"\u001b[39;49m\u001b[43m,\u001b[49m\u001b[43m \u001b[49m\u001b[38;5;124;43m\"\u001b[39;49m\u001b[38;5;124;43mCamry\u001b[39;49m\u001b[38;5;124;43m\"\u001b[39;49m\u001b[43m,\u001b[49m\u001b[43m \u001b[49m\u001b[38;5;241;43m5\u001b[39;49m\u001b[43m,\u001b[49m\u001b[43m \u001b[49m\u001b[38;5;241;43m4\u001b[39;49m\u001b[43m)\u001b[49m\n\u001b[0;32m     38\u001b[0m rv\u001b[38;5;241m.\u001b[39mdisplay()\n",
      "Cell \u001b[1;32mIn[18], line 30\u001b[0m, in \u001b[0;36mRideShareVehicle.__init__\u001b[1;34m(self, make, model, num_seats, num_wheels)\u001b[0m\n\u001b[0;32m     28\u001b[0m \u001b[38;5;28;01mdef\u001b[39;00m \u001b[38;5;21m__init__\u001b[39m(\u001b[38;5;28mself\u001b[39m, make, model, num_seats, num_wheels):\n\u001b[1;32m---> 30\u001b[0m     \u001b[38;5;28;43msuper\u001b[39;49m\u001b[43m(\u001b[49m\u001b[43m)\u001b[49m\u001b[38;5;241;43m.\u001b[39;49m\u001b[38;5;21;43m__init__\u001b[39;49m\u001b[43m(\u001b[49m\u001b[43mmake\u001b[49m\u001b[43m,\u001b[49m\u001b[43m \u001b[49m\u001b[43mmodel\u001b[49m\u001b[43m,\u001b[49m\u001b[43m \u001b[49m\u001b[43mnum_seats\u001b[49m\u001b[43m)\u001b[49m\n\u001b[0;32m     31\u001b[0m     \u001b[38;5;28mself\u001b[39m\u001b[38;5;241m.\u001b[39mnum_wheels \u001b[38;5;241m=\u001b[39m num_wheels\n",
      "Cell \u001b[1;32mIn[18], line 12\u001b[0m, in \u001b[0;36mPassengerVehicle.__init__\u001b[1;34m(self, make, model, num_seats)\u001b[0m\n\u001b[0;32m     10\u001b[0m \u001b[38;5;28;01mdef\u001b[39;00m \u001b[38;5;21m__init__\u001b[39m(\u001b[38;5;28mself\u001b[39m, make, model, num_seats):\n\u001b[1;32m---> 12\u001b[0m     \u001b[38;5;28;43msuper\u001b[39;49m\u001b[43m(\u001b[49m\u001b[43m)\u001b[49m\u001b[38;5;241;43m.\u001b[39;49m\u001b[38;5;21;43m__init__\u001b[39;49m\u001b[43m(\u001b[49m\u001b[43mmake\u001b[49m\u001b[43m,\u001b[49m\u001b[43m \u001b[49m\u001b[43mmodel\u001b[49m\u001b[43m)\u001b[49m\n\u001b[0;32m     13\u001b[0m     \u001b[38;5;28mself\u001b[39m\u001b[38;5;241m.\u001b[39mnum_seats \u001b[38;5;241m=\u001b[39m num_seats\n",
      "\u001b[1;31mTypeError\u001b[0m: CommercialVehicle.__init__() missing 1 required positional argument: 'num_wheels'"
     ]
    }
   ],
   "source": [
    "class Vehicle:\n",
    "    def __init__(self, make, model):\n",
    "\n",
    "        self.make = make\n",
    "        self.model = model\n",
    "\n",
    "    def display(self):\n",
    "        print(\"Make:\", self.make, \"Model:\", self.model)\n",
    "class PassengerVehicle(Vehicle):\n",
    "    def __init__(self, make, model, num_seats):\n",
    "\n",
    "        super().__init__(make, model)\n",
    "        self.num_seats = num_seats\n",
    "\n",
    "    def display(self):\n",
    "        super().display()\n",
    "        print(\"Number of Seats:\", self.num_seats)\n",
    "class CommercialVehicle(Vehicle):\n",
    "    def __init__(self, make, model, num_wheels):\n",
    "\n",
    "        super().__init__(make, model)\n",
    "        self.num_wheels = num_wheels\n",
    "\n",
    "    def display(self):\n",
    "        super().display()\n",
    "        print(\"Number of Wheels:\", self.num_wheels)\n",
    "class RideShareVehicle(PassengerVehicle, CommercialVehicle):\n",
    "    def __init__(self, make, model, num_seats, num_wheels):\n",
    "\n",
    "        super().__init__(make, model, num_seats)\n",
    "        self.num_wheels = num_wheels\n",
    "\n",
    "    def display(self):\n",
    "        super().display()\n",
    "        print(\"Number of Wheels:\", self.num_wheels)\n",
    "\n",
    "rv = RideShareVehicle(\"Toyota\", \"Camry\", 5, 4)\n",
    "rv.display()\n"
   ]
  },
  {
   "cell_type": "code",
   "execution_count": 8,
   "metadata": {},
   "outputs": [
    {
     "ename": "TypeError",
     "evalue": "Movie.__init__() missing 1 required positional argument: 'duration'",
     "output_type": "error",
     "traceback": [
      "\u001b[1;31m---------------------------------------------------------------------------\u001b[0m",
      "\u001b[1;31mTypeError\u001b[0m                                 Traceback (most recent call last)",
      "Cell \u001b[1;32mIn[8], line 39\u001b[0m\n\u001b[0;32m     36\u001b[0m         \u001b[38;5;28msuper\u001b[39m()\u001b[38;5;241m.\u001b[39mdisplay()\n\u001b[0;32m     37\u001b[0m         \u001b[38;5;28mprint\u001b[39m(\u001b[38;5;124m\"\u001b[39m\u001b[38;5;124mDuration:\u001b[39m\u001b[38;5;124m\"\u001b[39m, \u001b[38;5;28mself\u001b[39m\u001b[38;5;241m.\u001b[39mduration)\n\u001b[1;32m---> 39\u001b[0m mv \u001b[38;5;241m=\u001b[39m \u001b[43mMusicVideo\u001b[49m\u001b[43m(\u001b[49m\u001b[38;5;124;43m\"\u001b[39;49m\u001b[38;5;124;43mThe Dark Knight\u001b[39;49m\u001b[38;5;124;43m\"\u001b[39;49m\u001b[43m,\u001b[49m\u001b[43m \u001b[49m\u001b[38;5;124;43m\"\u001b[39;49m\u001b[38;5;124;43mChristopher Nolan\u001b[39;49m\u001b[38;5;124;43m\"\u001b[39;49m\u001b[43m,\u001b[49m\u001b[43m \u001b[49m\u001b[38;5;241;43m2008\u001b[39;49m\u001b[43m,\u001b[49m\u001b[43m \u001b[49m\u001b[38;5;124;43m\"\u001b[39;49m\u001b[38;5;124;43mAction\u001b[39;49m\u001b[38;5;124;43m\"\u001b[39;49m\u001b[43m,\u001b[49m\u001b[43m \u001b[49m\u001b[38;5;124;43m\"\u001b[39;49m\u001b[38;5;124;43m2 hours\u001b[39;49m\u001b[38;5;124;43m\"\u001b[39;49m\u001b[43m)\u001b[49m\n\u001b[0;32m     40\u001b[0m mv\u001b[38;5;241m.\u001b[39mdisplay()\n",
      "Cell \u001b[1;32mIn[8], line 32\u001b[0m, in \u001b[0;36mMusicVideo.__init__\u001b[1;34m(self, title, director, release_year, genre, duration)\u001b[0m\n\u001b[0;32m     30\u001b[0m \u001b[38;5;28;01mdef\u001b[39;00m \u001b[38;5;21m__init__\u001b[39m(\u001b[38;5;28mself\u001b[39m, title, director, release_year, genre, duration):\n\u001b[1;32m---> 32\u001b[0m     \u001b[38;5;28;43msuper\u001b[39;49m\u001b[43m(\u001b[49m\u001b[43m)\u001b[49m\u001b[38;5;241;43m.\u001b[39;49m\u001b[38;5;21;43m__init__\u001b[39;49m\u001b[43m(\u001b[49m\u001b[43mtitle\u001b[49m\u001b[43m,\u001b[49m\u001b[43m \u001b[49m\u001b[43mdirector\u001b[49m\u001b[43m,\u001b[49m\u001b[43m \u001b[49m\u001b[43mrelease_year\u001b[49m\u001b[43m,\u001b[49m\u001b[43m \u001b[49m\u001b[43mgenre\u001b[49m\u001b[43m)\u001b[49m\n\u001b[0;32m     33\u001b[0m     \u001b[38;5;28mself\u001b[39m\u001b[38;5;241m.\u001b[39mduration \u001b[38;5;241m=\u001b[39m duration\n",
      "Cell \u001b[1;32mIn[8], line 14\u001b[0m, in \u001b[0;36mMusic.__init__\u001b[1;34m(self, title, director, release_year, genre)\u001b[0m\n\u001b[0;32m     12\u001b[0m \u001b[38;5;28;01mdef\u001b[39;00m \u001b[38;5;21m__init__\u001b[39m(\u001b[38;5;28mself\u001b[39m, title, director, release_year, genre):\n\u001b[1;32m---> 14\u001b[0m     \u001b[38;5;28;43msuper\u001b[39;49m\u001b[43m(\u001b[49m\u001b[43m)\u001b[49m\u001b[38;5;241;43m.\u001b[39;49m\u001b[38;5;21;43m__init__\u001b[39;49m\u001b[43m(\u001b[49m\u001b[43mtitle\u001b[49m\u001b[43m,\u001b[49m\u001b[43m \u001b[49m\u001b[43mdirector\u001b[49m\u001b[43m,\u001b[49m\u001b[43m \u001b[49m\u001b[43mrelease_year\u001b[49m\u001b[43m)\u001b[49m\n\u001b[0;32m     15\u001b[0m     \u001b[38;5;28mself\u001b[39m\u001b[38;5;241m.\u001b[39mgenre \u001b[38;5;241m=\u001b[39m genre\n",
      "\u001b[1;31mTypeError\u001b[0m: Movie.__init__() missing 1 required positional argument: 'duration'"
     ]
    }
   ],
   "source": [
    "class Media:\n",
    "    def __init__(self, title, director, release_year):\n",
    "\n",
    "        self.title = title\n",
    "        self.director = director\n",
    "        self.release_year = release_year\n",
    "\n",
    "    def display(self):\n",
    "        print(\"Title:\", self.title, \"Director:\", self.director, \"Release Year:\", self.release_year)\n",
    "class Music(Media):\n",
    "    def __init__(self, title, director, release_year, genre):\n",
    "\n",
    "        super().__init__(title, director, release_year)\n",
    "        self.genre = genre\n",
    "\n",
    "    def display(self):\n",
    "        super().display()   \n",
    "        print(\"Genre:\", self.genre)\n",
    "class Movie(Media):\n",
    "    def __init__(self, title, director, release_year, duration):\n",
    "\n",
    "        super().__init__(title, director, release_year)\n",
    "        self.duration = duration\n",
    "\n",
    "    def display(self):\n",
    "        super().display()\n",
    "        print(\"Duration:\", self.duration)\n",
    "class MusicVideo(Music, Movie):\n",
    "    def __init__(self, title, director, release_year, genre, duration):\n",
    "\n",
    "        super().__init__(title, director, release_year, genre)\n",
    "        self.duration = duration\n",
    "\n",
    "    def display(self):\n",
    "        super().display()\n",
    "        print(\"Duration:\", self.duration)\n",
    "\n",
    "mv = MusicVideo(\"The Dark Knight\", \"Christopher Nolan\", 2008, \"Action\", \"2 hours\")\n",
    "mv.display()\n"
   ]
  },
  {
   "cell_type": "code",
   "execution_count": 9,
   "metadata": {},
   "outputs": [
    {
     "ename": "TypeError",
     "evalue": "Developer.__init__() missing 1 required positional argument: 'experience'",
     "output_type": "error",
     "traceback": [
      "\u001b[1;31m---------------------------------------------------------------------------\u001b[0m",
      "\u001b[1;31mTypeError\u001b[0m                                 Traceback (most recent call last)",
      "Cell \u001b[1;32mIn[9], line 39\u001b[0m\n\u001b[0;32m     36\u001b[0m         \u001b[38;5;28msuper\u001b[39m()\u001b[38;5;241m.\u001b[39mdisplay()\n\u001b[0;32m     37\u001b[0m         \u001b[38;5;28mprint\u001b[39m(\u001b[38;5;124m\"\u001b[39m\u001b[38;5;124mExperience:\u001b[39m\u001b[38;5;124m\"\u001b[39m, \u001b[38;5;28mself\u001b[39m\u001b[38;5;241m.\u001b[39mexperience)\n\u001b[1;32m---> 39\u001b[0m ld \u001b[38;5;241m=\u001b[39m \u001b[43mLeadDeveloper\u001b[49m\u001b[43m(\u001b[49m\u001b[38;5;124;43m\"\u001b[39;49m\u001b[38;5;124;43mHari\u001b[39;49m\u001b[38;5;124;43m\"\u001b[39;49m\u001b[43m,\u001b[49m\u001b[43m \u001b[49m\u001b[38;5;124;43m\"\u001b[39;49m\u001b[38;5;124;43mManager\u001b[39;49m\u001b[38;5;124;43m\"\u001b[39;49m\u001b[43m,\u001b[49m\u001b[43m \u001b[49m\u001b[38;5;241;43m10\u001b[39;49m\u001b[43m,\u001b[49m\u001b[43m \u001b[49m\u001b[38;5;241;43m5\u001b[39;49m\u001b[43m)\u001b[49m\n\u001b[0;32m     40\u001b[0m ld\u001b[38;5;241m.\u001b[39mdisplay()\n",
      "Cell \u001b[1;32mIn[9], line 32\u001b[0m, in \u001b[0;36mLeadDeveloper.__init__\u001b[1;34m(self, name, position, team_size, experience)\u001b[0m\n\u001b[0;32m     30\u001b[0m \u001b[38;5;28;01mdef\u001b[39;00m \u001b[38;5;21m__init__\u001b[39m(\u001b[38;5;28mself\u001b[39m, name, position, team_size, experience):\n\u001b[1;32m---> 32\u001b[0m     \u001b[38;5;28;43msuper\u001b[39;49m\u001b[43m(\u001b[49m\u001b[43m)\u001b[49m\u001b[38;5;241;43m.\u001b[39;49m\u001b[38;5;21;43m__init__\u001b[39;49m\u001b[43m(\u001b[49m\u001b[43mname\u001b[49m\u001b[43m,\u001b[49m\u001b[43m \u001b[49m\u001b[43mposition\u001b[49m\u001b[43m,\u001b[49m\u001b[43m \u001b[49m\u001b[43mteam_size\u001b[49m\u001b[43m)\u001b[49m\n\u001b[0;32m     33\u001b[0m     \u001b[38;5;28mself\u001b[39m\u001b[38;5;241m.\u001b[39mexperience \u001b[38;5;241m=\u001b[39m experience\n",
      "Cell \u001b[1;32mIn[9], line 14\u001b[0m, in \u001b[0;36mManager.__init__\u001b[1;34m(self, name, position, team_size)\u001b[0m\n\u001b[0;32m     12\u001b[0m \u001b[38;5;28;01mdef\u001b[39;00m \u001b[38;5;21m__init__\u001b[39m(\u001b[38;5;28mself\u001b[39m, name, position, team_size):\n\u001b[1;32m---> 14\u001b[0m     \u001b[38;5;28;43msuper\u001b[39;49m\u001b[43m(\u001b[49m\u001b[43m)\u001b[49m\u001b[38;5;241;43m.\u001b[39;49m\u001b[38;5;21;43m__init__\u001b[39;49m\u001b[43m(\u001b[49m\u001b[43mname\u001b[49m\u001b[43m,\u001b[49m\u001b[43m \u001b[49m\u001b[43mposition\u001b[49m\u001b[43m)\u001b[49m\n\u001b[0;32m     15\u001b[0m     \u001b[38;5;28mself\u001b[39m\u001b[38;5;241m.\u001b[39mteam_size \u001b[38;5;241m=\u001b[39m team_size\n",
      "\u001b[1;31mTypeError\u001b[0m: Developer.__init__() missing 1 required positional argument: 'experience'"
     ]
    }
   ],
   "source": [
    "\n",
    "class Person:\n",
    "    def __init__(self, name, position):\n",
    "\n",
    "        self.name = name\n",
    "        self.position = position\n",
    "\n",
    "    def display(self):\n",
    "        print(\"Name:\", self.name, \"Position:\", self.position)\n",
    "class Manager(Person):\n",
    "    def __init__(self, name, position, team_size):\n",
    "\n",
    "        super().__init__(name, position)\n",
    "        self.team_size = team_size\n",
    "\n",
    "    def display(self):\n",
    "        super().display()\n",
    "        print(\"Team Size:\", self.team_size)\n",
    "class Developer(Person):\n",
    "    def __init__(self, name, position, experience):\n",
    "\n",
    "        super().__init__(name, position)\n",
    "        self.experience = experience\n",
    "\n",
    "    def display(self):\n",
    "        super().display()\n",
    "        print(\"Experience:\", self.experience)\n",
    "class LeadDeveloper(Manager, Developer):\n",
    "    def __init__(self, name, position, team_size, experience):\n",
    "\n",
    "        super().__init__(name, position, team_size)\n",
    "        self.experience = experience\n",
    "\n",
    "    def display(self):\n",
    "        super().display()\n",
    "        print(\"Experience:\", self.experience)\n",
    "\n",
    "ld = LeadDeveloper(\"Hari\", \"Manager\", 10, 5)\n",
    "ld.display()"
   ]
  },
  {
   "cell_type": "code",
   "execution_count": 17,
   "metadata": {},
   "outputs": [
    {
     "ename": "TypeError",
     "evalue": "Magazine.__init__() missing 1 required positional argument: 'issues'",
     "output_type": "error",
     "traceback": [
      "\u001b[1;31m---------------------------------------------------------------------------\u001b[0m",
      "\u001b[1;31mTypeError\u001b[0m                                 Traceback (most recent call last)",
      "Cell \u001b[1;32mIn[17], line 36\u001b[0m\n\u001b[0;32m     33\u001b[0m         Book\u001b[38;5;241m.\u001b[39mdisplay(\u001b[38;5;28mself\u001b[39m)\n\u001b[0;32m     34\u001b[0m         \u001b[38;5;28mprint\u001b[39m(\u001b[38;5;124m\"\u001b[39m\u001b[38;5;124mIssues:\u001b[39m\u001b[38;5;124m\"\u001b[39m, \u001b[38;5;28mself\u001b[39m\u001b[38;5;241m.\u001b[39missues)\n\u001b[1;32m---> 36\u001b[0m dl \u001b[38;5;241m=\u001b[39m \u001b[43mDigitalLibraryItem\u001b[49m\u001b[43m(\u001b[49m\u001b[38;5;124;43m\"\u001b[39;49m\u001b[38;5;124;43mThe Great Gatsby\u001b[39;49m\u001b[38;5;124;43m\"\u001b[39;49m\u001b[43m,\u001b[49m\u001b[43m \u001b[49m\u001b[38;5;124;43m\"\u001b[39;49m\u001b[38;5;124;43mF. Scott Fitzgerald\u001b[39;49m\u001b[38;5;124;43m\"\u001b[39;49m\u001b[43m,\u001b[49m\u001b[43m \u001b[49m\u001b[38;5;241;43m400\u001b[39;49m\u001b[43m,\u001b[49m\u001b[43m \u001b[49m\u001b[38;5;241;43m10\u001b[39;49m\u001b[43m)\u001b[49m\n\u001b[0;32m     37\u001b[0m dl\u001b[38;5;241m.\u001b[39mdisplay()\n",
      "Cell \u001b[1;32mIn[17], line 29\u001b[0m, in \u001b[0;36mDigitalLibraryItem.__init__\u001b[1;34m(self, title, author, pages, issues)\u001b[0m\n\u001b[0;32m     28\u001b[0m \u001b[38;5;28;01mdef\u001b[39;00m \u001b[38;5;21m__init__\u001b[39m(\u001b[38;5;28mself\u001b[39m, title, author, pages, issues):\n\u001b[1;32m---> 29\u001b[0m     \u001b[43mBook\u001b[49m\u001b[38;5;241;43m.\u001b[39;49m\u001b[38;5;21;43m__init__\u001b[39;49m\u001b[43m(\u001b[49m\u001b[38;5;28;43mself\u001b[39;49m\u001b[43m,\u001b[49m\u001b[43m \u001b[49m\u001b[43mtitle\u001b[49m\u001b[43m,\u001b[49m\u001b[43m \u001b[49m\u001b[43mauthor\u001b[49m\u001b[43m,\u001b[49m\u001b[43m \u001b[49m\u001b[43mpages\u001b[49m\u001b[43m)\u001b[49m\n\u001b[0;32m     30\u001b[0m     Magazine\u001b[38;5;241m.\u001b[39m\u001b[38;5;21m__init__\u001b[39m(\u001b[38;5;28mself\u001b[39m, title, author, issues)\n",
      "Cell \u001b[1;32mIn[17], line 11\u001b[0m, in \u001b[0;36mBook.__init__\u001b[1;34m(self, title, author, pages)\u001b[0m\n\u001b[0;32m     10\u001b[0m \u001b[38;5;28;01mdef\u001b[39;00m \u001b[38;5;21m__init__\u001b[39m(\u001b[38;5;28mself\u001b[39m, title, author, pages):\n\u001b[1;32m---> 11\u001b[0m     \u001b[38;5;28;43msuper\u001b[39;49m\u001b[43m(\u001b[49m\u001b[43m)\u001b[49m\u001b[38;5;241;43m.\u001b[39;49m\u001b[38;5;21;43m__init__\u001b[39;49m\u001b[43m(\u001b[49m\u001b[43mtitle\u001b[49m\u001b[43m,\u001b[49m\u001b[43m \u001b[49m\u001b[43mauthor\u001b[49m\u001b[43m)\u001b[49m\n\u001b[0;32m     12\u001b[0m     \u001b[38;5;28mself\u001b[39m\u001b[38;5;241m.\u001b[39mpages \u001b[38;5;241m=\u001b[39m pages\n",
      "\u001b[1;31mTypeError\u001b[0m: Magazine.__init__() missing 1 required positional argument: 'issues'"
     ]
    }
   ],
   "source": [
    "class LibraryItem:\n",
    "    def __init__(self, title, author):\n",
    "        self.title = title\n",
    "        self.author = author\n",
    "\n",
    "    def display(self):\n",
    "        print(\"Title:\", self.title, \"Author:\", self.author)\n",
    "\n",
    "class Book(LibraryItem):\n",
    "    def __init__(self, title, author, pages):\n",
    "        super().__init__(title, author)\n",
    "        self.pages = pages\n",
    "\n",
    "    def display(self):\n",
    "        super().display()\n",
    "        print(\"Pages:\", self.pages)\n",
    "\n",
    "class Magazine(LibraryItem):\n",
    "    def __init__(self, title, author, issues):\n",
    "        super().__init__(title, author)\n",
    "        self.issues = issues\n",
    "\n",
    "    def display(self):\n",
    "        super().display()\n",
    "        print(\"Issues:\", self.issues)\n",
    "\n",
    "class DigitalLibraryItem(Book, Magazine):\n",
    "    def __init__(self, title, author, pages, issues):\n",
    "        Book.__init__(self, title, author, pages)\n",
    "        Magazine.__init__(self, title, author, issues)\n",
    "\n",
    "    def display(self):\n",
    "        Book.display(self)\n",
    "        print(\"Issues:\", self.issues)\n",
    "\n",
    "dl = DigitalLibraryItem(\"The Great Gatsby\", \"F. Scott Fitzgerald\", 400, 10)\n",
    "dl.display()\n"
   ]
  },
  {
   "cell_type": "code",
   "execution_count": null,
   "metadata": {},
   "outputs": [
    {
     "ename": "",
     "evalue": "",
     "output_type": "error",
     "traceback": [
      "\u001b[1;31mRunning cells with 'Python 3.12.5' requires the ipykernel package.\n",
      "\u001b[1;31mRun the following command to install 'ipykernel' into the Python environment. \n",
      "\u001b[1;31mCommand: 'c:/Python312/python.exe -m pip install ipykernel -U --user --force-reinstall'"
     ]
    }
   ],
   "source": [
    "#write a program using operator overloading\n",
    "class Complex:\n",
    "    def __init__(self, real, imaginary):\n",
    "        self.real = real\n",
    "        self.imaginary = imaginary\n",
    "\n",
    "    def __add__(self, other):\n",
    "        real = self.real + other.real\n",
    "        imaginary = self.imaginary + other.imaginary\n",
    "        return Complex(real, imaginary)\n",
    "\n",
    "    def __sub__(self, other):\n",
    "        real = self.real - other.real\n",
    "        imaginary = self.imaginary - other.imaginary\n",
    "        return Complex(real, imaginary)\n",
    "    \n",
    "    def __mul__(self, other):\n",
    "        real = self.real * other.real - self.imaginary * other.imaginary\n",
    "        imaginary = self.real * other.imaginary + self.imaginary * other.real\n",
    "        return Complex(real, imaginary)\n",
    "    \n",
    "    def __truediv__(self, other):\n",
    "        real = (self.real * other.real + self.imaginary * other.imaginary) / (other.real**2 + other.imaginary**2)\n",
    "        imaginary = (self.imaginary * other.real - self.real * other.imaginary) / (other.real**2 + other.imaginary**2)\n",
    "        return Complex(real, imaginary)\n",
    "    \n",
    "    def __str__(self):\n",
    "        return f\"{self.real} + {self.imaginary}i\"\n",
    "    \n",
    "\n",
    "c1 = Complex(2, 3)\n",
    "c2 = Complex(4, 5)\n",
    "c3 = c1 + c2\n",
    "print(c3)\n",
    "c4 = c1 - c2\n",
    "print(c4)\n",
    "c5 = c1 * c2\n",
    "print(c5)\n",
    "c6 = c1 / c2\n",
    "print(c6)"
   ]
  },
  {
   "cell_type": "code",
   "execution_count": null,
   "metadata": {},
   "outputs": [],
   "source": []
  }
 ],
 "metadata": {
  "kernelspec": {
   "display_name": "Python 3",
   "language": "python",
   "name": "python3"
  },
  "language_info": {
   "codemirror_mode": {
    "name": "ipython",
    "version": 3
   },
   "file_extension": ".py",
   "mimetype": "text/x-python",
   "name": "python",
   "nbconvert_exporter": "python",
   "pygments_lexer": "ipython3",
   "version": "3.12.5"
  }
 },
 "nbformat": 4,
 "nbformat_minor": 2
}
