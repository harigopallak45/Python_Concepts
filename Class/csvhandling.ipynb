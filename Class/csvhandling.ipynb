{
 "cells": [
  {
   "cell_type": "code",
   "execution_count": 6,
   "metadata": {},
   "outputs": [
    {
     "name": "stdout",
     "output_type": "stream",
     "text": [
      "data written successfull \n"
     ]
    }
   ],
   "source": [
    "import csv\n",
    "with open('data.csv','w',newline='') as file:\n",
    "    f=csv.writer(file)\n",
    "    f.writerow([\"Ename\",\"Eage\",\"Esal\"])\n",
    "    f.writerow([\"anjani kumar\",22,10000])\n",
    "    f.writerows([[\"anjani kumar\",22,10000],[\"anjani kumar\",22,10000],[\"anjani kumar\",22,10000]])\n",
    "    print(\"data written successfull \")\n",
    "    \n"
   ]
  },
  {
   "cell_type": "code",
   "execution_count": 12,
   "metadata": {},
   "outputs": [
    {
     "name": "stdout",
     "output_type": "stream",
     "text": [
      "Ename Eage Esal \n",
      "anjani kumar 22 10000 \n",
      "anjani kumar 22 10000 \n",
      "anjani kumar 22 10000 \n",
      "anjani kumar 22 10000 \n"
     ]
    }
   ],
   "source": [
    "import csv\n",
    "with open('data.csv','r') as file:\n",
    "    reader = csv.reader(file)\n",
    "    datas=list(reader)\n",
    "    for i in datas:\n",
    "        for j in i:\n",
    "            print(j,end=\" \")\n",
    "        print()"
   ]
  },
  {
   "cell_type": "code",
   "execution_count": 24,
   "metadata": {},
   "outputs": [
    {
     "name": "stdout",
     "output_type": "stream",
     "text": [
      "['Marker', '25', '18']\n",
      "['Laptop', '25000', '52']\n",
      "['Laptop', '25000', '52']\n",
      "['Laptop', '25000', '52']\n"
     ]
    }
   ],
   "source": [
    "import csv\n",
    "class product:\n",
    "    def __init__(self, name, price, quantity):\n",
    "        self.name = name\n",
    "        self.price = price\n",
    "        self.quantity = quantity\n",
    "    \n",
    "    def save(self):\n",
    "        with open('products.csv','a',newline='') as file:\n",
    "            writer = csv.writer(file)\n",
    "            writer.writerow([self.name, self.price, self.quantity])\n",
    "            \n",
    "    @classmethod\n",
    "    def displayAllProducts(cls):\n",
    "        with open('products.csv', 'r') as file:\n",
    "            reader = csv.reader(file)\n",
    "            for row in reader:\n",
    "                print(row)\n",
    "                \n",
    "                \n",
    "                \n",
    "    def increaseQuanity(self,count=1):\n",
    "        self.quantity += count\n",
    "        \n",
    "        with open('products.csv','r') as file:\n",
    "            reader = csv.reader(file)\n",
    "            data = list(reader)\n",
    "            for i in data:\n",
    "                if i[0] == self.name:\n",
    "                    i[2] = str(self.quantity)\n",
    "            \n",
    "            file=open('products.csv','w',newline='')\n",
    "            f=csv.writer(file)\n",
    "            f.writerows(data) n\n",
    "            \n",
    "            \n",
    "        \n",
    "                \n",
    "    \n",
    "p1=product(\"Marker\",25,10)\n",
    "\n",
    "p1.increaseQuanity(5)\n",
    "\n",
    "p1.increaseQuanity(3)\n",
    "p2=product(\"Laptop\",25000,2)\n",
    "\n",
    "p2.increaseQuanity(50)\n",
    "product.displayAllProducts()"
   ]
  }
 ],
 "metadata": {
  "kernelspec": {
   "display_name": "Python 3",
   "language": "python",
   "name": "python3"
  },
  "language_info": {
   "codemirror_mode": {
    "name": "ipython",
    "version": 3
   },
   "file_extension": ".py",
   "mimetype": "text/x-python",
   "name": "python",
   "nbconvert_exporter": "python",
   "pygments_lexer": "ipython3",
   "version": "3.12.5"
  }
 },
 "nbformat": 4,
 "nbformat_minor": 2
}
