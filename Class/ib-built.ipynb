{
 "cells": [
  {
   "cell_type": "code",
   "execution_count": null,
   "metadata": {},
   "outputs": [],
   "source": [
    "# isnum\n",
    "# isalpha\n",
    "# "
   ]
  },
  {
   "cell_type": "code",
   "execution_count": 1,
   "metadata": {},
   "outputs": [
    {
     "name": "stdout",
     "output_type": "stream",
     "text": [
      "0o2000\n",
      "0x400\n",
      "0b10000000000\n"
     ]
    }
   ],
   "source": [
    "num=1024 # num \n",
    "print(oct(num))# oct\n",
    "print(hex(num)) # hex\n",
    "print(bin(num)) # bin"
   ]
  },
  {
   "cell_type": "code",
   "execution_count": 5,
   "metadata": {},
   "outputs": [
    {
     "name": "stdout",
     "output_type": "stream",
     "text": [
      "True\n",
      "True\n",
      "False\n",
      "True\n",
      "False\n",
      "Hariharan\n",
      "Hariharan\n",
      "hariharan\n",
      "False\n",
      "True\n",
      "<built-in method isascii of str object at 0x000001F330A53130>\n",
      "hariharan\n",
      "HARIHARAN\n"
     ]
    }
   ],
   "source": [
    "#pre defined func on str\n",
    "\n",
    "st=\"hariharan\"\n",
    "print(st.isalnum()) #returns\n",
    "print(st.isalpha())\n",
    "print(st.isupper())\n",
    "print(st.islower())\n",
    "print(st.isdigit())\n",
    "print(st.title())\n",
    "print(st.capitalize())\n",
    "print(st.casefold())\n",
    "print(st.isdecimal())\n",
    "print(st.isprintable())\n",
    "print(st.isascii)\n",
    "print(st.lower())\n",
    "print(st.upper())"
   ]
  },
  {
   "cell_type": "code",
   "execution_count": 9,
   "metadata": {},
   "outputs": [
    {
     "name": "stdout",
     "output_type": "stream",
     "text": [
      "True\n"
     ]
    }
   ],
   "source": [
    "st=    \"     hariharan    \"\n",
    "print(st.endswith(\"\"))\n",
    "\n"
   ]
  }
 ],
 "metadata": {
  "kernelspec": {
   "display_name": "Python 3",
   "language": "python",
   "name": "python3"
  },
  "language_info": {
   "codemirror_mode": {
    "name": "ipython",
    "version": 3
   },
   "file_extension": ".py",
   "mimetype": "text/x-python",
   "name": "python",
   "nbconvert_exporter": "python",
   "pygments_lexer": "ipython3",
   "version": "3.12.5"
  }
 },
 "nbformat": 4,
 "nbformat_minor": 2
}
