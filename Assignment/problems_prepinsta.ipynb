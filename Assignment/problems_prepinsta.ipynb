{
 "cells": [
  {
   "cell_type": "code",
   "execution_count": 4,
   "metadata": {},
   "outputs": [
    {
     "name": "stdout",
     "output_type": "stream",
     "text": [
      "['Positive', 'Positive', 'Positive']\n"
     ]
    }
   ],
   "source": [
    "#Positive or Negative number:\n",
    "\n",
    "#  print( list(map(lambda num: \"pos\" if num > 0 else \"negative\" if num < 0 else \"zero\", list(input().split()))))\n",
    "\n",
    "print(list(map(lambda num: \"Positive\" if int(num) > 0 else \"negative\" if int(num) < 0 else \"zero\", input().split())))\n"
   ]
  },
  {
   "cell_type": "code",
   "execution_count": 5,
   "metadata": {},
   "outputs": [
    {
     "name": "stdout",
     "output_type": "stream",
     "text": [
      "['Even', 'Odd', 'Even', 'Odd', 'Even', 'Odd']\n"
     ]
    }
   ],
   "source": [
    "# Even or Odd number\n",
    "\n",
    "print(list(map(lambda num:\"Even\" if int(num)%2==0 else \"Odd\",input().split())))"
   ]
  },
  {
   "cell_type": "code",
   "execution_count": 8,
   "metadata": {},
   "outputs": [
    {
     "name": "stdout",
     "output_type": "stream",
     "text": [
      "15\n"
     ]
    }
   ],
   "source": [
    "#Sum of First N Natural numbers:\n",
    "\n",
    "# print(list(map(lambda num: \"sum is \" for i in range(num>0): sum+=i,input\n",
    "            #    )))\n",
    "\n",
    "\n",
    "# print(list(map(lambda x: sum(range(1, x + 1)), int(input()))))\n",
    "\n",
    "\n",
    "print(sum(range(1, int(input()) + 1)))\n",
    "\n"
   ]
  },
  {
   "cell_type": "code",
   "execution_count": 16,
   "metadata": {},
   "outputs": [],
   "source": [
    "# Greatest of two numbers:\n",
    "\n",
    "def greatest():\n",
    "    num1,num2=int(input())"
   ]
  },
  {
   "cell_type": "code",
   "execution_count": 20,
   "metadata": {},
   "outputs": [
    {
     "ename": "TypeError",
     "evalue": "cannot unpack non-iterable int object",
     "output_type": "error",
     "traceback": [
      "\u001b[1;31m---------------------------------------------------------------------------\u001b[0m",
      "\u001b[1;31mTypeError\u001b[0m                                 Traceback (most recent call last)",
      "Cell \u001b[1;32mIn[20], line 1\u001b[0m\n\u001b[1;32m----> 1\u001b[0m num1,num2\u001b[38;5;241m=\u001b[39m\u001b[38;5;28mint\u001b[39m(\u001b[38;5;28minput\u001b[39m())\n\u001b[0;32m      2\u001b[0m \u001b[38;5;28mprint\u001b[39m(num1,num2)\n",
      "\u001b[1;31mTypeError\u001b[0m: cannot unpack non-iterable int object"
     ]
    }
   ],
   "source": [
    "num1=int(input())\n",
    "print(num1)"
   ]
  }
 ],
 "metadata": {
  "kernelspec": {
   "display_name": "Python 3",
   "language": "python",
   "name": "python3"
  },
  "language_info": {
   "codemirror_mode": {
    "name": "ipython",
    "version": 3
   },
   "file_extension": ".py",
   "mimetype": "text/x-python",
   "name": "python",
   "nbconvert_exporter": "python",
   "pygments_lexer": "ipython3",
   "version": "3.12.5"
  }
 },
 "nbformat": 4,
 "nbformat_minor": 2
}
