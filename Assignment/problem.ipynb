{
 "cells": [
  {
   "cell_type": "code",
   "execution_count": 8,
   "metadata": {},
   "outputs": [
    {
     "name": "stdout",
     "output_type": "stream",
     "text": [
      "The sum of  5 is  15\n"
     ]
    }
   ],
   "source": [
    "# 1)Python Program to find Sum of Natural Numbers\n",
    "num = int(input(\"Enter the num\"))\n",
    "sum =0\n",
    "for i in range(1,num+1):\n",
    "    sum+=i\n",
    "print(\"The sum of \",num,\"is \",sum)"
   ]
  },
  {
   "cell_type": "code",
   "execution_count": 7,
   "metadata": {},
   "outputs": [
    {
     "name": "stdout",
     "output_type": "stream",
     "text": [
      "The sum of  10 is  30\n"
     ]
    }
   ],
   "source": [
    "# 2)Python Program to find Sum of Even Numbers\n",
    "num = int(input(\"Enter the num\"))\n",
    "sum =0\n",
    "for i in range(0,num+1,2):\n",
    "    sum+=i\n",
    "print(\"The sum of \",num,\"is \",sum)"
   ]
  },
  {
   "cell_type": "code",
   "execution_count": 18,
   "metadata": {},
   "outputs": [
    {
     "name": "stdout",
     "output_type": "stream",
     "text": [
      "The sum of  4 is  10\n",
      "The Avg of  4 is  2.5\n"
     ]
    }
   ],
   "source": [
    "# 3)Python example to find Sum and Average of Natural Numbers\n",
    "num = int(input(\"Enter the num\"))\n",
    "sum =0\n",
    "for i in range(1,num+1):\n",
    "    sum+=i\n",
    "print(\"The sum of \",num,\"is \",sum)\n",
    "print(\"The Avg of \",num,\"is \",sum/num)"
   ]
  },
  {
   "cell_type": "code",
   "execution_count": 21,
   "metadata": {},
   "outputs": [
    {
     "name": "stdout",
     "output_type": "stream",
     "text": [
      "The sum of  10 is  25\n"
     ]
    }
   ],
   "source": [
    "# 4)Python example to find Sum of Odd Numbers\n",
    "num = int(input(\"Enter the num:\"))\n",
    "sum =0\n",
    "for i in range(1,num+1,2):\n",
    "    sum+=i\n",
    "print(\"The sum of \",num,\"is \",sum)"
   ]
  },
  {
   "cell_type": "code",
   "execution_count": 23,
   "metadata": {},
   "outputs": [
    {
     "name": "stdout",
     "output_type": "stream",
     "text": [
      "The sum of odd for  10 is  25\n",
      "The sum of even for  10 is  30\n"
     ]
    }
   ],
   "source": [
    "# 5)Python example to find sum of Even and Odd Numbers\n",
    "num = int(input(\"Enter the num:\"))\n",
    "odd=even =0\n",
    "for i in range(1,num+1,2):\n",
    "    even+=i+1\n",
    "    odd+=i\n",
    "print(\"The sum of odd for \",num,\"is \",odd)\n",
    "print(\"The sum of even for \",num,\"is \",even)"
   ]
  },
  {
   "cell_type": "code",
   "execution_count": 25,
   "metadata": {},
   "outputs": [
    {
     "name": "stdout",
     "output_type": "stream",
     "text": [
      "97\n"
     ]
    }
   ],
   "source": [
    "# 1)Python example for ASCII Value of a Single Character\n",
    "ch =input(\"Enter a char\")\n",
    "print(ord(ch))"
   ]
  },
  {
   "cell_type": "code",
   "execution_count": 28,
   "metadata": {},
   "outputs": [
    {
     "name": "stdout",
     "output_type": "stream",
     "text": [
      "104\n",
      "97\n",
      "114\n",
      "105\n",
      "104\n",
      "97\n",
      "114\n",
      "97\n",
      "110\n"
     ]
    }
   ],
   "source": [
    "# 2)Python program to print ASCII Value of Total Characters in a String\n",
    "st =input(\"Enter a string\")\n",
    "t=\"\"\n",
    "for i in st:\n",
    "    print(ord(i))"
   ]
  },
  {
   "cell_type": "code",
   "execution_count": 29,
   "metadata": {},
   "outputs": [
    {
     "name": "stdout",
     "output_type": "stream",
     "text": [
      "hariharan\n"
     ]
    }
   ],
   "source": [
    "# 3)Python program to Concatenate Strings\n",
    "st1=input(\"Enter a string 1 :\")\n",
    "st2=input(\"Enter a string 2 :\")\n",
    "print(st1+st2)"
   ]
  },
  {
   "cell_type": "code",
   "execution_count": 34,
   "metadata": {},
   "outputs": [
    {
     "name": "stdout",
     "output_type": "stream",
     "text": [
      "H\n",
      "A\n",
      "R\n",
      "I\n",
      "H\n",
      "A\n",
      "'\n"
     ]
    }
   ],
   "source": [
    "# 4)Python program to Convert String to Uppercase\n",
    "st =input(\"Enter a string\")\n",
    "for i in st:\n",
    "    if i>='a' and i<='z':\n",
    "        t=ord(i)-32\n",
    "        print(chr(t))\n",
    "    else:\n",
    "        print(i)"
   ]
  },
  {
   "cell_type": "code",
   "execution_count": 36,
   "metadata": {},
   "outputs": [
    {
     "name": "stdout",
     "output_type": "stream",
     "text": [
      "h\n",
      "a\n",
      "r\n",
      "i\n",
      "h\n",
      "a\n"
     ]
    }
   ],
   "source": [
    "# 5)Python program to Convert String to Lowercase\n",
    "st =input(\"Enter a string\")\n",
    "for i in st:\n",
    "    if i>='A' and i<='Z':\n",
    "        t=ord(i)+32\n",
    "        print(chr(t))\n",
    "    else:\n",
    "        print(i)"
   ]
  },
  {
   "cell_type": "code",
   "execution_count": null,
   "metadata": {},
   "outputs": [],
   "source": [
    "# 6)Python program to Copy a String\n",
    "st =input(\"Enter a string\")\n",
    "a=st\n",
    "print(a)\n"
   ]
  },
  {
   "cell_type": "code",
   "execution_count": 38,
   "metadata": {},
   "outputs": [
    {
     "name": "stdout",
     "output_type": "stream",
     "text": [
      "3\n"
     ]
    }
   ],
   "source": [
    "# 7)Python program to Count Occurrence of a Character in a String\n",
    "st =input(\"Enter a string\")\n",
    "ch= input(\"Enter a char\")\n",
    "count=0\n",
    "for i in st:\n",
    "    if ch==i:\n",
    "        count+=1\n",
    "print(count)"
   ]
  },
  {
   "cell_type": "code",
   "execution_count": 42,
   "metadata": {},
   "outputs": [
    {
     "name": "stdout",
     "output_type": "stream",
     "text": [
      "9\n"
     ]
    }
   ],
   "source": [
    "# 8)Python program to Count Total Characters in a String\n",
    "st =input(\"Enter a string\")\n",
    "count=0\n",
    "for i in st:\n",
    "    count+=1\n",
    "print(count)"
   ]
  },
  {
   "cell_type": "code",
   "execution_count": 45,
   "metadata": {},
   "outputs": [
    {
     "name": "stdout",
     "output_type": "stream",
     "text": [
      "i am hari haran from tamiil nadu\n",
      "7\n"
     ]
    }
   ],
   "source": [
    "# 9)Python program to Count Total Number of Words in a String\n",
    "st =input(\"Enter a string\")\n",
    "count=1\n",
    "for i in st:\n",
    "    if i==' ':\n",
    "        count+=1\n",
    "print(st)\n",
    "print(count)"
   ]
  },
  {
   "cell_type": "code",
   "execution_count": 48,
   "metadata": {},
   "outputs": [
    {
     "name": "stdout",
     "output_type": "stream",
     "text": [
      "4\n"
     ]
    }
   ],
   "source": [
    "# 10)Python program to Count Vowels in a String\n",
    "st =input(\"Enter a string\")\n",
    "count=0\n",
    "for i in st:\n",
    "    if i in 'aeiouAEIOU':\n",
    "        count+=1\n",
    "print(count)"
   ]
  },
  {
   "cell_type": "code",
   "execution_count": 49,
   "metadata": {},
   "outputs": [
    {
     "name": "stdout",
     "output_type": "stream",
     "text": [
      " the count of consonents is  5  the count od vowel is  4\n"
     ]
    }
   ],
   "source": [
    "# 11)Python program to Count Vowels and Consonants in a String\n",
    "st =input(\"Enter a string\")\n",
    "con=vow=0\n",
    "for i in st:\n",
    "    if i in 'aeiouAEIOU':\n",
    "        vow+=1\n",
    "    elif i not in 'aeiouAEIOU' :\n",
    "        con+=1\n",
    "print(\" the count of Consonants is \",con,\" the count od vowel is \",vow)"
   ]
  },
  {
   "cell_type": "code",
   "execution_count": 50,
   "metadata": {},
   "outputs": [
    {
     "name": "stdout",
     "output_type": "stream",
     "text": [
      " the count of Alphabets is  7  the count of digits is  3 the count of symbol is  1\n"
     ]
    }
   ],
   "source": [
    "# 12)Python program to Count Alphabets Digits and Special Characters in a String\n",
    "\n",
    "st =input(\"Enter a string\")\n",
    "alpha=digit=sym=0\n",
    "for i in st:\n",
    "    if i>='A' and i<='Z' or i>='a' and i<='z':\n",
    "        alpha+=1\n",
    "    elif i>='0' and i<='9':\n",
    "        digit+=1\n",
    "    else:\n",
    "        sym+=1\n",
    "print(\" the count of Alphabets is \",alpha,\" the count of digits is \",digit,\"the count of symbol is \",sym)"
   ]
  },
  {
   "cell_type": "code",
   "execution_count": 53,
   "metadata": {},
   "outputs": [
    {
     "name": "stdout",
     "output_type": "stream",
     "text": [
      "n 6\n"
     ]
    }
   ],
   "source": [
    "# 13)Python program to Print First Occurrence of a Character in a String\n",
    "st =input(\"Enter a string\")\n",
    "ch= input(\"Enter a char\")\n",
    "for i in range (len(st)) :\n",
    "    if st[i] == ch :\n",
    "        print(ch,i+1)\n",
    "        break"
   ]
  },
  {
   "cell_type": "code",
   "execution_count": 56,
   "metadata": {},
   "outputs": [
    {
     "name": "stdout",
     "output_type": "stream",
     "text": [
      "h 3\n"
     ]
    }
   ],
   "source": [
    "# 14)Python program to Print Last Occurrence of a Character in a String\n",
    "st =input(\"Enter a string\")\n",
    "ch= input(\"Enter a char\")\n",
    "for i in range (len(st)-1,0,-1):\n",
    "    if st[i] == ch :\n",
    "        print(ch,i)\n",
    "        break"
   ]
  },
  {
   "cell_type": "code",
   "execution_count": 63,
   "metadata": {},
   "outputs": [
    {
     "name": "stdout",
     "output_type": "stream",
     "text": [
      "the actual string hariharan the reverse string narahirah\n"
     ]
    }
   ],
   "source": [
    "# 15)Python program to check Palindrome or Not\n",
    "st =input(\"Enter a string\")\n",
    "t=''\n",
    "for i in st:# (len(st)-1,0,-1):\n",
    "    t=i+t\n",
    "print(\"the actual string\",st,\"the reverse string\",t)"
   ]
  },
  {
   "cell_type": "code",
   "execution_count": 64,
   "metadata": {},
   "outputs": [
    {
     "name": "stdout",
     "output_type": "stream",
     "text": [
      "h\n",
      "a\n",
      "r\n",
      "i\n",
      "h\n",
      "a\n",
      "r\n",
      "a\n",
      "n\n"
     ]
    }
   ],
   "source": [
    "# 16)Python program to Print Characters in a String\n",
    "st =input(\"Enter a string\")\n",
    "for i in st:\n",
    "    print(i)"
   ]
  },
  {
   "cell_type": "code",
   "execution_count": 66,
   "metadata": {},
   "outputs": [
    {
     "name": "stdout",
     "output_type": "stream",
     "text": [
      "python_programming_is_language\n"
     ]
    }
   ],
   "source": [
    "# 17)Python program to Replace Blank Space with Hyphen in a String\n",
    "st =input(\"Enter a string\")\n",
    "t=''\n",
    "for i in st:\n",
    "    if i==' ':\n",
    "        t+=\"_\"\n",
    "    else :\n",
    "        t+=i\n",
    "print(t)"
   ]
  },
  {
   "cell_type": "code",
   "execution_count": 67,
   "metadata": {},
   "outputs": [
    {
     "ename": "SyntaxError",
     "evalue": "incomplete input (1717384053.py, line 9)",
     "output_type": "error",
     "traceback": [
      "\u001b[1;36m  Cell \u001b[1;32mIn[67], line 9\u001b[1;36m\u001b[0m\n\u001b[1;33m    \u001b[0m\n\u001b[1;37m    ^\u001b[0m\n\u001b[1;31mSyntaxError\u001b[0m\u001b[1;31m:\u001b[0m incomplete input\n"
     ]
    }
   ],
   "source": [
    "# 18)Python program to Replace Characters in a String\n",
    "st =input(\"Enter a string\")         \n",
    "ch= input(\"Enter a char\")\n",
    "ch1= input(\"enter char to change\")\n",
    "for i in st :\n",
    "    # l=input(\"do u which to change char y or n\")\n",
    "    # if 'y'==l:\n",
    "    #     ch= input(\"Enter a char\")\n",
    "    #     ch1= input(\"enter char to change\")\n",
    "    if ch==i:\n",
    "        "
   ]
  },
  {
   "cell_type": "code",
   "execution_count": 9,
   "metadata": {},
   "outputs": [
    {
     "name": "stdout",
     "output_type": "stream",
     "text": [
      "aiaa\n"
     ]
    }
   ],
   "source": [
    "# 19)Python program to Remove Odd Characters in a String\n",
    "st =input(\"Enter a string\") \n",
    "s=''\n",
    "for i in range(len(st)) :\n",
    "    if i%2!=0:\n",
    "        s+=st[i]        \n",
    "print(s)\n"
   ]
  },
  {
   "cell_type": "code",
   "execution_count": 8,
   "metadata": {},
   "outputs": [
    {
     "name": "stdout",
     "output_type": "stream",
     "text": [
      "hrhrn\n"
     ]
    }
   ],
   "source": [
    "# 20)Python program to Remove Odd Index Characters in a String\n",
    "st =input(\"Enter a string\") \n",
    "s=''\n",
    "for i in range(0,len(st),2) :\n",
    "    s+=st[i]        \n",
    "print(s)"
   ]
  },
  {
   "cell_type": "code",
   "execution_count": 20,
   "metadata": {},
   "outputs": [
    {
     "name": "stdout",
     "output_type": "stream",
     "text": [
      "hri\n"
     ]
    }
   ],
   "source": [
    "# 21)Python program to Remove First Occurrence of a Character in a String\n",
    "st =input(\"Enter a string\") \n",
    "ch= input(\"Enter a char\")\n",
    "c=0\n",
    "s=''\n",
    "for i in range(len(st)) :\n",
    "    if st[i]==ch and c==0:\n",
    "        c+=1\n",
    "    else:\n",
    "        s+=st[i]\n",
    "print(s)"
   ]
  },
  {
   "cell_type": "code",
   "execution_count": 22,
   "metadata": {},
   "outputs": [
    {
     "name": "stdout",
     "output_type": "stream",
     "text": [
      "nrahira\n"
     ]
    }
   ],
   "source": [
    "# 22)Python program to Remove Last Occurred Character in a String\n",
    "st =input(\"Enter a string\") \n",
    "ch= input(\"Enter a char\")\n",
    "c=0\n",
    "s=''\n",
    "for i in range(len(st)-1,0,-1) :\n",
    "    if st[i]==ch and c==0:\n",
    "        c+=1\n",
    "    else:\n",
    "        s+=st[i]\n",
    "print(s)"
   ]
  },
  {
   "cell_type": "code",
   "execution_count": 23,
   "metadata": {},
   "outputs": [
    {
     "name": "stdout",
     "output_type": "stream",
     "text": [
      "narahira"
     ]
    }
   ],
   "source": [
    "# 23)Python program to Reverse a String\n",
    "st =input(\"Enter a string\") \n",
    "for i in range(len(st)-1,0,-1) :\n",
    "    print(st[i],end=\"\") "
   ]
  },
  {
   "cell_type": "code",
   "execution_count": 24,
   "metadata": {},
   "outputs": [
    {
     "name": "stdout",
     "output_type": "stream",
     "text": [
      "9\n"
     ]
    }
   ],
   "source": [
    "# 24)Python program to find String Length\n",
    "print(len(st))\n"
   ]
  },
  {
   "cell_type": "code",
   "execution_count": 25,
   "metadata": {},
   "outputs": [
    {
     "name": "stdout",
     "output_type": "stream",
     "text": [
      "3\n"
     ]
    }
   ],
   "source": [
    "# 25)Python program to find Total Occurrence of a Character in a String\n",
    "st =input(\"Enter a string\") \n",
    "ch= input(\"Enter a char\")\n",
    "c=0\n",
    "s=''\n",
    "for i in st :\n",
    "    if ch==i:\n",
    "        c+=1\n",
    "print(c)"
   ]
  },
  {
   "cell_type": "code",
   "execution_count": 27,
   "metadata": {},
   "outputs": [
    {
     "name": "stdout",
     "output_type": "stream",
     "text": [
      "hariHaraN\n"
     ]
    }
   ],
   "source": [
    "# 26)Python program to Toggle Characters Case in a String\n",
    "st =input(\"Enter a string\") \n",
    "s=''\n",
    "for i in st :\n",
    "    if i>'a' and i<'z':\n",
    "        s+=chr(ord(i)-32)\n",
    "    elif i>'A' and i<'Z':\n",
    "        s+=chr(ord(i)+32)\n",
    "    else:\n",
    "        s+=i\n",
    "print(s)"
   ]
  },
  {
   "cell_type": "code",
   "execution_count": 1,
   "metadata": {},
   "outputs": [
    {
     "name": "stdout",
     "output_type": "stream",
     "text": [
      "0 9\n",
      "1 8\n",
      "2 6\n",
      "3 4\n",
      "4 2\n",
      "5 1\n",
      "6 3\n",
      "7 5\n",
      "8 7\n",
      "9 0\n"
     ]
    }
   ],
   "source": [
    "# 1)Python example to access List Index and Values\n",
    "l=[9,8,6,4,2,1,3,5,7,0]\n",
    "for i in range(len(l)):\n",
    "    print(i,l[i])\n"
   ]
  },
  {
   "cell_type": "code",
   "execution_count": 11,
   "metadata": {},
   "outputs": [
    {
     "name": "stdout",
     "output_type": "stream",
     "text": [
      "[9, 8, 6, 8, 2, 2, 3, 5, 14, 0]\n"
     ]
    }
   ],
   "source": [
    "# Python example to add two Lists\n",
    "l=[9,8,6,4,2,1,3,5,7,0]\n",
    "l2=[1,4,7,0,13,56,34]\n",
    "for i in range(len(l)):\n",
    "    j=0\n",
    "    while j<len(l2):\n",
    "        if l[i]==l2[j]:\n",
    "            l[i]=l[i]+l2[j]\n",
    "        j+=1\n",
    "print(l)"
   ]
  },
  {
   "cell_type": "code",
   "execution_count": 9,
   "metadata": {},
   "outputs": [
    {
     "name": "stdout",
     "output_type": "stream",
     "text": [
      "[9, 8, 6, 4, 2, 1, 3, 5, 7, 0, 1, 4, 7, 0, 13, 56, 34]\n"
     ]
    }
   ],
   "source": [
    "# 3)Python example for Arithmetic Operations on Lists\n",
    "l=[9,8,6,4,2,1,3,5,7,0]\n",
    "l2=[1,4,7,0,13,56,34]\n",
    "l3=l+l2\n",
    "print(l3)"
   ]
  },
  {
   "cell_type": "code",
   "execution_count": 10,
   "metadata": {},
   "outputs": [
    {
     "name": "stdout",
     "output_type": "stream",
     "text": [
      "The list is empty.\n"
     ]
    }
   ],
   "source": [
    "# 4)Python example to check List is Empty or Not\n",
    "n = int(input(\"Enter the i of elements in the list: \"))\n",
    "list1 = []\n",
    "\n",
    "for i in range(n):\n",
    "    \n",
    "    a = input(\"Enter the element of the list: \")\n",
    "    list1.append(a)\n",
    "\n",
    "if not list1 or all(element == '' for element in list1):\n",
    "    print(\"The list is empty.\")\n",
    "else:\n",
    "    print(\"The list is not empty:\", list1)"
   ]
  },
  {
   "cell_type": "code",
   "execution_count": 2,
   "metadata": {},
   "outputs": [
    {
     "name": "stdout",
     "output_type": "stream",
     "text": [
      "[1, 2, 3, 4, 5, 6]\n"
     ]
    }
   ],
   "source": [
    "# 5)Python example to Clone or Copy a List\n",
    "l=[1,2,3,4,5,6]\n",
    "l2=l\n",
    "print(l2)"
   ]
  },
  {
   "cell_type": "code",
   "execution_count": 12,
   "metadata": {},
   "outputs": [
    {
     "name": "stdout",
     "output_type": "stream",
     "text": [
      "Total numbers in the list are: 7 even nos are 3 odd nos are 4\n"
     ]
    }
   ],
   "source": [
    "#Python program to Count Even and Odd is in a List\n",
    "l=[1,2,3,4,5,6,7]\n",
    "even=odd=0\n",
    "for i in l:\n",
    "    if i%2==0:\n",
    "        even+=1\n",
    "    elif i%2!=0:\n",
    "        odd+=1\n",
    "print(\"Total is in the list are:\",odd+even,\"even nos are\",even,\"odd nos are\",odd)\n",
    "        "
   ]
  },
  {
   "cell_type": "code",
   "execution_count": 13,
   "metadata": {},
   "outputs": [
    {
     "name": "stdout",
     "output_type": "stream",
     "text": [
      "The total nof list is 13 no of pos 6 no of neg 7\n"
     ]
    }
   ],
   "source": [
    "#6)Python program to Count Positive and Negative Numbers in a List\n",
    "l=[1,2,-3,-4,-6,-8,-94,-54,-43,3,4,5,6]\n",
    "pos=neg=0\n",
    "for i in l:\n",
    "    if i<0:\n",
    "        neg+=1\n",
    "    elif i>=0:\n",
    "        pos+=1\n",
    "print(\"The total nof list is\",pos+neg,\"no of pos\",pos,\"no of neg\",neg)"
   ]
  },
  {
   "cell_type": "code",
   "execution_count": 15,
   "metadata": {},
   "outputs": [
    {
     "name": "stdout",
     "output_type": "stream",
     "text": [
      "Largest number in the list is: 65\n"
     ]
    }
   ],
   "source": [
    "#7)Python program to Print Largest Number in a List\n",
    "l=[1,2,-3,-4,-6,-8,65,-94,-54,-43,3,4,5,6]\n",
    "g=0\n",
    "for i in l:\n",
    "    if i>g:\n",
    "        g=i\n",
    "print(\"Largest number in the list is:\",g)\n"
   ]
  },
  {
   "cell_type": "code",
   "execution_count": 19,
   "metadata": {},
   "outputs": [
    {
     "name": "stdout",
     "output_type": "stream",
     "text": [
      "Largest number in the list is: 65 The smallest num is -94\n"
     ]
    }
   ],
   "source": [
    "# 8)Python program to Print Largest and Smallest i\n",
    "g=0\n",
    "s=9\n",
    "for i in l:\n",
    "    if i>g:\n",
    "        g=i\n",
    "    elif i<s:\n",
    "        s=i\n",
    "print(\"Largest number in the list is:\",g,\"The smallest num is\",s)"
   ]
  },
  {
   "cell_type": "code",
   "execution_count": 20,
   "metadata": {},
   "outputs": [
    {
     "name": "stdout",
     "output_type": "stream",
     "text": [
      "14\n"
     ]
    }
   ],
   "source": [
    "# 9)Python program to find Length of a List\n",
    "print(len(l))"
   ]
  },
  {
   "cell_type": "code",
   "execution_count": 22,
   "metadata": {},
   "outputs": [
    {
     "name": "stdout",
     "output_type": "stream",
     "text": [
      "[-3, -4, -6, -8, 65, -94, -54, -43]\n"
     ]
    }
   ],
   "source": [
    "# 10)Python program to find List Difference\n",
    "d = [item for item in l if item not in l2]\n",
    "print(d)\n"
   ]
  },
  {
   "cell_type": "code",
   "execution_count": 36,
   "metadata": {},
   "outputs": [
    {
     "name": "stdout",
     "output_type": "stream",
     "text": [
      "5040\n"
     ]
    }
   ],
   "source": [
    "# 11)Python List Multiplication Program\n",
    "pre=l[0]\n",
    "for i in l:\n",
    "    pre*=i\n",
    "print(pre)"
   ]
  },
  {
   "cell_type": "code",
   "execution_count": 33,
   "metadata": {},
   "outputs": [
    {
     "name": "stdout",
     "output_type": "stream",
     "text": [
      "1\n",
      "2\n",
      "3\n",
      "4\n",
      "5\n",
      "6\n"
     ]
    }
   ],
   "source": [
    "# Python program to Print Elements in a List\n",
    "for i in l2:\n",
    "    print(i)"
   ]
  },
  {
   "cell_type": "code",
   "execution_count": 37,
   "metadata": {},
   "outputs": [
    {
     "name": "stdout",
     "output_type": "stream",
     "text": [
      "[2, -4, -6, -8, -94, -54, 4, 6]\n"
     ]
    }
   ],
   "source": [
    "# 12)Python program to Even Numbers in a List\n",
    "l=[1,2,-3,-4,-6,-8,65,-94,-54,-43,3,4,5,6]\n",
    "e=[item for item in l if item%2==0]\n",
    "print(e)"
   ]
  },
  {
   "cell_type": "code",
   "execution_count": 38,
   "metadata": {},
   "outputs": [
    {
     "name": "stdout",
     "output_type": "stream",
     "text": [
      "[1, -3, 65, -43, 3, 5]\n"
     ]
    }
   ],
   "source": [
    "# 13)Python program to Print Odd List Numbers\n",
    "e=[item for item in l if item%2!=0]\n",
    "print(e)"
   ]
  },
  {
   "cell_type": "code",
   "execution_count": 39,
   "metadata": {},
   "outputs": [
    {
     "name": "stdout",
     "output_type": "stream",
     "text": [
      "[1, 2, 65, 3, 4, 5, 6]\n"
     ]
    }
   ],
   "source": [
    "# 14)Python program to Print Positive Numbers\n",
    "\n",
    "e=[item for item in l if item>=0]\n",
    "print(e)"
   ]
  },
  {
   "cell_type": "code",
   "execution_count": 40,
   "metadata": {},
   "outputs": [
    {
     "name": "stdout",
     "output_type": "stream",
     "text": [
      "[-3, -4, -6, -8, -94, -54, -43]\n"
     ]
    }
   ],
   "source": [
    "# 15)Python program to Print Negative Numbers\n",
    "e=[item for item in l if item<0]\n",
    "print(e)"
   ]
  },
  {
   "cell_type": "code",
   "execution_count": 41,
   "metadata": {},
   "outputs": [
    {
     "name": "stdout",
     "output_type": "stream",
     "text": [
      "The even nos are [2, -4, -6, -8, -94, -54, 4, 6] odd nos are [1, -3, 65, -43, 3, 5]\n"
     ]
    }
   ],
   "source": [
    "# 16)Python program to Put Even and odd Numbers in Separate List\n",
    "even=[]\n",
    "odd=[]\n",
    "for i in l:\n",
    "    if i%2==0:\n",
    "        even.append(i)\n",
    "    elif i%2!=0:\n",
    "        odd.append(i)\n",
    "print(\"The even nos are\",even,\"odd nos are\",odd)"
   ]
  },
  {
   "cell_type": "code",
   "execution_count": 2,
   "metadata": {},
   "outputs": [
    {
     "name": "stdout",
     "output_type": "stream",
     "text": [
      "Positive elements: [6, 8, 4, 7] Negative elements: [-8]\n"
     ]
    }
   ],
   "source": [
    "# 17)Python program to Put Positive and Negative Numbers in Separate List\n",
    "numbers = list(map(int, input(\"Enter numbers separated by space: \").split()))\n",
    "pos = []\n",
    "neg = []\n",
    "for num in numbers:\n",
    "    if num >= 0:\n",
    "        pos.append(num)\n",
    "    else:\n",
    "        neg.append(num)\n",
    "print(\"Positive elements:\", pos,\"Negative elements:\", neg)"
   ]
  },
  {
   "cell_type": "code",
   "execution_count": 16,
   "metadata": {},
   "outputs": [
    {
     "name": "stdout",
     "output_type": "stream",
     "text": [
      "[1, 3, 4, 5, 6, 43, 2, 56]\n"
     ]
    }
   ],
   "source": [
    "# 18)Python program to Remove Duplicates from List\n",
    "l1=[]\n",
    "list=[1,3,4,5,6,43,2,56,1,56,4,5,6]\n",
    "# l1=[item for item in list if item not in l1]\n",
    "[l1.append(item) for item in list if item not in l1]\n",
    "print(l1)\n"
   ]
  },
  {
   "cell_type": "code",
   "execution_count": 13,
   "metadata": {},
   "outputs": [
    {
     "name": "stdout",
     "output_type": "stream",
     "text": [
      "[1, 3, 4, 5, 6, 43, 2, 56]\n"
     ]
    }
   ],
   "source": [
    "l1=[]\n",
    "for i in list:\n",
    "    if i not in l1:\n",
    "        l1.append(i)\n",
    "print(l1)"
   ]
  },
  {
   "cell_type": "code",
   "execution_count": 18,
   "metadata": {},
   "outputs": [
    {
     "name": "stdout",
     "output_type": "stream",
     "text": [
      "[4, 6, 2, 56, 56, 4, 6]\n"
     ]
    }
   ],
   "source": [
    "# 19)Python program to Remove Even Numbers in a List\n",
    "l1 = [item for item in list if item % 2 == 0]\n",
    "print(l1)"
   ]
  },
  {
   "cell_type": "code",
   "execution_count": 20,
   "metadata": {},
   "outputs": [
    {
     "name": "stdout",
     "output_type": "stream",
     "text": [
      "[6, 5, 4, 56, 1, 56, 2, 43, 6, 5, 4, 3, 1]\n"
     ]
    }
   ],
   "source": [
    "# 20)Python program to Reverse List Items\n",
    "l1=[item for item in list[::-1] ]\n",
    "print(l1)"
   ]
  },
  {
   "cell_type": "code",
   "execution_count": 27,
   "metadata": {},
   "outputs": [
    {
     "name": "stdout",
     "output_type": "stream",
     "text": [
      "43\n"
     ]
    }
   ],
   "source": [
    "# 21)Python program to Print Second Largest Number in a List\n",
    "first = second = 9\n",
    "for i in list:\n",
    "        if i > first:\n",
    "            second = first\n",
    "            first = i\n",
    "        elif first > i > second:\n",
    "            second = i\n",
    "print(second)"
   ]
  },
  {
   "cell_type": "code",
   "execution_count": 29,
   "metadata": {},
   "outputs": [
    {
     "name": "stdout",
     "output_type": "stream",
     "text": [
      "[1, 1, 2, 3, 4, 4, 5, 5, 6, 6, 43, 56, 56]\n"
     ]
    }
   ],
   "source": [
    "# 22)Python program to Sort Elements in Ascending Order\n",
    "for i in range(len(list)):\n",
    "    for j in range(0, len(list)-i-1):\n",
    "        if list[j] > list[j+1]:\n",
    "            list[j], list[j+1] = list[j+1], list[j]\n",
    "print(list)"
   ]
  },
  {
   "cell_type": "code",
   "execution_count": 31,
   "metadata": {},
   "outputs": [
    {
     "name": "stdout",
     "output_type": "stream",
     "text": [
      "[56, 56, 43, 6, 6, 5, 5, 4, 4, 3, 2, 1, 1]\n"
     ]
    }
   ],
   "source": [
    "# 23)Python program to Print Smallest Element in a List\n",
    "list=[1,3,4,5,6,43,2,56,1,56,4,5,6]\n",
    "for i in range(len(list)):\n",
    "    for j in range(0, len(list)-i-1):\n",
    "        if list[j] < list[j+1]:\n",
    "            list[j], list[j+1] = list[j+1], list[j]\n",
    "print(list)"
   ]
  },
  {
   "cell_type": "code",
   "execution_count": 37,
   "metadata": {},
   "outputs": [
    {
     "name": "stdout",
     "output_type": "stream",
     "text": [
      "192\n"
     ]
    }
   ],
   "source": [
    "# 24)Python program to find Sum of All Elements\n",
    "sum=0\n",
    "for item in list:\n",
    "    sum+=item\n",
    "print(sum)"
   ]
  },
  {
   "cell_type": "code",
   "execution_count": 38,
   "metadata": {},
   "outputs": [
    {
     "name": "stdout",
     "output_type": "stream",
     "text": [
      "odd : 58 even: 134\n"
     ]
    }
   ],
   "source": [
    "# 25)Python program to find Sum of Even and Odd Numbers in a List\n",
    "even=odd=0\n",
    "for item in list:\n",
    "    if item%2==0:\n",
    "        even+=item\n",
    "    else:\n",
    "        odd+=item\n",
    "print(\"odd :\",odd,\"even:\",even)"
   ]
  },
  {
   "cell_type": "code",
   "execution_count": 40,
   "metadata": {},
   "outputs": [
    {
     "name": "stdout",
     "output_type": "stream",
     "text": [
      "14.76923076923077\n",
      "14\n"
     ]
    }
   ],
   "source": [
    "# Python Program to Calculate the Average of Numbers in a Given List\n",
    "sum=0\n",
    "for item in list:\n",
    "    sum+=item\n",
    "avg=sum/len(list)\n",
    "print(avg)\n",
    "print(int(avg))"
   ]
  },
  {
   "cell_type": "code",
   "execution_count": 41,
   "metadata": {},
   "outputs": [
    {
     "name": "stdout",
     "output_type": "stream",
     "text": [
      "The value of a is: 8\n",
      "The value of b is: 6\n"
     ]
    }
   ],
   "source": [
    "# Python Program to Exchange the Values of Two Numbers Without Using a Temporary Variable\n",
    "a=6\n",
    "b=8\n",
    "a=a+b\n",
    "b=a-b\n",
    "a=a-b\n",
    "print(\"The value of a is:\", a)\n",
    "print(\"The value of b is:\", b)"
   ]
  },
  {
   "cell_type": "code",
   "execution_count": 60,
   "metadata": {},
   "outputs": [
    {
     "name": "stdout",
     "output_type": "stream",
     "text": [
      "120\n"
     ]
    }
   ],
   "source": [
    "# Python Program to Read a Number n and Compute n+nn+nnn\n",
    "sum=0\n",
    "n=int(input(\"Enter no of times to sum\"))\n",
    "num=int(input(\"enter the number\"))\n",
    "for i in range(1,n+1):\n",
    "    sum+=num**i\n",
    "print(sum)"
   ]
  },
  {
   "cell_type": "code",
   "execution_count": 63,
   "metadata": {},
   "outputs": [
    {
     "name": "stdout",
     "output_type": "stream",
     "text": [
      "18654"
     ]
    }
   ],
   "source": [
    "# Python Program to Reverse a Given Number\n",
    "n=45681\n",
    "while(n>0):\n",
    "    r=n%10\n",
    "    print(r,end=\"\")\n",
    "    n=n//10\n",
    "    "
   ]
  },
  {
   "cell_type": "code",
   "execution_count": 82,
   "metadata": {},
   "outputs": [
    {
     "name": "stdout",
     "output_type": "stream",
     "text": [
      "Negative\n",
      "-96\n"
     ]
    }
   ],
   "source": [
    "# Python Program to Check Whether a Number is Positive or Negative\n",
    "n=int(input(\"Enter the Number\"))\n",
    "if n >= 0:\n",
    "    print(\"Positive\")\n",
    "elif n < 0:\n",
    "    print(\"Negative\")\n",
    "print(n)"
   ]
  },
  {
   "cell_type": "code",
   "execution_count": 3,
   "metadata": {},
   "outputs": [
    {
     "name": "stdout",
     "output_type": "stream",
     "text": [
      "Marks 65.0 Grade: D\n",
      "Marks 8.0 Grade: F\n",
      "Marks 45.0 Grade: E\n",
      "Marks 98.0 Grade: A\n",
      "Marks 25.0 Grade: F\n"
     ]
    }
   ],
   "source": [
    "# Python Program to Take in the Marks of 5 Subjects and Display the Grade\n",
    "for i in range(5):\n",
    "    marks = float(input(\"Enter the marks of subject {}: \".format(i+1)))\n",
    "    if marks >= 90:\n",
    "        print(\"Marks\",marks,\"Grade: A\")\n",
    "    elif marks >= 80:\n",
    "        print(\"Marks\",marks,\"Grade: B\")\n",
    "    elif marks >= 70:\n",
    "        print(\"Marks\",marks,\"Grade: C\")\n",
    "    elif marks >= 60:\n",
    "        print(\"Marks\",marks,\"Grade: D\")\n",
    "    elif marks <=34:\n",
    "        print(\"Marks\",marks,\"Grade: F\")\n",
    "    else:\n",
    "        print(\"Marks\",marks,\"Grade: E\")\n",
    "        "
   ]
  },
  {
   "cell_type": "code",
   "execution_count": 5,
   "metadata": {},
   "outputs": [
    {
     "name": "stdout",
     "output_type": "stream",
     "text": [
      "0\n",
      "6\n",
      "12\n",
      "18\n",
      "24\n",
      "30\n",
      "36\n",
      "42\n",
      "48\n",
      "54\n",
      "60\n",
      "66\n",
      "72\n",
      "78\n",
      "84\n"
     ]
    }
   ],
   "source": [
    "# Python Program to Print all Numbers in a Range Divisible by a Given Number\n",
    "num=int(input(\"enter the number\"))\n",
    "n=int(input(\"Enter the Range\"))\n",
    "for i in range(n):\n",
    "    if i%num==0:\n",
    "        print(i)\n"
   ]
  },
  {
   "cell_type": "code",
   "execution_count": 7,
   "metadata": {},
   "outputs": [
    {
     "name": "stdout",
     "output_type": "stream",
     "text": [
      "The Quotient 15.833333333333334 and Remainder 5\n"
     ]
    }
   ],
   "source": [
    "# Python Program to Read Two Numbers and Print Their Quotient and Remainder\n",
    "num1=int(input(\"Enter the first number:\"))\n",
    "num2=int(input(\"Enter the Second number:\"))\n",
    "if num2==0:\n",
    "    print(\"Error! Division by zero is not allowed\")\n",
    "else:\n",
    "    print(\"The Quotient\",num1/num2,\"and Remainder\",num1%num2)"
   ]
  },
  {
   "cell_type": "code",
   "execution_count": 17,
   "metadata": {},
   "outputs": [
    {
     "name": "stdout",
     "output_type": "stream",
     "text": [
      "0 0 0\n",
      "0 0 300\n",
      "0 0 600\n",
      "0 0 900\n",
      "0 200 0\n",
      "0 200 300\n",
      "0 200 600\n",
      "0 200 900\n",
      "0 400 0\n",
      "0 400 300\n",
      "0 400 600\n",
      "0 400 900\n",
      "0 600 0\n",
      "0 600 300\n",
      "0 600 600\n",
      "0 600 900\n",
      "0 800 0\n",
      "0 800 300\n",
      "0 800 600\n",
      "0 800 900\n",
      "100 0 0\n",
      "100 0 300\n",
      "100 0 600\n",
      "100 0 900\n",
      "100 200 0\n",
      "100 200 300\n",
      "100 200 600\n",
      "100 200 900\n",
      "100 400 0\n",
      "100 400 300\n",
      "100 400 600\n",
      "100 400 900\n",
      "100 600 0\n",
      "100 600 300\n",
      "100 600 600\n",
      "100 600 900\n",
      "100 800 0\n",
      "100 800 300\n",
      "100 800 600\n",
      "100 800 900\n",
      "200 0 0\n",
      "200 0 300\n",
      "200 0 600\n",
      "200 0 900\n",
      "200 200 0\n",
      "200 200 300\n",
      "200 200 600\n",
      "200 200 900\n",
      "200 400 0\n",
      "200 400 300\n",
      "200 400 600\n",
      "200 400 900\n",
      "200 600 0\n",
      "200 600 300\n",
      "200 600 600\n",
      "200 600 900\n",
      "200 800 0\n",
      "200 800 300\n",
      "200 800 600\n",
      "200 800 900\n",
      "300 0 0\n",
      "300 0 300\n",
      "300 0 600\n",
      "300 0 900\n",
      "300 200 0\n",
      "300 200 300\n",
      "300 200 600\n",
      "300 200 900\n",
      "300 400 0\n",
      "300 400 300\n",
      "300 400 600\n",
      "300 400 900\n",
      "300 600 0\n",
      "300 600 300\n",
      "300 600 600\n",
      "300 600 900\n",
      "300 800 0\n",
      "300 800 300\n",
      "300 800 600\n",
      "300 800 900\n",
      "400 0 0\n",
      "400 0 300\n",
      "400 0 600\n",
      "400 0 900\n",
      "400 200 0\n",
      "400 200 300\n",
      "400 200 600\n",
      "400 200 900\n",
      "400 400 0\n",
      "400 400 300\n",
      "400 400 600\n",
      "400 400 900\n",
      "400 600 0\n",
      "400 600 300\n",
      "400 600 600\n",
      "400 600 900\n",
      "400 800 0\n",
      "400 800 300\n",
      "400 800 600\n",
      "400 800 900\n",
      "500 0 0\n",
      "500 0 300\n",
      "500 0 600\n",
      "500 0 900\n",
      "500 200 0\n",
      "500 200 300\n",
      "500 200 600\n",
      "500 200 900\n",
      "500 400 0\n",
      "500 400 300\n",
      "500 400 600\n",
      "500 400 900\n",
      "500 600 0\n",
      "500 600 300\n",
      "500 600 600\n",
      "500 600 900\n",
      "500 800 0\n",
      "500 800 300\n",
      "500 800 600\n",
      "500 800 900\n",
      "600 0 0\n",
      "600 0 300\n",
      "600 0 600\n",
      "600 0 900\n",
      "600 200 0\n",
      "600 200 300\n",
      "600 200 600\n",
      "600 200 900\n",
      "600 400 0\n",
      "600 400 300\n",
      "600 400 600\n",
      "600 400 900\n",
      "600 600 0\n",
      "600 600 300\n",
      "600 600 600\n",
      "600 600 900\n",
      "600 800 0\n",
      "600 800 300\n",
      "600 800 600\n",
      "600 800 900\n",
      "700 0 0\n",
      "700 0 300\n",
      "700 0 600\n",
      "700 0 900\n",
      "700 200 0\n",
      "700 200 300\n",
      "700 200 600\n",
      "700 200 900\n",
      "700 400 0\n",
      "700 400 300\n",
      "700 400 600\n",
      "700 400 900\n",
      "700 600 0\n",
      "700 600 300\n",
      "700 600 600\n",
      "700 600 900\n",
      "700 800 0\n",
      "700 800 300\n",
      "700 800 600\n",
      "700 800 900\n",
      "800 0 0\n",
      "800 0 300\n",
      "800 0 600\n",
      "800 0 900\n",
      "800 200 0\n",
      "800 200 300\n",
      "800 200 600\n",
      "800 200 900\n",
      "800 400 0\n",
      "800 400 300\n",
      "800 400 600\n",
      "800 400 900\n",
      "800 600 0\n",
      "800 600 300\n",
      "800 600 600\n",
      "800 600 900\n",
      "800 800 0\n",
      "800 800 300\n",
      "800 800 600\n",
      "800 800 900\n",
      "900 0 0\n",
      "900 0 300\n",
      "900 0 600\n",
      "900 0 900\n",
      "900 200 0\n",
      "900 200 300\n",
      "900 200 600\n",
      "900 200 900\n",
      "900 400 0\n",
      "900 400 300\n",
      "900 400 600\n",
      "900 400 900\n",
      "900 600 0\n",
      "900 600 300\n",
      "900 600 600\n",
      "900 600 900\n",
      "900 800 0\n",
      "900 800 300\n",
      "900 800 600\n",
      "900 800 900\n",
      "count is  200\n"
     ]
    }
   ],
   "source": [
    "# Python Program to Accept Three Digits and Print all Possible Combinations from the Digits\n",
    "count=0\n",
    "num1=int(input(\"Enter the first number:\"))\n",
    "num2=int(input(\"Enter the second number:\"))\n",
    "num3=int(input(\"Enter the third number:\"))\n",
    "for i in range(1000):\n",
    "    for j in range(1000):\n",
    "        for k in range(1000):\n",
    "            if i%num1==0 and j%num2==0 and k%num3==0:\n",
    "                print(i,j,k)\n",
    "                count+=1\n",
    "print(\"count is \",count)"
   ]
  },
  {
   "cell_type": "code",
   "execution_count": 18,
   "metadata": {},
   "outputs": [
    {
     "name": "stdout",
     "output_type": "stream",
     "text": [
      "11\n",
      "13\n",
      "15\n",
      "17\n",
      "19\n",
      "21\n",
      "23\n",
      "25\n",
      "27\n",
      "29\n",
      "31\n",
      "33\n",
      "35\n",
      "37\n",
      "39\n",
      "41\n",
      "43\n",
      "45\n",
      "47\n",
      "49\n",
      "51\n",
      "53\n",
      "55\n",
      "57\n",
      "59\n",
      "61\n",
      "63\n",
      "65\n",
      "67\n",
      "69\n",
      "71\n",
      "73\n",
      "75\n",
      "77\n",
      "79\n",
      "81\n",
      "83\n",
      "85\n",
      "87\n",
      "89\n",
      "91\n",
      "93\n",
      "95\n",
      "97\n",
      "99\n",
      "101\n",
      "103\n",
      "105\n",
      "107\n",
      "109\n",
      "111\n",
      "113\n",
      "115\n",
      "117\n",
      "119\n",
      "121\n",
      "123\n",
      "125\n",
      "127\n",
      "129\n",
      "131\n",
      "133\n",
      "135\n",
      "137\n",
      "139\n",
      "141\n",
      "143\n",
      "145\n",
      "147\n",
      "149\n",
      "151\n",
      "153\n",
      "155\n",
      "157\n",
      "159\n",
      "161\n",
      "163\n",
      "165\n",
      "167\n",
      "169\n",
      "171\n",
      "173\n",
      "175\n",
      "177\n",
      "179\n",
      "181\n",
      "183\n",
      "185\n",
      "187\n",
      "189\n",
      "191\n",
      "193\n",
      "195\n",
      "197\n",
      "199\n"
     ]
    }
   ],
   "source": [
    "# Python Program to Print Odd Numbers Within a Given Range\n",
    "num=int(input(\"Enter the number:\"))\n",
    "start=int(input(\"Enter the start of the range:\"))\n",
    "end=int(input(\"Enter the end of the range:\"))\n",
    "for i in range(start,end+1):\n",
    "    if i%2!=0:\n",
    "        print(i)\n",
    "        "
   ]
  },
  {
   "cell_type": "code",
   "execution_count": 20,
   "metadata": {},
   "outputs": [
    {
     "name": "stdout",
     "output_type": "stream",
     "text": [
      "17\n"
     ]
    }
   ],
   "source": [
    "# Python Program to Find the Sum of Digits in a Number\n",
    "num=int(input(\"Enter the number:\"))\n",
    "sum =0\n",
    "while num>0:\n",
    "    digit = num % 10\n",
    "    sum = sum + digit\n",
    "    num = num // 10\n",
    "print(sum)"
   ]
  },
  {
   "cell_type": "code",
   "execution_count": 20,
   "metadata": {},
   "outputs": [
    {
     "name": "stdout",
     "output_type": "stream",
     "text": [
      "5\n"
     ]
    }
   ],
   "source": [
    "# Python Program to Find the Smallest Divisor of an Integer\n",
    "num=int(input(\"Enter the number:\"))\n",
    "for i in range(2,100):\n",
    "    if num % i == 0:\n",
    "        print(i)\n",
    "        break"
   ]
  },
  {
   "cell_type": "code",
   "execution_count": 25,
   "metadata": {},
   "outputs": [
    {
     "name": "stdout",
     "output_type": "stream",
     "text": [
      "7\n"
     ]
    }
   ],
   "source": [
    "# Python Program to Count the Number of Digits in a Number\n",
    "num=int(input(\"Enter the number:\"))\n",
    "count=0\n",
    "while(num>0):\n",
    "    temp=num%10\n",
    "    count+=1\n",
    "    num//=10\n",
    "print(count)"
   ]
  },
  {
   "cell_type": "code",
   "execution_count": 39,
   "metadata": {},
   "outputs": [
    {
     "name": "stdout",
     "output_type": "stream",
     "text": [
      "4554 4554\n",
      "True\n"
     ]
    }
   ],
   "source": [
    "# Python Program to Check if a Number is a Palindrome\n",
    "def is_palindrome(n): \n",
    "    t=n\n",
    "    res=0\n",
    "    while(n>0):\n",
    "        temp=n%10\n",
    "        res=res*10+temp\n",
    "        n//=10\n",
    "    print(t,res)\n",
    "    if t==res:\n",
    "        return True\n",
    "    else :\n",
    "        return False\n",
    "print(is_palindrome(int(input(\"enter a num\"))))"
   ]
  },
  {
   "cell_type": "code",
   "execution_count": 40,
   "metadata": {},
   "outputs": [
    {
     "name": "stdout",
     "output_type": "stream",
     "text": [
      "1\n",
      "5\n",
      "7\n",
      "11\n",
      "13\n",
      "17\n",
      "19\n",
      "23\n",
      "25\n",
      "29\n",
      "31\n",
      "35\n",
      "37\n",
      "41\n",
      "43\n",
      "47\n",
      "49\n"
     ]
    }
   ],
   "source": [
    "# Python Program to Print all Integers that Aren't Divisible by Either 2 or 3 and Lie between 1 and 50.\n",
    "\n",
    "for i in range(1,51):\n",
    "    if i%2!=0 and i%3!=0:\n",
    "        print(i)"
   ]
  },
  {
   "cell_type": "code",
   "execution_count": 72,
   "metadata": {},
   "outputs": [
    {
     "name": "stdout",
     "output_type": "stream",
     "text": [
      "10\n"
     ]
    }
   ],
   "source": [
    "# Python Program to Read a Number n And Print the Series \"1+2+…..+n= \"\n",
    "def rec(num):\n",
    "    if num == 1:\n",
    "        return 1\n",
    "    else:\n",
    "        return num + rec(num - 1)\n",
    "\n",
    "print(rec(int(input(\"Enter a number: \"))))"
   ]
  },
  {
   "cell_type": "code",
   "execution_count": 74,
   "metadata": {},
   "outputs": [
    {
     "name": "stdout",
     "output_type": "stream",
     "text": [
      "10\n"
     ]
    }
   ],
   "source": [
    "# Python Program to Read a Number n and Print the Natural Numbers Summation Pattern\n",
    "print(rec(int(input(\"Enter a number: \"))))"
   ]
  },
  {
   "cell_type": "code",
   "execution_count": 83,
   "metadata": {},
   "outputs": [
    {
     "name": "stdout",
     "output_type": "stream",
     "text": [
      "1 0 0 \n",
      "0 1 0 \n",
      "0 0 1 \n"
     ]
    }
   ],
   "source": [
    "# Python Program to Print an Identity Matrix\n",
    "for i in range(3):\n",
    "    for j in range(3):\n",
    "            if i == j:\n",
    "                print(1, end=\" \")\n",
    "            else:\n",
    "                print(0, end=\" \")\n",
    "    print()\n",
    "                "
   ]
  },
  {
   "cell_type": "code",
   "execution_count": 85,
   "metadata": {},
   "outputs": [
    {
     "name": "stdout",
     "output_type": "stream",
     "text": [
      "*\n",
      "*\n",
      "*\n",
      "*\n",
      "\n",
      "*\n",
      "*\n",
      "*\n",
      "\n",
      "*\n",
      "*\n",
      "\n",
      "*\n",
      "\n"
     ]
    }
   ],
   "source": [
    "# Python Program to Print an Inverted Star Pattern\n",
    "rows=int(input(\"enter the rows\"))\n",
    "for i in range(rows, 0, -1):\n",
    "    for j in range(i):\n",
    "        print(\"*\")\n",
    "    #print(\"\\r\")"
   ]
  },
  {
   "cell_type": "code",
   "execution_count": null,
   "metadata": {},
   "outputs": [],
   "source": [
    "# Python Program to Read Print Prime Numbers in a Range using Sieve of Eratosthenes \n"
   ]
  },
  {
   "cell_type": "code",
   "execution_count": 88,
   "metadata": {},
   "outputs": [
    {
     "name": "stdout",
     "output_type": "stream",
     "text": [
      "Date is valid\n"
     ]
    }
   ],
   "source": [
    "# Python Program to Check if a Date is Valid and Print the Incremented Date if it is \n",
    "year = int(input(\"Enter the Year\"))\n",
    "month = int(input(\"Enter the Month\"))\n",
    "day = int(input(\"Enter the Date\"))\n",
    "if year<10000 and year>1:\n",
    "    if day>=1 and day<=31:\n",
    "        if month>=1 and month<13:\n",
    "            print(\"Date is valid\")\n"
   ]
  },
  {
   "cell_type": "code",
   "execution_count": null,
   "metadata": {},
   "outputs": [],
   "source": [
    "# Python Program to Compute Simple Interest Given all the Required Values\n",
    "\n"
   ]
  },
  {
   "cell_type": "code",
   "execution_count": 96,
   "metadata": {},
   "outputs": [
    {
     "name": "stdout",
     "output_type": "stream",
     "text": [
      "2004 is a leap year\n"
     ]
    }
   ],
   "source": [
    "# Python Program to Check Whether a Given Year is a Leap Year\n",
    "year = int(input(\"Enter a year: \"))\n",
    "if year % 4 == 0:\n",
    "    if year % 100 == 0:\n",
    "        if year % 400 == 0:\n",
    "            print(year, \"is a leap year\")\n",
    "        else:\n",
    "            print(year, \"is not a leap year\")\n",
    "    else:\n",
    "        print(year, \"is a leap year\")\n",
    "else:\n",
    "    print(year, \"is not a leap year\")"
   ]
  },
  {
   "cell_type": "code",
   "execution_count": 100,
   "metadata": {},
   "outputs": [
    {
     "name": "stdout",
     "output_type": "stream",
     "text": [
      "The inch is 12.204724409448819\n",
      "The Feet is  1.0170603674540681\n"
     ]
    }
   ],
   "source": [
    "# Python Program to Read Height in Centimeters and then Convert the Height to Feet and Inches\n",
    "height=int(input(\"Enter the height in cms\"))\n",
    "print(\"The inch is\" ,height/2.54)\n",
    "print(\"The Feet is \",height/30.48)"
   ]
  },
  {
   "cell_type": "code",
   "execution_count": 104,
   "metadata": {},
   "outputs": [
    {
     "name": "stdout",
     "output_type": "stream",
     "text": [
      "The farenheit is 100.4\n"
     ]
    }
   ],
   "source": [
    "# Python Program to Take the Temperature in Celcius and Covert it to Farenheit\n",
    "celcius=float(input(\"Enter the Celcius\"))\n",
    "print(\"The farenheit is\",(celcius*1.8)+32)"
   ]
  },
  {
   "cell_type": "code",
   "execution_count": null,
   "metadata": {},
   "outputs": [],
   "source": [
    "# Python Program to Compute Prime Factors of an Integer\n"
   ]
  },
  {
   "cell_type": "code",
   "execution_count": 108,
   "metadata": {},
   "outputs": [
    {
     "data": {
      "text/plain": [
       "[1, 3, 5, 9, 15, 45]"
      ]
     },
     "execution_count": 108,
     "metadata": {},
     "output_type": "execute_result"
    }
   ],
   "source": [
    "# Python Program to Generate all the Divisors of an Integer\n",
    "def get_divisors(n):\n",
    "    divisors = []\n",
    "    for i in range(1, n + 1):\n",
    "        if n % i == 0:\n",
    "            divisors.append(i)\n",
    "    return divisors\n",
    "get_divisors(int(input(\"Enter a num\")))\n",
    "        "
   ]
  },
  {
   "cell_type": "code",
   "execution_count": 110,
   "metadata": {},
   "outputs": [
    {
     "name": "stdout",
     "output_type": "stream",
     "text": [
      "5 * 1 = 5\n",
      "5 * 2 = 10\n",
      "5 * 3 = 15\n",
      "5 * 4 = 20\n",
      "5 * 5 = 25\n",
      "5 * 6 = 30\n",
      "5 * 7 = 35\n",
      "5 * 8 = 40\n",
      "5 * 9 = 45\n",
      "5 * 10 = 50\n"
     ]
    }
   ],
   "source": [
    "# Python Program to Print Table of a Given Number\n",
    "def table(num):\n",
    "    for i in range(1, 11):\n",
    "        print(num,'*',i,'=',num * i)\n",
    "table(int(input(\"Enter the num\")))"
   ]
  },
  {
   "cell_type": "code",
   "execution_count": 116,
   "metadata": {},
   "outputs": [
    {
     "name": "stdout",
     "output_type": "stream",
     "text": [
      "Sum of positive even numbers: 0\n",
      "Sum of positive odd numbers: 240\n",
      "Sum of negative numbers: -194\n"
     ]
    }
   ],
   "source": [
    "# Python Program to Print Sum of Negative Numbers, Positive Even Numbers and Positive Odd numbers in a List   \n",
    "def calculate_sums(numbers):\n",
    "    sum_even = 0\n",
    "    sum_odd = 0\n",
    "    sum_neg = 0\n",
    "    for i in numbers:\n",
    "        if i > 0 and i % 2 == 0:\n",
    "            sum_even += i\n",
    "        elif i > 0 and i % 2 != 0:\n",
    "            sum_odd += i\n",
    "        elif i < 0:\n",
    "            sum_neg += i\n",
    "    return sum_even, sum_odd, sum_neg\n",
    "\n",
    "numbers = list(map(int, input(\"Enter the numbers with space: \").split()))\n",
    "sum_even, sum_odd, sum_neg = calculate_sums(numbers)\n",
    "print(f\"Sum of positive even numbers: {sum_even}\")\n",
    "print(f\"Sum of positive odd numbers: {sum_odd}\")\n",
    "print(f\"Sum of negative numbers: {sum_neg}\")\n"
   ]
  },
  {
   "cell_type": "code",
   "execution_count": 123,
   "metadata": {},
   "outputs": [
    {
     "data": {
      "text/plain": [
       "(8, -1)"
      ]
     },
     "execution_count": 123,
     "metadata": {},
     "output_type": "execute_result"
    }
   ],
   "source": [
    "# Python Program to Print Largest Even and Largest Odd Number in a List\n",
    "def large(num):\n",
    "    if num % 2 == 0:\n",
    "        return True\n",
    "    else:\n",
    "        return False\n",
    "def largest_even_odd(lst):\n",
    "    even = [num for num in lst if large(num)]\n",
    "    odd = [num for num in lst if not large(num)]\n",
    "    return max(even), max(odd)\n",
    "largest_even_odd(list(map(int, input(\"Enter the numbers with space: \").split())))\n",
    "\n"
   ]
  },
  {
   "cell_type": "code",
   "execution_count": null,
   "metadata": {},
   "outputs": [],
   "source": [
    "# Python Program to Form an Integer that has the Number of Digits at Ten's Place and the Least Significant Digit of the Entered Integer at One's Place\n"
   ]
  },
  {
   "cell_type": "code",
   "execution_count": 125,
   "metadata": {},
   "outputs": [
    {
     "data": {
      "text/plain": [
       "[35]"
      ]
     },
     "execution_count": 125,
     "metadata": {},
     "output_type": "execute_result"
    }
   ],
   "source": [
    "# Python Program to Find Those Numbers which are Divisible by 7 and Multiple of 5 in a Given Range of Numbers\n",
    "\n",
    "def num(num):\n",
    "    if num % 7 == 0 and num % 5 == 0:\n",
    "        return True \n",
    "    else:\n",
    "        return False\n",
    "def find_numbers(start, end):\n",
    "    numbers = [i for i in range(start, end + 1) if num(i)]\n",
    "    return numbers\n",
    "start=int(input(\"Enter the start point\"))\n",
    "end=int(input(\"Enter the End point\"))\n",
    "find_numbers(start,end)"
   ]
  },
  {
   "cell_type": "code",
   "execution_count": 162,
   "metadata": {},
   "outputs": [
    {
     "name": "stdout",
     "output_type": "stream",
     "text": [
      "True\n"
     ]
    }
   ],
   "source": [
    "# Python Program to Check if a Number is an Armstrong Number\n",
    "def armstrong(num):\n",
    "    sum=0\n",
    "    t=num\n",
    "    while num>0:\n",
    "        temp=num%10\n",
    "        sum+=(temp**3)\n",
    "        num=num//10\n",
    "    if t==sum:\n",
    "        return True\n",
    "    else:\n",
    "        return False\n",
    "print(armstrong(153)) "
   ]
  },
  {
   "cell_type": "code",
   "execution_count": 170,
   "metadata": {},
   "outputs": [
    {
     "name": "stdout",
     "output_type": "stream",
     "text": [
      "1\n",
      "1 1\n",
      "1 2 1\n",
      "1 3 3 1\n",
      "1 4 6 4 1\n",
      "1 5 10 10 5 1\n",
      "1 6 15 20 15 6 1\n",
      "1 7 21 35 35 21 7 1\n",
      "1 8 28 56 70 56 28 8 1\n",
      "1 9 36 84 126 126 84 36 9 1\n"
     ]
    }
   ],
   "source": [
    "# Python Program to Print the Pascal's triangle for n number of rows given by the user\n",
    "def print_pascals_triangle(rows):\n",
    "    pascal_triangle = []\n",
    "    for i in range(rows):\n",
    "        row = []\n",
    "        for j in range(i + 1):\n",
    "            if j == 0 or j == i:\n",
    "                row.append(1)\n",
    "            else:\n",
    "                row.append(pascal_triangle[i-1][j-1] + pascal_triangle[i-1][j])\n",
    "        pascal_triangle.append(row)\n",
    "    \n",
    "    for row in pascal_triangle:\n",
    "        print(' '.join(map(str, row)))\n",
    "\n",
    "rows = int(input(\"Enter the number of rows: \"))\n",
    "print_pascals_triangle(rows)\n"
   ]
  },
  {
   "cell_type": "code",
   "execution_count": 175,
   "metadata": {},
   "outputs": [
    {
     "data": {
      "text/plain": [
       "True"
      ]
     },
     "execution_count": 175,
     "metadata": {},
     "output_type": "execute_result"
    }
   ],
   "source": [
    "# Python Program to Check if a Number is a Perfect Number\n",
    "def perfect(num):\n",
    "    sum = 0\n",
    "    for i in range(1, num):\n",
    "        if (num % i == 0):\n",
    "            sum += i\n",
    "            if (sum == num):\n",
    "                return True\n",
    "        else:\n",
    "            return False    \n",
    "perfect(int(input(\"enter a num\")))"
   ]
  },
  {
   "cell_type": "code",
   "execution_count": 3,
   "metadata": {},
   "outputs": [
    {
     "data": {
      "text/plain": [
       "True"
      ]
     },
     "execution_count": 3,
     "metadata": {},
     "output_type": "execute_result"
    }
   ],
   "source": [
    "# Python Program to Check if a Number is a Strong Number\n",
    "def check_strong_number(num):    \n",
    "    str_num = str(num)\n",
    "    sum= 0\n",
    "    for digit in str_num:\n",
    "        sum+= int(digit) ** len(str_num)\n",
    "        return sum == num\n",
    "check_strong_number(6)"
   ]
  },
  {
   "cell_type": "code",
   "execution_count": 4,
   "metadata": {},
   "outputs": [
    {
     "name": "stdout",
     "output_type": "stream",
     "text": [
      "The LCM of 4 and 5 is 20\n"
     ]
    }
   ],
   "source": [
    "# Python Program to Find the LCM of Two Numbers\n",
    "def find_lcm(x, y):\n",
    "    if x > y:\n",
    "        greater = x\n",
    "    else:\n",
    "        greater = y\n",
    "\n",
    "    while True:\n",
    "        if greater % x == 0 and greater % y == 0:\n",
    "            lcm = greater\n",
    "            break\n",
    "        greater += 1\n",
    "\n",
    "    return lcm\n",
    "\n",
    "num1 = int(input(\"Enter the first number: \"))\n",
    "num2 = int(input(\"Enter the second number: \"))\n",
    "print(\"The LCM of\", num1, \"and\", num2, \"is\", find_lcm(num1, num2))\n"
   ]
  },
  {
   "cell_type": "code",
   "execution_count": null,
   "metadata": {},
   "outputs": [],
   "source": [
    "# Python Program to Find the GCD of Two Numbers\n",
    "def find_gcd(x, y):\n",
    "    while(y):\n",
    "        x, y = y, x % y\n",
    "    return x\n",
    "\n",
    "# Example usage\n",
    "num1 = int(input(\"Enter the first number: \"))\n",
    "num2 = int(input(\"Enter the second number: \"))\n",
    "print(\"The GCD of\", num1, \"and\", num2, \"is\", find_gcd(num1, num2))\n"
   ]
  },
  {
   "cell_type": "code",
   "execution_count": null,
   "metadata": {},
   "outputs": [],
   "source": [
    "# Python Program to Compute a Polynomial Equation given that the Coefficients of the Polynomial are stored in a List\n",
    "\n"
   ]
  },
  {
   "cell_type": "code",
   "execution_count": 5,
   "metadata": {},
   "outputs": [
    {
     "name": "stdout",
     "output_type": "stream",
     "text": [
      "4 and 55 are not amicable numbers.\n"
     ]
    },
    {
     "ename": "",
     "evalue": "",
     "output_type": "error",
     "traceback": [
      "\u001b[1;31mThe Kernel crashed while executing code in the current cell or a previous cell. \n",
      "\u001b[1;31mPlease review the code in the cell(s) to identify a possible cause of the failure. \n",
      "\u001b[1;31mClick <a href='https://aka.ms/vscodeJupyterKernelCrash'>here</a> for more info. \n",
      "\u001b[1;31mView Jupyter <a href='command:jupyter.viewOutput'>log</a> for further details."
     ]
    }
   ],
   "source": [
    "# Python Program to Check If Two Numbers are Amicable Numbers\n",
    "def divisors(n):\n",
    "    divisors_sum = 0\n",
    "    for i in range(1, n):\n",
    "        if n % i == 0:\n",
    "            divisors_sum += i\n",
    "    return divisors_sum\n",
    "\n",
    "def are_amicable(num1, num2):\n",
    "    return divisors(num1) == num2 and divisors(num2) == num1\n",
    "\n",
    "num1 = int(input(\"Enter the first number: \"))\n",
    "num2 = int(input(\"Enter the second number: \"))\n",
    "\n",
    "if are_amicable(num1, num2):\n",
    "    print(f\"{num1} and {num2} are amicable numbers.\")\n",
    "else:\n",
    "    print(f\"{num1} and {num2} are not amicable numbers.\")\n"
   ]
  },
  {
   "cell_type": "code",
   "execution_count": 2,
   "metadata": {},
   "outputs": [
    {
     "name": "stdout",
     "output_type": "stream",
     "text": [
      "6.0\n"
     ]
    }
   ],
   "source": [
    "# Python Program to Find the Area of a Triangle Given All Three Sides\n",
    "\n",
    "    \n",
    "side1=int(input(\"Enter side 1:\"))\n",
    "side2=int(input(\"Enter side 2:\"))\n",
    "side3=int(input(\"Enter side 3:\"))\n",
    "sum=(side1+side2+side3)/2\n",
    "num=(sum*((sum-side1)*(sum-side2)*(sum-side3)))**0.5\n",
    "print(\"The Area of Triangle is \",num)"
   ]
  },
  {
   "cell_type": "code",
   "execution_count": 4,
   "metadata": {},
   "outputs": [
    {
     "name": "stdout",
     "output_type": "stream",
     "text": [
      "The gravitational force btn is: 3.707944444444444e-11\n"
     ]
    }
   ],
   "source": [
    "# Python Program to Find the Gravitational Force Acting Between Two Objects\n",
    "def grav(m1,m2,r):\n",
    "    g=6.67430e-11\n",
    "    force=g*(m1*m2)/r**2\n",
    "    return force\n",
    "\n",
    "m1=int(input(\"Enter m1:\"))\n",
    "m2=int(input(\"Enter m2:\"))\n",
    "r=int(input(\"Enter r:\"))\n",
    "print(\"The gravitational force btn is:\",grav(m1,m2,r))"
   ]
  },
  {
   "cell_type": "code",
   "execution_count": 5,
   "metadata": {},
   "outputs": [
    {
     "name": "stdout",
     "output_type": "stream",
     "text": [
      "False\n"
     ]
    }
   ],
   "source": [
    "# Python Program to Check if a Number is a Prime Number\n",
    "def isprime(num):\n",
    "    if num <= 1:\n",
    "        return False\n",
    "    for i in range(2, int(num**0.5) + 1):\n",
    "        if num % i == 0:\n",
    "            return False\n",
    "    return True\n",
    "print(isprime(int(input(\"enter the num\"))))"
   ]
  },
  {
   "cell_type": "code",
   "execution_count": null,
   "metadata": {},
   "outputs": [],
   "source": [
    "# Python Program to Print all the Prime Numbers within a Given Range\n",
    "def prime(num):\n",
    "    for i in range (2, num**0.5):\n",
    "        "
   ]
  },
  {
   "cell_type": "code",
   "execution_count": null,
   "metadata": {},
   "outputs": [],
   "source": [
    "# Python Program to Print Numbers in a Range (1,upper) Without Using any Loops\n"
   ]
  },
  {
   "cell_type": "code",
   "execution_count": null,
   "metadata": {},
   "outputs": [],
   "source": [
    "# Python Program to Find the Sum of Sine Series\n"
   ]
  },
  {
   "cell_type": "code",
   "execution_count": null,
   "metadata": {},
   "outputs": [],
   "source": [
    "# Python Program to Find the Sum of Cosine Series\n"
   ]
  },
  {
   "cell_type": "code",
   "execution_count": 4,
   "metadata": {},
   "outputs": [
    {
     "data": {
      "text/plain": [
       "4005"
      ]
     },
     "execution_count": 4,
     "metadata": {},
     "output_type": "execute_result"
    }
   ],
   "source": [
    "# Python Program to Find the Sum of First N Natural Numbers\n",
    "def natural(num):\n",
    "    sum=0\n",
    "    for i in range (num):\n",
    "        sum+=i\n",
    "    return sum\n",
    "natural(int(input(\"Enter nth num\")))"
   ]
  },
  {
   "cell_type": "code",
   "execution_count": null,
   "metadata": {},
   "outputs": [],
   "source": [
    "# Python Program to Find the Sum of the Series: 1 + 1/2 + 1/3 + ….. + 1/N\n",
    "\n"
   ]
  },
  {
   "cell_type": "code",
   "execution_count": null,
   "metadata": {},
   "outputs": [],
   "source": [
    "# Python Program to Find the Sum of the Series: 1 + x^2/2 + x^3/3 + … x^n/n\n",
    "\n"
   ]
  },
  {
   "cell_type": "code",
   "execution_count": null,
   "metadata": {},
   "outputs": [],
   "source": [
    "# Python Program to Compute the Value of Euler's Number e. Use the Formula: e = 1 + 1/1! + 1/2! + …… 1/n!\n"
   ]
  },
  {
   "cell_type": "code",
   "execution_count": null,
   "metadata": {},
   "outputs": [],
   "source": [
    "# Python Program to Determine all Pythagorean Triplets in the Range\n",
    "\n"
   ]
  },
  {
   "cell_type": "code",
   "execution_count": null,
   "metadata": {},
   "outputs": [],
   "source": [
    "# Python Program to Search the Number of Times a Particular Number Occurs in a List\n",
    "def occurs(num):\n",
    "    ch=str(num)\n",
    "    for i in ch:\n",
    "        "
   ]
  },
  {
   "cell_type": "code",
   "execution_count": null,
   "metadata": {},
   "outputs": [],
   "source": [
    "# Python Program to test Collatz Conjecture for a Given Number\n"
   ]
  },
  {
   "cell_type": "code",
   "execution_count": null,
   "metadata": {},
   "outputs": [],
   "source": [
    "# Python Program to Count Set Bits in a Number\n"
   ]
  },
  {
   "cell_type": "code",
   "execution_count": null,
   "metadata": {},
   "outputs": [],
   "source": [
    "# Python Program to Find Whether a Number is a Power of Two\n"
   ]
  }
 ],
 "metadata": {
  "kernelspec": {
   "display_name": "Python 3",
   "language": "python",
   "name": "python3"
  },
  "language_info": {
   "codemirror_mode": {
    "name": "ipython",
    "version": 3
   },
   "file_extension": ".py",
   "mimetype": "text/x-python",
   "name": "python",
   "nbconvert_exporter": "python",
   "pygments_lexer": "ipython3",
   "version": "3.12.5"
  }
 },
 "nbformat": 4,
 "nbformat_minor": 2
}
