{
 "cells": [
  {
   "cell_type": "code",
   "execution_count": 2,
   "metadata": {},
   "outputs": [],
   "source": [
    "# WAP to Perform Logical String operations\n",
    "\n",
    "\n",
    "# 1. WAP to check if a string is palindrome or not\n",
    "# 2. WAP to check if a srtring is in upper case or not\n",
    "# 3. WAP to check if a string is in lower case or not\n",
    "# 4. WAP to check if a string is alphanumeric or not\n",
    "# 5. WAP to check if a string is alphabetic or not\n",
    "# 6. WAP to check if a string is digit or not\n",
    "# 7. WAP to check if a string is titlecase or not\n",
    "# 8. WAP to check if a string is uppercase or not\n",
    "# 9. WAP to check if a string is lowercase or not\n",
    "# 10. WAP to check if a string is numeric or not\n",
    "# 11. WAP to check if a string is printable or not\n",
    "# 12. WAP to check if a string is whitespace or not\n",
    "# 13. WAP to check if a string is empty or not\n",
    "# 14. WAP to check if a string is ascii or not\n",
    "# 15. WAP to check if a string is decimal or not\n",
    "# 16. WAP to check if a string is hexdecimal or not\n",
    "# 17. WAP to check if a string is octal or not\n",
    "# 18. WAP to check if a string is identifier or not\n",
    "# 19. WAP to check if a string is printable or not\n"
   ]
  },
  {
   "cell_type": "code",
   "execution_count": 4,
   "metadata": {},
   "outputs": [
    {
     "name": "stdout",
     "output_type": "stream",
     "text": [
      "Not Palindrome\n"
     ]
    }
   ],
   "source": [
    "# 1. WAP to check if a string is palindrome or not\n",
    "stn = input()\n",
    "s =len(stn)/2\n",
    "i = 0\n",
    "count=0\n",
    "while i<=s:\n",
    "    if stn[i]==stn[-i-1]:\n",
    "        count+=1\n",
    "    i+=1\n",
    "if count==s:\n",
    "    print(\"Palindrome\")\n",
    "else:\n",
    "    print(\"Not Palindrome\")"
   ]
  },
  {
   "cell_type": "code",
   "execution_count": 9,
   "metadata": {},
   "outputs": [
    {
     "name": "stdout",
     "output_type": "stream",
     "text": [
      "[4, 5, 6, 7]\n"
     ]
    }
   ],
   "source": [
    "# WAP to print fist half of he given list\n",
    "l=[1,2,3,4,5,6,7,8]\n",
    "a=[]\n",
    "for i in range(len(l)//2,len(l)):\n",
    "    a+=[i]\n",
    "print(a)"
   ]
  },
  {
   "cell_type": "code",
   "execution_count": 16,
   "metadata": {},
   "outputs": [
    {
     "name": "stdout",
     "output_type": "stream",
     "text": [
      "[1, 2, 3, 4, 5, 7, 6, 8]\n"
     ]
    }
   ],
   "source": [
    "# Remioe dupilicates from the given list\n",
    "l=[1,2,3,4,1,3,5,7,5,6,7,8]\n",
    "a=[]\n",
    "for i in l:\n",
    "    if i not in a:\n",
    "        a+=[i]\n",
    "print(a)"
   ]
  },
  {
   "cell_type": "code",
   "execution_count": 19,
   "metadata": {},
   "outputs": [
    {
     "name": "stdout",
     "output_type": "stream",
     "text": [
      "6\n"
     ]
    }
   ],
   "source": [
    "# WAP to print second largest element from the given without sorting\n",
    "l=[1,4,6,2,5,6,9,8]\n",
    "ld=0 \n",
    "sld=0 \n",
    "for i in l: \n",
    "    if i>ld: \n",
    "        sld=ld \n",
    "        ld=i \n",
    "    elif sld<ld and ld!=i:  \n",
    "        sld=i \n",
    "print(sld)          "
   ]
  },
  {
   "cell_type": "markdown",
   "metadata": {},
   "source": []
  },
  {
   "cell_type": "code",
   "execution_count": 20,
   "metadata": {},
   "outputs": [
    {
     "name": "stdout",
     "output_type": "stream",
     "text": [
      "{1: 4, 2: 9, 3: 16, 5: 36}\n"
     ]
    }
   ],
   "source": [
    "d={1:2,2:3,3:4,5:6}\n",
    "for i in d:\n",
    "    d[i]=d[i]**2\n",
    "print(d)"
   ]
  },
  {
   "cell_type": "code",
   "execution_count": 21,
   "metadata": {},
   "outputs": [
    {
     "name": "stdout",
     "output_type": "stream",
     "text": [
      "{1: 2, 2: 16, 3: 45, 4: 32}\n"
     ]
    }
   ],
   "source": [
    "d={1:2,2:4,3:5,4:2}\n",
    "for i in d:\n",
    "    d[i]=(d[i]*i)*i\n",
    "print(d)"
   ]
  },
  {
   "cell_type": "code",
   "execution_count": 27,
   "metadata": {},
   "outputs": [
    {
     "name": "stdout",
     "output_type": "stream",
     "text": [
      "{1: 2, 2: 4, 3: 5, 5: 6, 4: 2}\n"
     ]
    }
   ],
   "source": [
    "d1={1:2,2:4,3:5,4:2}\n",
    "d2={1:2,2:3,3:4,5:6}\n",
    "for i   in d1:\n",
    "    d2[i]=d1[i]\n",
    "print(d2)"
   ]
  },
  {
   "cell_type": "code",
   "execution_count": 32,
   "metadata": {},
   "outputs": [
    {
     "name": "stdout",
     "output_type": "stream",
     "text": [
      "{1: 4, 2: 5, 3: 6}\n"
     ]
    }
   ],
   "source": [
    "l1=[1,2,3]\n",
    "l2=[4,5,6]\n",
    "\n",
    "d={}\n",
    "keys=0\n",
    "for i in l1:\n",
    "    d[i]=l2[keys]\n",
    "    keys+=1\n",
    "print(d)\n",
    "    "
   ]
  },
  {
   "cell_type": "code",
   "execution_count": 42,
   "metadata": {},
   "outputs": [
    {
     "name": "stdout",
     "output_type": "stream",
     "text": [
      "10 is not exist\n"
     ]
    }
   ],
   "source": [
    "d1={1:2,2:4,3:5,4:2}\n",
    "ch=int(input(\"enter the key:\"))\n",
    "if ch in d1:\n",
    "    print(ch,\"is exist\")\n",
    "else :\n",
    "    print(ch,\"is not exist\")"
   ]
  }
 ],
 "metadata": {
  "kernelspec": {
   "display_name": "Python 3",
   "language": "python",
   "name": "python3"
  },
  "language_info": {
   "codemirror_mode": {
    "name": "ipython",
    "version": 3
   },
   "file_extension": ".py",
   "mimetype": "text/x-python",
   "name": "python",
   "nbconvert_exporter": "python",
   "pygments_lexer": "ipython3",
   "version": "3.12.5"
  }
 },
 "nbformat": 4,
 "nbformat_minor": 2
}
